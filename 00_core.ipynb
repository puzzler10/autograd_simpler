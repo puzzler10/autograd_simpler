{
 "cells": [
  {
   "cell_type": "code",
   "execution_count": null,
   "metadata": {},
   "outputs": [],
   "source": [
    "# default_exp core"
   ]
  },
  {
   "cell_type": "markdown",
   "metadata": {},
   "source": [
    "# Implementing autograd from scratch\n",
    "\n",
    "> This will have both code and documentation in it"
   ]
  },
  {
   "cell_type": "code",
   "execution_count": null,
   "metadata": {},
   "outputs": [],
   "source": [
    "#hide\n",
    "from nbdev.showdoc import *\n",
    "%load_ext autoreload\n",
    "%autoreload 2\n",
    "from IPython.core.debugger import set_trace\n",
    "from IPython.display import Markdown as md\n"
   ]
  },
  {
   "cell_type": "code",
   "execution_count": null,
   "metadata": {},
   "outputs": [],
   "source": [
    "import numpy as np\n",
    "import numpy as onp\n",
    "import autograd \n",
    "path_assets = './assets/'"
   ]
  },
  {
   "cell_type": "markdown",
   "metadata": {},
   "source": [
    "### Prerequsites "
   ]
  },
  {
   "cell_type": "markdown",
   "metadata": {},
   "source": [
    "* you know what backpropagation is and roughly how it works\n",
    "* you know what autodifferentiation is "
   ]
  },
  {
   "cell_type": "markdown",
   "metadata": {},
   "source": [
    "### What are we trying to find?\n"
   ]
  },
  {
   "cell_type": "markdown",
   "metadata": {},
   "source": [
    "We have to have a function we want to differentiate. This function will take in some number of variables: one, two, three... however many. If our function is called $f$, we are looking to find $df/dv$, where $v$ is one of these variables.  "
   ]
  },
  {
   "cell_type": "markdown",
   "metadata": {},
   "source": [
    "Here we define a function in two variables: x and y. $$f = \\log(x^2) + y^2 + xy$$"
   ]
  },
  {
   "cell_type": "code",
   "execution_count": null,
   "metadata": {},
   "outputs": [],
   "source": [
    "def f(x,y):    return np.log(x**2) + y**2 + x*y"
   ]
  },
  {
   "cell_type": "markdown",
   "metadata": {},
   "source": [
    "The aim is to create a function `grad` that takes `f` as an input and returns a function with its gradient wrt a variable. So for our function above, `grad` can give us the answer of either $df/dx$ or $df/dy$, depending on what variable we tell it to differentiate with respect to. Let's define `grad`, giving it dummy values for now."
   ]
  },
  {
   "cell_type": "markdown",
   "metadata": {},
   "source": [
    "How do we choose this variable? We don't do it by name, telling the function either 'x' or 'y'. Rather, we give it a number (call it `argnum`), and say, \"Differentiate `f` with respect to the `argnum`th input.\" `f` has an argument list, and `argnum` is the index of this variable list, which corresponds to the variable we are interested in. "
   ]
  },
  {
   "cell_type": "markdown",
   "metadata": {},
   "source": [
    "`grad` has a nested structure: it returns a function `gradfun` that in turn returns the gradient. Notice the use of `*args` and `**kwargs` below. This is needed in the inner function `gradfun` because a) it doesnt' know how many arguments `f` takes; b) you can choose to call those arguments either with or without keywords. If you call them without keywords, the arguments are stored in `*args`, and if you call them with keywords, the arguments are stores in `**kwargs`."
   ]
  },
  {
   "cell_type": "code",
   "execution_count": null,
   "metadata": {},
   "outputs": [
    {
     "name": "stdout",
     "output_type": "stream",
     "text": [
      "Args (1, 2)\n",
      "Kwargs {}\n",
      "dfdx 2.0\n",
      "Args ()\n",
      "Kwargs {'x': 13, 'y': 4}\n",
      "dfdy 21\n"
     ]
    }
   ],
   "source": [
    "def grad(f, argnum = 0): \n",
    "    \"\"\"Returns a function that finds the gradient\"\"\"\n",
    "    def gradfun(*args, **kwargs):\n",
    "        \"\"\"Returns the actual gradient \"\"\"\n",
    "        print (\"Args\", args)\n",
    "        print (\"Kwargs\", kwargs)\n",
    "        if len(args) != 0: x,y = args\n",
    "        if len(kwargs) != 0: x,y = kwargs.values()\n",
    "        # Dummy values. Returns correct gradient only for our function f above. \n",
    "        # Use these values until we calculate the true ones using autodiff. \n",
    "        #### remove this code once true code written\n",
    "        if   argnum == 0: return 2*x * np.log(x**2) + y  # df/dx\n",
    "        elif argnum == 1: return 2*y + x                 # df/dy\n",
    "        #### \n",
    "        # true autograd code goes here \n",
    "        ####\n",
    "    return gradfun\n",
    "# example usage\n",
    "dfdx = grad(f, argnum = 0)\n",
    "dfdy = grad(f, argnum = 1)\n",
    "print(\"dfdx\", dfdx(1,2))      # call gradient w/out keywords, values go into *args    in gradfun \n",
    "print(\"dfdy\", dfdy(x=13,y=4)) # call gradient with  keywords, values go into **kwargs in gradfun "
   ]
  },
  {
   "cell_type": "markdown",
   "metadata": {},
   "source": [
    "So that's our goal. We are trying to build this `grad` function properly, following the structure defined above. "
   ]
  },
  {
   "cell_type": "markdown",
   "metadata": {},
   "source": [
    "### Building a computation graph "
   ]
  },
  {
   "cell_type": "markdown",
   "metadata": {},
   "source": [
    "Say you had some expression, like $ (4 \\times 5) + 2 - 4$. I'm sure you know the answer to this, but how would a computer work it out? "
   ]
  },
  {
   "cell_type": "markdown",
   "metadata": {},
   "source": [
    "You may remember the order of operations used to work out these expressions; I learnt the acronym [BODMAS](https://www.mathsisfun.com/operation-order-bodmas.html) to remember these. Python has its own order of operations too, governed by the hierarchy of [operator precedence](https://docs.python.org/3/reference/expressions.html#operator-precedence). Python breaks down an expression and executes it in this order. You can view the breakdown of an expression as a computation graph, where each node is an action (x3, +5, log) and where the graph doesn't have any loops (it is a DAG). "
   ]
  },
  {
   "cell_type": "markdown",
   "metadata": {},
   "source": [
    "The computation graph is very important to us. It is used in the backpropagation algorithm. The idea is that becuase each node of the graph is a simple operation (like +, x, log), working out its derivative is also easy. The gradient at a point on the computation graph is called the local gradient. Start at the head node and combine local gradients together until you reach a leaf node. Then this leaf node has the answer you seek. "
   ]
  },
  {
   "cell_type": "markdown",
   "metadata": {},
   "source": [
    "Now we need a way to build the computation graph. This is quite a clever idea actually. Typically your functions are made up of operators from the numpy package. What we will do is create a copy of the numpy package and use that copy instead of the original numpy package. The copy works exactly like the original does, except that when it executes functions, it builds a computation graph for us. "
   ]
  },
  {
   "cell_type": "markdown",
   "metadata": {},
   "source": [
    "The easiest way to show this is by an example. Let's say we had the following function: \n",
    "$$ logistic(z) = \\frac{1}{1 + \\exp(-z)} $$"
   ]
  },
  {
   "cell_type": "markdown",
   "metadata": {},
   "source": [
    "We would implement this in code like this"
   ]
  },
  {
   "cell_type": "code",
   "execution_count": null,
   "metadata": {},
   "outputs": [],
   "source": [
    "def logistic(z): return 1 / (1 + np.exp(-z))"
   ]
  },
  {
   "cell_type": "markdown",
   "metadata": {},
   "source": [
    "\n",
    "Numpy typically overwrites common operators, meaning it replaces $+, \\times, / $ with its own numpy equivalents `np.add`, `np.multiply`, `np.divide` and so on. It does this defining the methods  `__add__`,`__mult__`,`__div__` in the `numpy.ndarray` class. So the effect of this is that `logistic(z)` gets transformed into something like this: "
   ]
  },
  {
   "cell_type": "code",
   "execution_count": null,
   "metadata": {},
   "outputs": [],
   "source": [
    "def logistic2(z): return np.reciprocal(np.add(1, np.exp(np.negative(z))))"
   ]
  },
  {
   "cell_type": "markdown",
   "metadata": {},
   "source": [
    "Let's apply the order of operations, or in other words the order that Python breaks down this expression. This has the same effect as constructing a number of intermediate variables, one after each operation. These intermediate variables store the result of a simple operation with the previous one, like $+, \\times, / $ etc. These simple operations are called **primitives** and they are important later. Let's call the intermediate variables $t_1, t_2, t_3...$, the input to the function $z$, and the final value $y$. "
   ]
  },
  {
   "cell_type": "code",
   "execution_count": null,
   "metadata": {},
   "outputs": [],
   "source": [
    "def logistic3(z): \n",
    "    t1 = np.negative(z) \n",
    "    t2 = np.exp(t1)\n",
    "    t3 = np.add(1, t2)\n",
    "    y = np.reciprocal(t3) \n",
    "    return y"
   ]
  },
  {
   "cell_type": "markdown",
   "metadata": {},
   "source": [
    "Next we want to turn `logistic2` into a computation graph, with nodes and links between them. Here's what this graph looks like."
   ]
  },
  {
   "cell_type": "markdown",
   "metadata": {},
   "source": [
    "<img src=\"assets/node_tree.svg\" width=\"240\"/>"
   ]
  },
  {
   "cell_type": "markdown",
   "metadata": {},
   "source": [
    "We will eventually define a class called `Node` and each node in the graph will be a member of this class. We define the links between nodes with the 'parents' attribute. Leaf nodes do not have parents. The leaf nodes above are $1$ and $z$.  "
   ]
  },
  {
   "cell_type": "markdown",
   "metadata": {},
   "source": [
    "Below is a representation of the computational graphs, now using Nodes. The numbers in `value` indicate the value of that intermediate variable. The function was given $z=1.5$ as an input and outputs $y=0.818$. "
   ]
  },
  {
   "cell_type": "markdown",
   "metadata": {},
   "source": [
    "<img src=\"assets/node_tree.png\" width=\"800\"/>"
   ]
  },
  {
   "cell_type": "markdown",
   "metadata": {},
   "source": [
    "Let's confirm we get the same answer. "
   ]
  },
  {
   "cell_type": "code",
   "execution_count": null,
   "metadata": {},
   "outputs": [
    {
     "data": {
      "text/plain": [
       "0.818"
      ]
     },
     "execution_count": null,
     "metadata": {},
     "output_type": "execute_result"
    }
   ],
   "source": [
    "np.round(logistic3(1.5),3)"
   ]
  },
  {
   "cell_type": "markdown",
   "metadata": {},
   "source": [
    "#### Constructing the Node class"
   ]
  },
  {
   "cell_type": "markdown",
   "metadata": {},
   "source": [
    "Now we can construct a first version of the Node class. For each Node, we need at least `value`, a function (`fun`) and `parents`. Let's create an tuple called `recipe` that we store `fun` and `value` in. "
   ]
  },
  {
   "cell_type": "markdown",
   "metadata": {},
   "source": [
    "We also will create a function called `initialise_root` that starts off the graph. A root of the tree doesn't have any parents, its function is just the identity function, and it has no value. "
   ]
  },
  {
   "cell_type": "code",
   "execution_count": null,
   "metadata": {},
   "outputs": [],
   "source": [
    "class Node:\n",
    "    \"\"\"A node in a computation graph.\"\"\"\n",
    "    def __init__(self, value, fun, parents):\n",
    "        self.parents = parents\n",
    "        self.recipe = (fun, value)\n",
    "        # my additions\n",
    "        self._value = value\n",
    "        self._fun = fun \n",
    "\n",
    "    def initialize_root(self):\n",
    "        self.parents = []\n",
    "        self.recipe = (lambda x: x, None)"
   ]
  },
  {
   "cell_type": "markdown",
   "metadata": {},
   "source": [
    "Now we have the Node class, we could manually build a computational graph if we wanted to. (We don't create a Node for $1$ or other scalars, just intermediate variables)"
   ]
  },
  {
   "cell_type": "code",
   "execution_count": null,
   "metadata": {},
   "outputs": [
    {
     "name": "stdout",
     "output_type": "stream",
     "text": [
      "0.818\n"
     ]
    }
   ],
   "source": [
    "import numpy as np\n",
    "val_z = 1.5 \n",
    "z = Node(val_z, None, [])\n",
    "val_t1 = np.negative(val_z)\n",
    "t1 = Node(val_t1,np.negative, [z])\n",
    "val_t2 = np.exp(val_t1)\n",
    "t2 = Node(val_t2, np.exp, [t1])\n",
    "val_t3 = np.add(val_t2, 1)\n",
    "t3 = Node(val_t3, np.add, [t2])\n",
    "val_y = np.reciprocal(val_t3)\n",
    "y = Node(val_y, np.reciprocal, [t3])\n",
    "print(round(y._value,3)) # same answer as before\n",
    "del np"
   ]
  },
  {
   "cell_type": "markdown",
   "metadata": {},
   "source": [
    "Creating the computational graph this way is both manual and clunky. Time now to build it automatically. "
   ]
  },
  {
   "cell_type": "markdown",
   "metadata": {},
   "source": [
    "### Creating a new version of Numpy"
   ]
  },
  {
   "cell_type": "markdown",
   "metadata": {},
   "source": [
    "It would be great if numpy created a node for each intermediate variable and added it to our graph. But it won't do that. So it's time to make our own version of Numpy so we can trace the flow of execution and create our computation graph. "
   ]
  },
  {
   "cell_type": "markdown",
   "metadata": {},
   "source": [
    "First we'll delete the reference to our current numpy and import it under a new name, `onp`"
   ]
  },
  {
   "cell_type": "code",
   "execution_count": null,
   "metadata": {},
   "outputs": [],
   "source": [
    "try:     del np\n",
    "except:  pass \n",
    "import numpy as _np, numpy as onp"
   ]
  },
  {
   "cell_type": "markdown",
   "metadata": {},
   "source": [
    "Throughout this section, I'll refer to the original numpy as `onp`, and the version we are building as `anp`. "
   ]
  },
  {
   "cell_type": "markdown",
   "metadata": {},
   "source": [
    "There's a few things we have to do: \n",
    "\n",
    "* create new versions of `onp` functions. For example, we need to create a function `anp.add` that does everything `onp.add` does, but it also adds a node to the computation graph when called. Same with `anp.multiply`, `anp.divide` etc. \n",
    "* overload operators like $+, \\times, /$ so that they use the `anp` versions: `anp.add`, `anp.multiply`, `anp.divide`, by defining functions like `__add__`, `__mul__`, `__div__`. \n",
    "\n",
    "Each numpy operation is wrapped in a *primitive*. \n"
   ]
  },
  {
   "cell_type": "code",
   "execution_count": null,
   "metadata": {},
   "outputs": [],
   "source": [
    "# Non differentiable functions \n",
    "nograd_functions = [\n",
    "    _np.ndim, _np.shape, _np.iscomplexobj, _np.result_type, _np.zeros_like,\n",
    "    _np.ones_like, _np.floor, _np.ceil, _np.round, _np.rint, _np.around,\n",
    "    _np.fix, _np.trunc, _np.all, _np.any, _np.argmax, _np.argmin,\n",
    "    _np.argpartition, _np.argsort, _np.argwhere, _np.nonzero, _np.flatnonzero,\n",
    "    _np.count_nonzero, _np.searchsorted, _np.sign, _np.ndim, _np.shape,\n",
    "    _np.floor_divide, _np.logical_and, _np.logical_or, _np.logical_not,\n",
    "    _np.logical_xor, _np.isfinite, _np.isinf, _np.isnan, _np.isneginf,\n",
    "    _np.isposinf, _np.allclose, _np.isclose, _np.array_equal, _np.array_equiv,\n",
    "    _np.greater, _np.greater_equal, _np.less, _np.less_equal, _np.equal,\n",
    "    _np.not_equal, _np.iscomplexobj, _np.iscomplex, _np.size, _np.isscalar,\n",
    "    _np.isreal, _np.zeros_like, _np.ones_like, _np.result_type\n",
    "]"
   ]
  },
  {
   "cell_type": "code",
   "execution_count": null,
   "metadata": {},
   "outputs": [],
   "source": [
    "import types\n",
    "unchanged_types = {float, int, type(None), type}\n",
    "int_types = {_np.int, _np.int8, _np.int16, _np.int32, _np.int64, _np.integer}\n",
    "function_types = {_np.ufunc, types.FunctionType, types.BuiltinFunctionType}"
   ]
  },
  {
   "cell_type": "code",
   "execution_count": null,
   "metadata": {},
   "outputs": [],
   "source": [
    "old = _np.__dict__, \n"
   ]
  },
  {
   "cell_type": "code",
   "execution_count": null,
   "metadata": {},
   "outputs": [
    {
     "data": {
      "text/plain": [
       "{'__name__': '__main__',\n",
       " '__doc__': 'Automatically created module for IPython interactive environment',\n",
       " '__package__': None,\n",
       " '__loader__': None,\n",
       " '__spec__': None,\n",
       " '__builtin__': <module 'builtins' (built-in)>,\n",
       " '__builtins__': <module 'builtins' (built-in)>,\n",
       " '_ih': ['',\n",
       "  '# default_exp core',\n",
       "  \"#hide\\nfrom nbdev.showdoc import *\\nget_ipython().run_line_magic('load_ext', 'autoreload')\\nget_ipython().run_line_magic('autoreload', '2')\\nfrom IPython.core.debugger import set_trace\\nfrom IPython.display import Markdown as md\",\n",
       "  \"import numpy as np\\nimport autograd \\npath_assets = './assets/'\",\n",
       "  'def f(x,y):    return np.log(x**2) + y**2 + x*y',\n",
       "  'def grad(f, argnum = 0): \\n    \"\"\"Returns a function that finds the gradient\"\"\"\\n    def gradfun(*args, **kwargs):\\n        \"\"\"Returns the actual gradient \"\"\"\\n        print (\"Args\", args)\\n        print (\"Kwargs\", kwargs)\\n        if len(args) != 0: x,y = args\\n        if len(kwargs) != 0: x,y = kwargs.values()\\n        # Dummy values. Returns correct gradient only for our function f above. \\n        # Use these values until we calculate the true ones using autodiff. \\n        #### remove this code once true code written\\n        if   argnum == 0: return 2*x * np.log(x**2) + y  # df/dx\\n        elif argnum == 1: return 2*y + x                 # df/dy\\n        #### \\n        # true autograd code goes here \\n        ####\\n    return gradfun\\n# example usage\\ndfdx = grad(f, argnum = 0)\\ndfdy = grad(f, argnum = 1)\\nprint(\"dfdx\", dfdx(1,2))      # call gradient w/out keywords, values go into *args    in gradfun \\nprint(\"dfdy\", dfdy(x=13,y=4)) # call gradient with  keywords, values go into **kwargs in gradfun ',\n",
       "  'def logistic(z): return 1 / (1 + np.exp(-z))',\n",
       "  'def logistic2(z): return np.reciprocal(np.add(1, np.exp(np.negative(z))))',\n",
       "  'def logistic3(z): \\n    t1 = np.negative(z) \\n    t2 = np.exp(t1)\\n    t3 = np.add(1, t2)\\n    y = np.reciprocal(t3) \\n    return y',\n",
       "  'np.round(logistic3(1.5),3)',\n",
       "  'class Node:\\n    \"\"\"A node in a computation graph.\"\"\"\\n    def __init__(self, value, fun, parents):\\n        self.parents = parents\\n        self.recipe = (fun, value)\\n        # my additions\\n        self._value = value\\n        self._fun = fun \\n\\n    def initialize_root(self):\\n        self.parents = []\\n        self.recipe = (lambda x: x, None)',\n",
       "  'val_z = 1.5 \\nz = Node(val_z, None, [])\\nval_t1 = np.negative(val_z)\\nt1 = Node(val_t1,np.negative, [z])\\nval_t2 = np.exp(val_t1)\\nt2 = Node(val_t2, np.exp, [t1])\\nval_t3 = np.add(val_t2, 1)\\nt3 = Node(val_t3, np.add, [t2])\\nval_y = np.reciprocal(val_t3)\\ny = Node(val_y, np.reciprocal, [t3])\\nprint(round(y._value,3)) # same answer as before',\n",
       "  'try:     del np\\nexcept:  pass \\nimport numpy as onp',\n",
       "  'class Box:\\n    type_mappings = {}\\n    types = set()\\n    \\n    def __init__(self, value, node): \\n        self._value = value\\n        self._node = node \\n    \\n    @classmethod\\n    def register(cls, value_type): \\n        Box.types.add(cls)\\n        Box.type_mappings[value_type] = cls\\n        #Box.type_mappings[cls] = cls\\n    ',\n",
       "  'box_z = Box()',\n",
       "  'z.value',\n",
       "  'z._value',\n",
       "  'box_z = Box(z._value, z)',\n",
       "  'box_z = Box(z._value, z)\\nbox_t1 = Box(t1._value, t1)',\n",
       "  'box_z = Box(z._value, z)\\nbox_t1 = Box(t1._value, t1)\\nbox_t2 = Box(t2._value, t2)\\nbox_t3 = Box(t3._value, t3)\\nbox_y = Box(y._value, y)',\n",
       "  'box_y',\n",
       "  \"box_y.register(str, 'string_type')\",\n",
       "  \"box_y.register('string_type')\",\n",
       "  'box_y',\n",
       "  'box_y.type_mappings',\n",
       "  'box_y.types',\n",
       "  '#### The ArrayBox ',\n",
       "  'class Box:\\n    # These belong to all members of class Box\\n    type_mappings = {} \\n    types = set()\\n    \\n    def __init__(self, value, node): \\n        self._value = value\\n        self._node = node \\n    \\n    @classmethod\\n    def register(cls, value_type): \\n        \"\"\"cls is Box if called by a Box object, ArrayBox if called with ArrayBox etc\"\"\"\\n        Box.types.add(cls)\\n        Box.type_mappings[value_type] = cls\\n        #Box.type_mappings[cls] = cls\\n    ',\n",
       "  'box_type_mappings = Box.type_mappings\\ndef new_box(value, node):\\n    \"\"\"Box an unboxed value.\\n    Args:\\n      value: unboxed value\\n      node: Node corresponding to this boxed value.\\n    Returns:\\n      Boxed value.\\n    \"\"\"\\n    try:\\n        return box_type_mappings[type(value)](value, trace_id, node)\\n    except KeyError:\\n        raise TypeError(\"Can\\'t differentiate w.r.t. type {}\".format(type(value)))',\n",
       "  'box_type_mappings = Box.type_mappings\\ndef new_box(value, node):\\n    \"\"\"Box an unboxed value.\\n    Args:\\n      value: unboxed value\\n      node: Node corresponding to this boxed value.\\n    Returns:\\n      Boxed value.\\n    \"\"\"\\n    try:\\n        return box_type_mappings[type(value)](value, node)\\n    except KeyError:\\n        raise TypeError(\"Can\\'t differentiate w.r.t. type {}\".format(type(value)))',\n",
       "  'box_type_mappings = Box.type_mappings\\ndef new_box(value, node):\\n    \"\"\"Box an unboxed value.\\n    Args:\\n      value: unboxed value\\n      node: Node corresponding to this boxed value.\\n    Returns:\\n      Boxed value.\\n    \"\"\"\\n    try:\\n        return box_type_mappings[type(value)](value, node)\\n    except KeyError:\\n        raise TypeError(\"Can\\'t differentiate w.r.t. type {}\".format(type(value)))',\n",
       "  'new_box(1.5, z)',\n",
       "  'box_type_mappings',\n",
       "  'new_box(1.5, z)',\n",
       "  'try: new_box(1.5, z)\\nexcept: print(\"doesn\\'t work yet\")',\n",
       "  'class ArrayBox(Box): \\n    def __add__(self, other): return onp.add(self, other)\\n    def __sub__(self, other): return onp.subtract(self, other)\\n    def __mul__(self,other): return onp.multiply(self, other)',\n",
       "  'box_y = ArrayBox(y._value, y)',\n",
       "  'box_z = ArrayBox(z._value, z)',\n",
       "  'box_y = ArrayBox(y._value, y)\\nbox_z = ArrayBox(z._value, z)\\nbox_y + box_z',\n",
       "  'class ArrayBox(Box): \\n    def __add__(self, other): return onp.add(self, other)\\n    def __radd__(self, other): return onp.add(     other, self)\\n    def __sub__(self, other): return onp.subtract(self, other)\\n    def __mul__(self,other): return onp.multiply(self, other)',\n",
       "  'box_y = ArrayBox(y._value, y)\\nbox_z = ArrayBox(z._value, z)\\nbox_y + box_z',\n",
       "  'box_y = ArrayBox(y._value, y)\\nbox_z = ArrayBox(z._value, z)\\nbox_y + 1',\n",
       "  'onp.add()',\n",
       "  'onp.add(1,2)',\n",
       "  'onp.add(ArrayBox(y._value,y), ArrayBox(z._value, z))',\n",
       "  'import numpy as anp\\nclass ArrayBox(Box):\\n    \"\"\"Box for np.ndarray.\\n    Anything you can do with an np.ndarray, you can do with an ArrayBox.\\n    \"\"\"\\n    @primitive\\n    def __getitem__(A, idx): return A[idx]\\n\\n    # Constants w.r.t float data just pass though\\n    shape = property(lambda self: self._value.shape)\\n    ndim  = property(lambda self: self._value.ndim)\\n    size  = property(lambda self: self._value.size)\\n    dtype = property(lambda self: self._value.dtype)\\n    T = property(lambda self: anp.transpose(self))\\n    def __len__(self): return len(self._value)\\n    def astype(self, *args, **kwargs): return anp._astype(self, *args, **kwargs)\\n\\n    def __neg__(self): return anp.negative(self)\\n    def __add__(self, other): return anp.add(     self, other)\\n    def __sub__(self, other): return anp.subtract(self, other)\\n    def __mul__(self, other): return anp.multiply(self, other)\\n    def __pow__(self, other): return anp.power   (self, other)\\n    def __div__(self, other): return anp.divide(  self, other)\\n    def __mod__(self, other): return anp.mod(     self, other)\\n    def __truediv__(self, other): return anp.true_divide(self, other)\\n    def __matmul__(self, other): return anp.matmul(self, other)\\n    def __radd__(self, other): return anp.add(     other, self)\\n    def __rsub__(self, other): return anp.subtract(other, self)\\n    def __rmul__(self, other): return anp.multiply(other, self)\\n    def __rpow__(self, other): return anp.power(   other, self)\\n    def __rdiv__(self, other): return anp.divide(  other, self)\\n    def __rmod__(self, other): return anp.mod(     other, self)\\n    def __rtruediv__(self, other): return anp.true_divide(other, self)\\n    def __rmatmul__(self, other): return anp.matmul(other, self)\\n    def __eq__(self, other): return anp.equal(self, other)\\n    def __ne__(self, other): return anp.not_equal(self, other)\\n    def __gt__(self, other): return anp.greater(self, other)\\n    def __ge__(self, other): return anp.greater_equal(self, other)\\n    def __lt__(self, other): return anp.less(self, other)\\n    def __le__(self, other): return anp.less_equal(self, other)\\n    def __abs__(self): return anp.abs(self)\\n    def __hash__(self): return id(self)\\n\\n# Register ArrayBox as the type to use when boxing np.ndarray and scalar values.\\nArrayBox.register(np.ndarray)\\nfor type_ in [float, np.float64, np.float32, np.float16,\\n              complex, np.complex64, np.complex128]:\\n    ArrayBox.register(type_)',\n",
       "  'import numpy as anp\\nclass ArrayBox(Box):\\n    \"\"\"Box for np.ndarray.\\n    Anything you can do with an np.ndarray, you can do with an ArrayBox.\\n    \"\"\"\\n    #@primitive\\n   # def __getitem__(A, idx): return A[idx]\\n\\n    # Constants w.r.t float data just pass though\\n    shape = property(lambda self: self._value.shape)\\n    ndim  = property(lambda self: self._value.ndim)\\n    size  = property(lambda self: self._value.size)\\n    dtype = property(lambda self: self._value.dtype)\\n    T = property(lambda self: anp.transpose(self))\\n    def __len__(self): return len(self._value)\\n    def astype(self, *args, **kwargs): return anp._astype(self, *args, **kwargs)\\n\\n    def __neg__(self): return anp.negative(self)\\n    def __add__(self, other): return anp.add(     self, other)\\n    def __sub__(self, other): return anp.subtract(self, other)\\n    def __mul__(self, other): return anp.multiply(self, other)\\n    def __pow__(self, other): return anp.power   (self, other)\\n    def __div__(self, other): return anp.divide(  self, other)\\n    def __mod__(self, other): return anp.mod(     self, other)\\n    def __truediv__(self, other): return anp.true_divide(self, other)\\n    def __matmul__(self, other): return anp.matmul(self, other)\\n    def __radd__(self, other): return anp.add(     other, self)\\n    def __rsub__(self, other): return anp.subtract(other, self)\\n    def __rmul__(self, other): return anp.multiply(other, self)\\n    def __rpow__(self, other): return anp.power(   other, self)\\n    def __rdiv__(self, other): return anp.divide(  other, self)\\n    def __rmod__(self, other): return anp.mod(     other, self)\\n    def __rtruediv__(self, other): return anp.true_divide(other, self)\\n    def __rmatmul__(self, other): return anp.matmul(other, self)\\n    def __eq__(self, other): return anp.equal(self, other)\\n    def __ne__(self, other): return anp.not_equal(self, other)\\n    def __gt__(self, other): return anp.greater(self, other)\\n    def __ge__(self, other): return anp.greater_equal(self, other)\\n    def __lt__(self, other): return anp.less(self, other)\\n    def __le__(self, other): return anp.less_equal(self, other)\\n    def __abs__(self): return anp.abs(self)\\n    def __hash__(self): return id(self)\\n\\n# Register ArrayBox as the type to use when boxing np.ndarray and scalar values.\\nArrayBox.register(np.ndarray)\\nfor type_ in [float, np.float64, np.float32, np.float16,\\n              complex, np.complex64, np.complex128]:\\n    ArrayBox.register(type_)',\n",
       "  'import numpy as anp\\nclass ArrayBox(Box):\\n    \"\"\"Box for np.ndarray.\\n    Anything you can do with an np.ndarray, you can do with an ArrayBox.\\n    \"\"\"\\n    #@primitive\\n   # def __getitem__(A, idx): return A[idx]\\n\\n    # Constants w.r.t float data just pass though\\n    shape = property(lambda self: self._value.shape)\\n    ndim  = property(lambda self: self._value.ndim)\\n    size  = property(lambda self: self._value.size)\\n    dtype = property(lambda self: self._value.dtype)\\n    T = property(lambda self: anp.transpose(self))\\n    def __len__(self): return len(self._value)\\n    def astype(self, *args, **kwargs): return anp._astype(self, *args, **kwargs)\\n\\n    def __neg__(self): return anp.negative(self)\\n    def __add__(self, other): return anp.add(     self, other)\\n    def __sub__(self, other): return anp.subtract(self, other)\\n    def __mul__(self, other): return anp.multiply(self, other)\\n    def __pow__(self, other): return anp.power   (self, other)\\n    def __div__(self, other): return anp.divide(  self, other)\\n    def __mod__(self, other): return anp.mod(     self, other)\\n    def __truediv__(self, other): return anp.true_divide(self, other)\\n    def __matmul__(self, other): return anp.matmul(self, other)\\n    def __radd__(self, other): return anp.add(     other, self)\\n    def __rsub__(self, other): return anp.subtract(other, self)\\n    def __rmul__(self, other): return anp.multiply(other, self)\\n    def __rpow__(self, other): return anp.power(   other, self)\\n    def __rdiv__(self, other): return anp.divide(  other, self)\\n    def __rmod__(self, other): return anp.mod(     other, self)\\n    def __rtruediv__(self, other): return anp.true_divide(other, self)\\n    def __rmatmul__(self, other): return anp.matmul(other, self)\\n    def __eq__(self, other): return anp.equal(self, other)\\n    def __ne__(self, other): return anp.not_equal(self, other)\\n    def __gt__(self, other): return anp.greater(self, other)\\n    def __ge__(self, other): return anp.greater_equal(self, other)\\n    def __lt__(self, other): return anp.less(self, other)\\n    def __le__(self, other): return anp.less_equal(self, other)\\n    def __abs__(self): return anp.abs(self)\\n    def __hash__(self): return id(self)',\n",
       "  'box_y = ArrayBox(y._value, y)\\nbox_z = ArrayBox(z._value, z)\\nbox_y + 1',\n",
       "  'class ArrayBox(Box): \\n    __nonzero__ = __bool__\\n\\n    def __add__(self, other): return onp.add(self, other)\\n    def __sub__(self, other): return onp.subtract(self, other)\\n    def __mul__(self,other): return onp.multiply(self, other)',\n",
       "  'class ArrayBox(Box): \\n     def __bool__(self):\\n        return bool(self._value)\\n    __nonzero__ = __bool__\\n\\n    def __add__(self, other): return onp.add(self, other)\\n    def __sub__(self, other): return onp.subtract(self, other)\\n    def __mul__(self,other): return onp.multiply(self, other)',\n",
       "  'class ArrayBox(Box): \\n     def __bool__(self):  return bool(self._value)\\n    __nonzero__ = __bool__\\n\\n    def __add__(self, other): return onp.add(self, other)\\n    def __sub__(self, other): return onp.subtract(self, other)\\n    def __mul__(self,other): return onp.multiply(self, other)',\n",
       "  'class ArrayBox(Box): \\n    def __bool__(self):  return bool(self._value)\\n    __nonzero__ = __bool__\\n\\n    def __add__(self, other): return onp.add(self, other)\\n    def __sub__(self, other): return onp.subtract(self, other)\\n    def __mul__(self,other): return onp.multiply(self, other)',\n",
       "  'box_y = ArrayBox(y._value, y)\\nbox_z = ArrayBox(z._value, z)\\nbox_y + 1',\n",
       "  'class Test: \\n    def __add__(self,other): return onp.add(self,other)',\n",
       "  't1,t2 = Test(), Test()',\n",
       "  't1 + t2',\n",
       "  'class Test: \\n    def __init__(self,value): self._value = value\\n    def __add__(self,other): return onp.add(self,other)',\n",
       "  't1,t2 = Test(1), Test(2)',\n",
       "  't1 + t2',\n",
       "  'class Test: \\n    def __init__(self,value): self._value = value\\n    def __add__(self,other): return onp.add(self._value,other._value)',\n",
       "  't1,t2 = Test(1), Test(2)',\n",
       "  't1 + t2',\n",
       "  'class Test: \\n     # This class has no attributes.\\n    __slots__ = []\\n\\n    # Used by NumPy to determine which type gets returned when there are\\n    # multiple possibilities. Larger numbers == higher priority.\\n    __array_priority__ = 100.0\\n    def __add__(self,other): return onp.add(self._value,other._value)',\n",
       "  'class Test: \\n     # This class has no attributes.\\n    __slots__ = []\\n\\n    # Used by NumPy to determine which type gets returned when there are\\n    # multiple possibilities. Larger numbers == higher priority.\\n    __array_priority__ = 100.0\\n    def __init__(self,value): self._value = value\\n    def __add__(self,other): return onp.add(self,other)',\n",
       "  't1,t2 = Test(1), Test(2)',\n",
       "  't1 + t2',\n",
       "  'class Test: \\n     # This class has no attributes.\\n    #__slots__ = []\\n\\n    # Used by NumPy to determine which type gets returned when there are\\n    # multiple possibilities. Larger numbers == higher priority.\\n    __array_priority__ = 100.0\\n    def __init__(self,value): self._value = value\\n    def __add__(self,other): return onp.add(self,other)',\n",
       "  't1,t2 = Test(1), Test(2)',\n",
       "  't1 + t2',\n",
       "  'class Test(Base): \\n    __slots__ = []',\n",
       "  'class Test(Base): \\n    __slots__ = []\\n    ',\n",
       "  'class Base: \\n     # This class has no attributes.\\n    #__slots__ = []\\n\\n    # Used by NumPy to determine which type gets returned when there are\\n    # multiple possibilities. Larger numbers == higher priority.\\n    \\n    def __init__(self,value): self._value = value    ',\n",
       "  'class Test(Base): \\n    __slots__ = []\\n    __array_priority__ = 100.0\\n    def __add__(self,other): return onp.add(self,other)',\n",
       "  't1,t2 = Test(1), Test(2)',\n",
       "  't1 + t2',\n",
       "  'class Base: \\n     # This class has no attributes.\\n    #__slots__ = []\\n\\n    # Used by NumPy to determine which type gets returned when there are\\n    # multiple possibilities. Larger numbers == higher priority.\\n    \\n    def __init__(self,value): self._value = value   \\n        \\n    def __bool__(self):\\n        return bool(self._value)\\n    ',\n",
       "  'class Test(Base): \\n    \\n    def __add__(self,other): return onp.add(self,other)',\n",
       "  't1,t2 = Test(1), Test(2)',\n",
       "  't1 + t2',\n",
       "  'class Base: \\n     # This class has no attributes.\\n    #__slots__ = []\\n\\n    # Used by NumPy to determine which type gets returned when there are\\n    # multiple possibilities. Larger numbers == higher priority.\\n    \\n    def __init__(self,value): self._value = value   \\n        \\n    def __bool__(self):\\n        return bool(self._value)\\n    __nonzero__ = __bool__',\n",
       "  'class Test(Base): \\n    \\n    def __add__(self,other): return onp.add(self,other)',\n",
       "  't1,t2 = Test(1), Test(2)',\n",
       "  't1 + t2',\n",
       "  'class Base: \\n     # This class has no attributes.\\n    #__slots__ = []\\n\\n    # Used by NumPy to determine which type gets returned when there are\\n    # multiple possibilities. Larger numbers == higher priority.\\n    __array_priority__ = 90.0\\n\\n    def __init__(self,value): self._value = value   \\n        \\n    def __bool__(self):\\n        return bool(self._value)\\n    __nonzero__ = __bool__',\n",
       "  'class Test(Base): \\n    __array_priority__ = 100.0\\n    def __add__(self,other): return onp.add(self,other)',\n",
       "  't1,t2 = Test(1), Test(2)',\n",
       "  't1 + t2',\n",
       "  'class ArrayBox(Box): \\n    def __bool__(self):  return bool(self._value)\\n    def __add__(self, other): return onp.add(self, other)\\n    def __sub__(self, other): return onp.subtract(self, other)\\n    def __mul__(self,other): return onp.multiply(self, other)',\n",
       "  \"nondiff_methods = [\\n    'all',\\n    'any',\\n    'argmax',\\n    'argmin',\\n    'argpartition',\\n    'argsort',\\n    'nonzero',\\n    'searchsorted',\\n    'round']\\n\\ndiff_methods = [\\n    'clip',\\n    'compress',\\n    'cumprod',\\n    'cumsum',\\n    'diagonal',\\n    'max',\\n    'mean',\\n    'min',\\n    'prod',\\n    'ptp',\\n    'ravel',\\n    'repeat',\\n    'reshape',\\n    'squeeze',\\n    'std',\\n    'sum',\\n    'swapaxes',\\n    'take',\\n    'trace',\\n    'transpose',\\n    'var']\\nfor method_name in nondiff_methods + diff_methods:\\n    setattr(ArrayBox, method_name, anp.__dict__[method_name])\",\n",
       "  'box_y = ArrayBox(y._value, y)\\nbox_z = ArrayBox(z._value, z)\\nbox_y + 1',\n",
       "  'box_type_mappings = Box.type_mappings\\nbox_types = Box.types\\n\\n# If True, the value is Box.\\nisbox  = lambda x: type(x) in box_types  # almost 3X faster than isinstance(x, Box)\\n# Get value from a Box.\\ngetval = lambda x: getval(x._value) if isbox(x) else x\\n\\ndef new_box(value, node):\\n    \"\"\"Box an unboxed value.\\n    Args:\\n      value: unboxed value\\n      node: Node corresponding to this boxed value.\\n    Returns:\\n      Boxed value.\\n    \"\"\"\\n    try:\\n        return box_type_mappings[type(value)](value, node)\\n    except KeyError:\\n        raise TypeError(\"Can\\'t differentiate w.r.t. type {}\".format(type(value)))\\n        \\ndef find_top_boxed_args(args):\\n    \"\"\"Finds boxed arguments with largest trace_id.\\n    Equivalent to finding the largest trace_id of any argument, keeping args\\n    with the same, and dropping the remainder.\\n    Args:\\n      args: Arguments to function wrapped by primitive().\\n    Returns:\\n      top_boxes: List of (index, boxed argument). Arguments have same, largest\\n        trace_id.\\n      top_trace_id: trace_id of all elements in top_boxes.\\n    \"\"\"\\n    top_trace_id = -1\\n    top_boxes = []\\n    for argnum, arg in enumerate(args):\\n        if isbox(arg):\\n            if arg._trace_id > top_trace_id:\\n                top_boxes = [(argnum, arg)]\\n                top_trace_id = arg._trace_id\\n            elif arg._trace_id == top_trace_id:\\n                top_boxes.append((argnum, arg))\\n    return top_boxes, top_trace_id',\n",
       "  'def subvals(x, ivs):\\n    x_ = list(x)\\n    for i, v in ivs:\\n        x_[i] = v\\n    return tuple(x_)\\n\\ndef subval(x, i, v):\\n    x_ = list(x)\\n    x_[i] = v\\n    return tuple(x_)\\n\\ndef toposort(end_node):\\n    child_counts = {}\\n    stack = [end_node]\\n    while stack:\\n        node = stack.pop()\\n        if node in child_counts:\\n            child_counts[node] += 1\\n        else:\\n            child_counts[node] = 1\\n            stack.extend(node.parents)\\n\\n    childless_nodes = [end_node]\\n    while childless_nodes:\\n        node = childless_nodes.pop()\\n        yield node\\n        for parent in node.parents:\\n            if child_counts[parent] == 1:\\n                childless_nodes.append(parent)\\n            else:\\n                child_counts[parent] -= 1\\n\\ndef wraps(fun, namestr=\"{fun}\", docstr=\"{doc}\", **kwargs):\\n    def _wraps(f):\\n        try:\\n            f.__name__ = namestr.format(fun=get_name(fun), **kwargs)\\n            f.__doc__ = docstr.format(fun=get_name(fun), doc=get_doc(fun), **kwargs)\\n        finally:\\n            return f\\n    return _wraps\\n\\ndef wrap_nary_f(fun, op, argnum):\\n    namestr = \"{op}_of_{fun}_wrt_argnum_{argnum}\"\\n    docstr = \"\"\"\\\\\\n    {op} of function {fun} with respect to argument number {argnum}. Takes the\\n    same arguments as {fun} but returns the {op}.\\n    \"\"\"\\n    return wraps(fun, namestr, docstr, op=get_name(op), argnum=argnum)\\n\\nget_name = lambda f: getattr(f, \\'__name__\\', \\'[unknown name]\\')\\nget_doc  = lambda f: getattr(f, \\'__doc__\\' , \\'\\')',\n",
       "  'These are used throughout the program ',\n",
       "  'def subvals(x, ivs):\\n    x_ = list(x)\\n    for i, v in ivs:\\n        x_[i] = v\\n    return tuple(x_)\\n\\ndef subval(x, i, v):\\n    x_ = list(x)\\n    x_[i] = v\\n    return tuple(x_)\\n\\ndef toposort(end_node):\\n    child_counts = {}\\n    stack = [end_node]\\n    while stack:\\n        node = stack.pop()\\n        if node in child_counts:\\n            child_counts[node] += 1\\n        else:\\n            child_counts[node] = 1\\n            stack.extend(node.parents)\\n\\n    childless_nodes = [end_node]\\n    while childless_nodes:\\n        node = childless_nodes.pop()\\n        yield node\\n        for parent in node.parents:\\n            if child_counts[parent] == 1:\\n                childless_nodes.append(parent)\\n            else:\\n                child_counts[parent] -= 1\\n\\ndef wraps(fun, namestr=\"{fun}\", docstr=\"{doc}\", **kwargs):\\n    def _wraps(f):\\n        try:\\n            f.__name__ = namestr.format(fun=get_name(fun), **kwargs)\\n            f.__doc__ = docstr.format(fun=get_name(fun), doc=get_doc(fun), **kwargs)\\n        finally:\\n            return f\\n    return _wraps\\n\\ndef wrap_nary_f(fun, op, argnum):\\n    namestr = \"{op}_of_{fun}_wrt_argnum_{argnum}\"\\n    docstr = \"\"\"\\\\\\n    {op} of function {fun} with respect to argument number {argnum}. Takes the\\n    same arguments as {fun} but returns the {op}.\\n    \"\"\"\\n    return wraps(fun, namestr, docstr, op=get_name(op), argnum=argnum)\\n\\nget_name = lambda f: getattr(f, \\'__name__\\', \\'[unknown name]\\')\\nget_doc  = lambda f: getattr(f, \\'__doc__\\' , \\'\\')',\n",
       "  'def subvals(x, ivs):\\n    x_ = list(x)\\n    for i, v in ivs:\\n        x_[i] = v\\n    return tuple(x_)\\n\\ndef subval(x, i, v):\\n    x_ = list(x)\\n    x_[i] = v\\n    return tuple(x_)\\n\\n\\ndef toposort(end_node):\\n    child_counts = {}\\n    stack = [end_node]\\n    while stack:\\n        node = stack.pop()\\n        if node in child_counts:\\n            child_counts[node] += 1\\n        else:\\n            child_counts[node] = 1\\n            stack.extend(node.parents)\\n\\n    childless_nodes = [end_node]\\n    while childless_nodes:\\n        node = childless_nodes.pop()\\n        yield node\\n        for parent in node.parents:\\n            if child_counts[parent] == 1:\\n                childless_nodes.append(parent)\\n            else:\\n                child_counts[parent] -= 1\\n\\ndef wraps(fun, namestr=\"{fun}\", docstr=\"{doc}\", **kwargs):\\n    def _wraps(f):\\n        try:\\n            f.__name__ = namestr.format(fun=get_name(fun), **kwargs)\\n            f.__doc__ = docstr.format(fun=get_name(fun), doc=get_doc(fun), **kwargs)\\n        finally:\\n            return f\\n    return _wraps\\n\\ndef wrap_nary_f(fun, op, argnum):\\n    namestr = \"{op}_of_{fun}_wrt_argnum_{argnum}\"\\n    docstr = \"\"\"\\\\\\n    {op} of function {fun} with respect to argument number {argnum}. Takes the\\n    same arguments as {fun} but returns the {op}.\\n    \"\"\"\\n    return wraps(fun, namestr, docstr, op=get_name(op), argnum=argnum)\\n\\nget_name = lambda f: getattr(f, \\'__name__\\', \\'[unknown name]\\')\\nget_doc  = lambda f: getattr(f, \\'__doc__\\' , \\'\\')',\n",
       "  'def subvals(x, ivs):\\n    x_ = list(x)\\n    for i, v in ivs:\\n        x_[i] = v\\n    return tuple(x_)\\n\\ndef subval(x, i, v):\\n    x_ = list(x)\\n    x_[i] = v\\n    return tuple(x_)\\n\\n# If True, the value is Box.\\nisbox  = lambda x: type(x) in box_types  # almost 3X faster than isinstance(x, Box)\\n# Get value from a Box.\\ngetval = lambda x: getval(x._value) if isbox(x) else x\\n\\ndef toposort(end_node):\\n    child_counts = {}\\n    stack = [end_node]\\n    while stack:\\n        node = stack.pop()\\n        if node in child_counts:\\n            child_counts[node] += 1\\n        else:\\n            child_counts[node] = 1\\n            stack.extend(node.parents)\\n\\n    childless_nodes = [end_node]\\n    while childless_nodes:\\n        node = childless_nodes.pop()\\n        yield node\\n        for parent in node.parents:\\n            if child_counts[parent] == 1:\\n                childless_nodes.append(parent)\\n            else:\\n                child_counts[parent] -= 1\\n\\ndef wraps(fun, namestr=\"{fun}\", docstr=\"{doc}\", **kwargs):\\n    def _wraps(f):\\n        try:\\n            f.__name__ = namestr.format(fun=get_name(fun), **kwargs)\\n            f.__doc__ = docstr.format(fun=get_name(fun), doc=get_doc(fun), **kwargs)\\n        finally:\\n            return f\\n    return _wraps\\n\\ndef wrap_nary_f(fun, op, argnum):\\n    namestr = \"{op}_of_{fun}_wrt_argnum_{argnum}\"\\n    docstr = \"\"\"\\\\\\n    {op} of function {fun} with respect to argument number {argnum}. Takes the\\n    same arguments as {fun} but returns the {op}.\\n    \"\"\"\\n    return wraps(fun, namestr, docstr, op=get_name(op), argnum=argnum)\\n\\nget_name = lambda f: getattr(f, \\'__name__\\', \\'[unknown name]\\')\\nget_doc  = lambda f: getattr(f, \\'__doc__\\' , \\'\\')',\n",
       "  'class Box:\\n    # These belong to all members of class Box\\n    type_mappings = {} \\n    types = set()\\n    \\n    def __init__(self, value, node): \\n        self._value = value\\n        self._node = node \\n    \\n    @classmethod\\n    def register(cls, value_type): \\n        \"\"\"cls is Box if called by a Box object, ArrayBox if called with ArrayBox etc\"\"\"\\n        Box.types.add(cls)\\n        Box.type_mappings[value_type] = cls\\n        #Box.type_mappings[cls] = cls\\n    ',\n",
       "  'class Box:\\n    # These belong to all members of class Box\\n    type_mappings = {} \\n    types = set()\\n    \\n    def __init__(self, value, node): \\n        self._value = value\\n        self._node = node \\n    \\n    @classmethod\\n    def register(cls, value_type): \\n        \"\"\"cls is Box if called by a Box object, ArrayBox if called with ArrayBox etc\"\"\"\\n        Box.types.add(cls)\\n        Box.type_mappings[value_type] = cls\\n        #Box.type_mappings[cls] = cls\\n    \\nbox_type_mappings = Box.type_mappings\\nbox_types = Box.types',\n",
       "  'def subvals(x, ivs):\\n    \"\"\"Changes an iterable x to a tuple and replace the ivs[0]th value of x with ivs[1], for every tuple in ivs. \\nivs is a list of (int, value) pairs, hence the name \\n\\nFor example: \\nx = [0,1,2,3,4,5,6]\\nivs = [(0,\\'s1\\'), (4, \\'s2\\'), (5, \\'s3\\')]\\nsubvals(x, ivs)\\n# gives (\\'s1\\', 1, 2, 3, \\'s2\\', \\'s3\\', 6)\\n    \"\"\"\\n    x_ = list(x)\\n    for i, v in ivs:\\n        x_[i] = v\\n    return tuple(x_)\\n\\ndef subval(x, i, v):\\n    x_ = list(x)\\n    x_[i] = v\\n    return tuple(x_)\\n\\n# If True, the value is Box.\\nisbox  = lambda x: type(x) in box_types  # almost 3X faster than isinstance(x, Box)\\n# Get value from a Box.\\ngetval = lambda x: getval(x._value) if isbox(x) else x\\n\\ndef toposort(end_node):\\n    child_counts = {}\\n    stack = [end_node]\\n    while stack:\\n        node = stack.pop()\\n        if node in child_counts:\\n            child_counts[node] += 1\\n        else:\\n            child_counts[node] = 1\\n            stack.extend(node.parents)\\n\\n    childless_nodes = [end_node]\\n    while childless_nodes:\\n        node = childless_nodes.pop()\\n        yield node\\n        for parent in node.parents:\\n            if child_counts[parent] == 1:\\n                childless_nodes.append(parent)\\n            else:\\n                child_counts[parent] -= 1\\n\\ndef wraps(fun, namestr=\"{fun}\", docstr=\"{doc}\", **kwargs):\\n    def _wraps(f):\\n        try:\\n            f.__name__ = namestr.format(fun=get_name(fun), **kwargs)\\n            f.__doc__ = docstr.format(fun=get_name(fun), doc=get_doc(fun), **kwargs)\\n        finally:\\n            return f\\n    return _wraps\\n\\ndef wrap_nary_f(fun, op, argnum):\\n    namestr = \"{op}_of_{fun}_wrt_argnum_{argnum}\"\\n    docstr = \"\"\"\\\\\\n    {op} of function {fun} with respect to argument number {argnum}. Takes the\\n    same arguments as {fun} but returns the {op}.\\n    \"\"\"\\n    return wraps(fun, namestr, docstr, op=get_name(op), argnum=argnum)\\n\\nget_name = lambda f: getattr(f, \\'__name__\\', \\'[unknown name]\\')\\nget_doc  = lambda f: getattr(f, \\'__doc__\\' , \\'\\')',\n",
       "  'def primitive(f_raw):\\n    \"\"\"Wraps a function so that its gradient (vjp) can be specified and its\\n    invocation can be recorded.\"\"\"\\n    def f_wrapped(*args, **kwargs):\\n        boxed_args = args\\n        if boxed_args:\\n            # Get nodes for each boxed argument.\\n            parents = tuple(box._node for _, box in boxed_args)\\n            \\n            # Note that we use a recursive call here in order to also augment\\n            # outer calls to trace() with lower trace_ids. See TraceStack\\'s\\n            # docstring for details.\\n            ans = f_wrapped(*argvals, **kwargs)\\n            # Create a new node\\n            node = Node(ans, f_wrapped, parents)\\n            return new_box(ans, trace_id, node)\\n        else:\\n            return f_raw(*args, **kwargs)\\n    return f_wrapped',\n",
       "  'def new_box(value, node):\\n    \"\"\"Box an unboxed value.\\n    Args:\\n      value: unboxed value\\n      node: Node corresponding to this boxed value.\\n    Returns:\\n      Boxed value.\\n    \"\"\"\\n    try:\\n        return box_type_mappings[type(value)](value, node)\\n    except KeyError:\\n        raise TypeError(\"Can\\'t differentiate w.r.t. type {}\".format(type(value)))',\n",
       "  'def primitive(f_raw):\\n    \"\"\"Wraps a function so that its gradient (vjp) can be specified and its\\n    invocation can be recorded.\"\"\"\\n    def f_wrapped(*args, **kwargs):\\n        boxed_args = args\\n        if boxed_args:\\n            # Get nodes for each boxed argument.\\n            parents = tuple(box._node for _, box in boxed_args)\\n            \\n            # Note that we use a recursive call here in order to also augment\\n            # outer calls to trace() with lower trace_ids. See TraceStack\\'s\\n            # docstring for details.\\n            ans = f_wrapped(*argvals, **kwargs)\\n            # Create a new node\\n            node = Node(ans, f_wrapped, parents)\\n            return new_box(ans, trace_id, node)\\n        else:\\n            return f_raw(*args, **kwargs)\\n    return f_wrapped',\n",
       "  'class Box:\\n    # These belong to all members of class Box\\n    type_mappings = {} \\n    types = set()\\n    \\n    def __init__(self, value, node): \\n        self._value = value\\n        self._node = node \\n    \\n    @classmethod\\n    def register(cls, value_type): \\n        \"\"\"cls is Box if called by a Box object, ArrayBox if called with ArrayBox etc\"\"\"\\n        Box.types.add(cls)\\n        Box.type_mappings[value_type] = cls\\n        #Box.type_mappings[cls] = cls\\n    \\nbox_type_mappings = Box.type_mappings\\nbox_types = Box.types',\n",
       "  'def new_box(value, node):\\n    \"\"\"Box an unboxed value.\\n    Args:\\n      value: unboxed value\\n      node: Node corresponding to this boxed value.\\n    Returns:\\n      Boxed value.\\n    \"\"\"\\n    try:\\n        return box_type_mappings[type(value)](value, node)\\n    except KeyError:\\n        raise TypeError(\"Can\\'t differentiate w.r.t. type {}\".format(type(value)))',\n",
       "  'def primitive(f_raw):\\n    \"\"\"Wraps a function so that its gradient (vjp) can be specified and its\\n    invocation can be recorded.\"\"\"\\n    def f_wrapped(*args, **kwargs):\\n        boxed_args = args\\n        if boxed_args:\\n            # Get nodes for each boxed argument.\\n            parents = tuple(box._node for _, box in boxed_args)\\n            \\n            # Note that we use a recursive call here in order to also augment\\n            # outer calls to trace() with lower trace_ids. See TraceStack\\'s\\n            # docstring for details.\\n            ans = f_wrapped(*argvals, **kwargs)\\n            # Create a new node\\n            node = Node(ans, f_wrapped, parents)\\n            return new_box(ans, node)\\n        else:\\n            return f_raw(*args, **kwargs)\\n    return f_wrapped',\n",
       "  'primitive(np.add)',\n",
       "  'primitive(onp.add)',\n",
       "  'new_add = primitive(onp.add)',\n",
       "  'new_add(1,4)',\n",
       "  'onp.add',\n",
       "  'onp.add(13,4)',\n",
       "  'new_add(13,4)',\n",
       "  'new_add(box_z,box_t1)',\n",
       "  \"box_z = Box(z._value, z)\\nbox_t1 = Box(t1._value, t1)\\nbox_t2 = Box(t2._value, t2)\\nbox_t3 = Box(t3._value, t3)\\nbox_y = Box(y._value, y)\\nbox_y.register('string_type')\",\n",
       "  'new_add = primitive(onp.add)',\n",
       "  'new_add(box_z,box_t1)',\n",
       "  \"get_ipython().run_line_magic('debug', '')\",\n",
       "  'def subvals(x, ivs):\\n\"\"\"\\n    Changes an iterable x to a tuple and replace the ivs[0]th value of x with ivs[1], for every tuple in ivs. \\nivs is a list of (int, value) pairs, hence the name \\n\\nFor example: \\nx = [0,1,2,3,4,5,6]\\nivs = [(0,\\'s1\\'), (4, \\'s2\\'), (5, \\'s3\\')]\\nsubvals(x, ivs)\\n# gives (\\'s1\\', 1, 2, 3, \\'s2\\', \\'s3\\', 6)\\n    \"\"\"\\n    x_ = list(x)\\n    for i, v in ivs:\\n        x_[i] = v\\n    return tuple(x_)\\n\\ndef subval(x, i, v):\\n    x_ = list(x)\\n    x_[i] = v\\n    return tuple(x_)\\n\\n# If True, the value is Box.\\nisbox  = lambda x: type(x) in box_types  # almost 3X faster than isinstance(x, Box)\\n# Get value from a Box.\\ngetval = lambda x: getval(x._value) if isbox(x) else x\\n\\ndef toposort(end_node):\\n    child_counts = {}\\n    stack = [end_node]\\n    while stack:\\n        node = stack.pop()\\n        if node in child_counts:\\n            child_counts[node] += 1\\n        else:\\n            child_counts[node] = 1\\n            stack.extend(node.parents)\\n\\n    childless_nodes = [end_node]\\n    while childless_nodes:\\n        node = childless_nodes.pop()\\n        yield node\\n        for parent in node.parents:\\n            if child_counts[parent] == 1:\\n                childless_nodes.append(parent)\\n            else:\\n                child_counts[parent] -= 1\\n\\ndef wraps(fun, namestr=\"{fun}\", docstr=\"{doc}\", **kwargs):\\n    def _wraps(f):\\n        try:\\n            f.__name__ = namestr.format(fun=get_name(fun), **kwargs)\\n            f.__doc__ = docstr.format(fun=get_name(fun), doc=get_doc(fun), **kwargs)\\n        finally:\\n            return f\\n    return _wraps\\n\\ndef wrap_nary_f(fun, op, argnum):\\n    namestr = \"{op}_of_{fun}_wrt_argnum_{argnum}\"\\n    docstr = \"\"\"\\\\\\n    {op} of function {fun} with respect to argument number {argnum}. Takes the\\n    same arguments as {fun} but returns the {op}.\\n    \"\"\"\\n    return wraps(fun, namestr, docstr, op=get_name(op), argnum=argnum)\\n\\nget_name = lambda f: getattr(f, \\'__name__\\', \\'[unknown name]\\')\\nget_doc  = lambda f: getattr(f, \\'__doc__\\' , \\'\\')',\n",
       "  'def primitive(f_raw):\\n    \"\"\"Wraps a function so that its gradient (vjp) can be specified and its\\n    invocation can be recorded.\"\"\"\\n    def f_wrapped(*args, **kwargs):\\n        set_trace()\\n        boxed_args = args\\n        if boxed_args:\\n            # Get nodes for each boxed argument.\\n            parents = tuple(box._node for _, box in boxed_args)\\n            \\n            # Note that we use a recursive call here in order to also augment\\n            # outer calls to trace() with lower trace_ids. See TraceStack\\'s\\n            # docstring for details.\\n            ans = f_wrapped(*argvals, **kwargs)\\n            # Create a new node\\n            node = Node(ans, f_wrapped, parents)\\n            return new_box(ans, node)\\n        else:\\n            return f_raw(*args, **kwargs)\\n    return f_wrapped',\n",
       "  'def primitive(f_raw):\\n    \"\"\"Wraps a function so that its gradient (vjp) can be specified and its\\n    invocation can be recorded.\"\"\"\\n    def f_wrapped(*args, **kwargs):\\n        set_trace()\\n        boxed_args = args\\n        if boxed_args:\\n            # Get nodes for each boxed argument.\\n            parents = tuple(box._node for _, box in boxed_args)\\n            \\n            # Note that we use a recursive call here in order to also augment\\n            # outer calls to trace() with lower trace_ids. See TraceStack\\'s\\n            # docstring for details.\\n            ans = f_wrapped(*argvals, **kwargs)\\n            # Create a new node\\n            node = Node(ans, f_wrapped, parents)\\n            return new_box(ans, node)\\n        else:\\n            return f_raw(*args, **kwargs)\\n    return f_wrapped',\n",
       "  \"box_z = Box(z._value, z)\\nbox_t1 = Box(t1._value, t1)\\nbox_t2 = Box(t2._value, t2)\\nbox_t3 = Box(t3._value, t3)\\nbox_y = Box(y._value, y)\\nbox_y.register('string_type')\",\n",
       "  'new_add = primitive(onp.add)',\n",
       "  'def new_box(value, node):\\n    \"\"\"Box an unboxed value.\\n    Args:\\n      value: unboxed value\\n      node: Node corresponding to this boxed value.\\n    Returns:\\n      Boxed value.\\n    \"\"\"\\n    try:\\n        return box_type_mappings[type(value)](value, node)\\n    except KeyError:\\n        raise TypeError(\"Can\\'t differentiate w.r.t. type {}\".format(type(value)))',\n",
       "  'def primitive(f_raw):\\n    \"\"\"Wraps a function so that its gradient (vjp) can be specified and its\\n    invocation can be recorded.\"\"\"\\n    def f_wrapped(*args, **kwargs):\\n        set_trace()\\n        boxed_args = args\\n        if boxed_args:\\n            # Get nodes for each boxed argument.\\n            parents = tuple(box._node for _, box in boxed_args)\\n            \\n            # Note that we use a recursive call here in order to also augment\\n            # outer calls to trace() with lower trace_ids. See TraceStack\\'s\\n            # docstring for details.\\n            ans = f_wrapped(*argvals, **kwargs)\\n            # Create a new node\\n            node = Node(ans, f_wrapped, parents)\\n            return new_box(ans, node)\\n        else:\\n            return f_raw(*args, **kwargs)\\n    return f_wrapped',\n",
       "  \"box_z = Box(z._value, z)\\nbox_t1 = Box(t1._value, t1)\\nbox_t2 = Box(t2._value, t2)\\nbox_t3 = Box(t3._value, t3)\\nbox_y = Box(y._value, y)\\nbox_y.register('string_type')\",\n",
       "  'new_add = primitive(onp.add)',\n",
       "  'new_add(box_z,box_t1)',\n",
       "  'def new_box(value, node):\\n    \"\"\"Box an unboxed value.\\n    Args:\\n      value: unboxed value\\n      node: Node corresponding to this boxed value.\\n    Returns:\\n      Boxed value.\\n    \"\"\"\\n    try:\\n        return box_type_mappings[type(value)](value, node)\\n    except KeyError:\\n        raise TypeError(\"Can\\'t differentiate w.r.t. type {}\".format(type(value)))',\n",
       "  'def find_top_boxed_args(args):\\n    top_boxes = []\\n    for i,o in enumerate(args)\\n    top.boxes.append(i,o)\\n    \\n#     top_trace_id = -1\\n#     top_boxes = []\\n#     for argnum, arg in enumerate(args):\\n#         if isbox(arg):\\n#             if arg._trace_id > top_trace_id:\\n#                 top_boxes = [(argnum, arg)]\\n#                 top_trace_id = arg._trace_id\\n#             elif arg._trace_id == top_trace_id:\\n#                 top_boxes.append((argnum, arg))\\n    return top_boxes',\n",
       "  'def find_top_boxed_args(args):\\n    top_boxes = []\\n    for i,o in enumerate(args):\\n        top.boxes.append(i,o)\\n    \\n#     top_trace_id = -1\\n#     top_boxes = []\\n#     for argnum, arg in enumerate(args):\\n#         if isbox(arg):\\n#             if arg._trace_id > top_trace_id:\\n#                 top_boxes = [(argnum, arg)]\\n#                 top_trace_id = arg._trace_id\\n#             elif arg._trace_id == top_trace_id:\\n#                 top_boxes.append((argnum, arg))\\n    return top_boxes',\n",
       "  'def find_top_boxed_args(args):\\n    top_boxes = []\\n    for i,o in enumerate(args):\\n        top.boxes.append(i,o)\\n    \\n#     top_trace_id = -1\\n#     top_boxes = []\\n#     for argnum, arg in enumerate(args):\\n#         if isbox(arg):\\n#             if arg._trace_id > top_trace_id:\\n#                 top_boxes = [(argnum, arg)]\\n#                 top_trace_id = arg._trace_id\\n#             elif arg._trace_id == top_trace_id:\\n#                 top_boxes.append((argnum, arg))\\n    return top_boxes',\n",
       "  'def primitive(f_raw):\\n    \"\"\"Wraps a function so that its gradient (vjp) can be specified and its\\n    invocation can be recorded.\"\"\"\\n    def f_wrapped(*args, **kwargs):\\n        set_trace()\\n        boxed_args = find_top_boxed_args(args)\\n        if boxed_args:\\n            # Get nodes for each boxed argument.\\n            parents = tuple(box._node for _, box in boxed_args)\\n            \\n            # Note that we use a recursive call here in order to also augment\\n            # outer calls to trace() with lower trace_ids. See TraceStack\\'s\\n            # docstring for details.\\n            ans = f_wrapped(*argvals, **kwargs)\\n            # Create a new node\\n            node = Node(ans, f_wrapped, parents)\\n            return new_box(ans, node)\\n        else:\\n            return f_raw(*args, **kwargs)\\n    return f_wrapped',\n",
       "  \"box_z = Box(z._value, z)\\nbox_t1 = Box(t1._value, t1)\\nbox_t2 = Box(t2._value, t2)\\nbox_t3 = Box(t3._value, t3)\\nbox_y = Box(y._value, y)\\nbox_y.register('string_type')\",\n",
       "  'new_add = primitive(onp.add)',\n",
       "  'new_add(box_z,box_t1)',\n",
       "  'def find_top_boxed_args(args):\\n    top_boxes = []\\n    for i,o in enumerate(args):\\n        top_boxes.append(i,o)\\n    \\n#     top_trace_id = -1\\n#     top_boxes = []\\n#     for argnum, arg in enumerate(args):\\n#         if isbox(arg):\\n#             if arg._trace_id > top_trace_id:\\n#                 top_boxes = [(argnum, arg)]\\n#                 top_trace_id = arg._trace_id\\n#             elif arg._trace_id == top_trace_id:\\n#                 top_boxes.append((argnum, arg))\\n    return top_boxes',\n",
       "  'def primitive(f_raw):\\n    \"\"\"Wraps a function so that its gradient (vjp) can be specified and its\\n    invocation can be recorded.\"\"\"\\n    def f_wrapped(*args, **kwargs):\\n        set_trace()\\n        boxed_args = find_top_boxed_args(args)\\n        if boxed_args:\\n            # Get nodes for each boxed argument.\\n            parents = tuple(box._node for _, box in boxed_args)\\n            \\n            # Note that we use a recursive call here in order to also augment\\n            # outer calls to trace() with lower trace_ids. See TraceStack\\'s\\n            # docstring for details.\\n            ans = f_wrapped(*argvals, **kwargs)\\n            # Create a new node\\n            node = Node(ans, f_wrapped, parents)\\n            return new_box(ans, node)\\n        else:\\n            return f_raw(*args, **kwargs)\\n    return f_wrapped',\n",
       "  \"box_z = Box(z._value, z)\\nbox_t1 = Box(t1._value, t1)\\nbox_t2 = Box(t2._value, t2)\\nbox_t3 = Box(t3._value, t3)\\nbox_y = Box(y._value, y)\\nbox_y.register('string_type')\",\n",
       "  'new_add = primitive(onp.add)',\n",
       "  'new_add(box_z,box_t1)',\n",
       "  'def primitive(f_raw):\\n    \"\"\"Wraps a function so that its gradient (vjp) can be specified and its\\n    invocation can be recorded.\"\"\"\\n    def f_wrapped(*args, **kwargs):\\n        set_trace()\\n        boxed_args = find_top_boxed_args(args)\\n        if boxed_args:\\n            # Get nodes for each boxed argument.\\n            parents = tuple(box._node for _, box in boxed_args)\\n            \\n            # Note that we use a recursive call here in order to also augment\\n            # outer calls to trace() with lower trace_ids. See TraceStack\\'s\\n            # docstring for details.\\n            ans = f_wrapped(*argvals, **kwargs)\\n            # Create a new node\\n            node = Node(ans, f_wrapped, parents)\\n            return new_box(ans, node)\\n        else:\\n            return f_raw(*args, **kwargs)\\n    return f_wrapped',\n",
       "  \"box_z = Box(z._value, z)\\nbox_t1 = Box(t1._value, t1)\\nbox_t2 = Box(t2._value, t2)\\nbox_t3 = Box(t3._value, t3)\\nbox_y = Box(y._value, y)\\nbox_y.register('string_type')\",\n",
       "  'new_add = primitive(onp.add)',\n",
       "  'new_add(box_z,box_t1)',\n",
       "  'def find_top_boxed_args(args):\\n    top_boxes = []\\n    for i,o in enumerate(args):\\n        top_boxes.append((i,o))\\n    \\n#     top_trace_id = -1\\n#     top_boxes = []\\n#     for argnum, arg in enumerate(args):\\n#         if isbox(arg):\\n#             if arg._trace_id > top_trace_id:\\n#                 top_boxes = [(argnum, arg)]\\n#                 top_trace_id = arg._trace_id\\n#             elif arg._trace_id == top_trace_id:\\n#                 top_boxes.append((argnum, arg))\\n    return top_boxes',\n",
       "  'def primitive(f_raw):\\n    \"\"\"Wraps a function so that its gradient (vjp) can be specified and its\\n    invocation can be recorded.\"\"\"\\n    def f_wrapped(*args, **kwargs):\\n        set_trace()\\n        boxed_args = find_top_boxed_args(args)\\n        if boxed_args:\\n            # Get nodes for each boxed argument.\\n            parents = tuple(box._node for _, box in boxed_args)\\n            \\n            # Note that we use a recursive call here in order to also augment\\n            # outer calls to trace() with lower trace_ids. See TraceStack\\'s\\n            # docstring for details.\\n            ans = f_wrapped(*argvals, **kwargs)\\n            # Create a new node\\n            node = Node(ans, f_wrapped, parents)\\n            return new_box(ans, node)\\n        else:\\n            return f_raw(*args, **kwargs)\\n    return f_wrapped',\n",
       "  \"box_z = Box(z._value, z)\\nbox_t1 = Box(t1._value, t1)\\nbox_t2 = Box(t2._value, t2)\\nbox_t3 = Box(t3._value, t3)\\nbox_y = Box(y._value, y)\\nbox_y.register('string_type')\",\n",
       "  'new_add = primitive(onp.add)',\n",
       "  'new_add(box_z,box_t1)',\n",
       "  'val_z = 1.5 \\nz = Node(val_z, None, [])\\nval_t1 = np.negative(val_z)\\nt1 = Node(val_t1,np.negative, [z])\\nval_t2 = np.exp(val_t1)\\nt2 = Node(val_t2, np.exp, [t1])\\nval_t3 = np.add(val_t2, 1)\\nt3 = Node(val_t3, np.add, [t2])\\nval_y = np.reciprocal(val_t3)\\ny = Node(val_y, np.reciprocal, [t3])\\nprint(round(y._value,3)) # same answer as before',\n",
       "  \"import numpy as np\\nimport numpy as onp\\nimport autograd \\npath_assets = './assets/'\",\n",
       "  'import numpy as np\\nval_z = 1.5 \\nz = Node(val_z, None, [])\\nval_t1 = np.negative(val_z)\\nt1 = Node(val_t1,np.negative, [z])\\nval_t2 = np.exp(val_t1)\\nt2 = Node(val_t2, np.exp, [t1])\\nval_t3 = np.add(val_t2, 1)\\nt3 = Node(val_t3, np.add, [t2])\\nval_y = np.reciprocal(val_t3)\\ny = Node(val_y, np.reciprocal, [t3])\\nprint(round(y._value,3)) # same answer as before\\ndel np',\n",
       "  'def new_box(value, node):\\n    \"\"\"Box an unboxed value.\\n    Args:\\n      value: unboxed value\\n      node: Node corresponding to this boxed value.\\n    Returns:\\n      Boxed value.\\n    \"\"\"\\n    try:\\n        return box_type_mappings[type(value)](value, node)\\n    except KeyError:\\n        raise TypeError(\"Can\\'t differentiate w.r.t. type {}\".format(type(value)))',\n",
       "  'def find_top_boxed_args(args):\\n    top_boxes = []\\n    for i,o in enumerate(args):\\n        top_boxes.append((i,o))\\n    \\n#     top_trace_id = -1\\n#     top_boxes = []\\n#     for argnum, arg in enumerate(args):\\n#         if isbox(arg):\\n#             if arg._trace_id > top_trace_id:\\n#                 top_boxes = [(argnum, arg)]\\n#                 top_trace_id = arg._trace_id\\n#             elif arg._trace_id == top_trace_id:\\n#                 top_boxes.append((argnum, arg))\\n    return top_boxes',\n",
       "  'def primitive(f_raw):\\n    \"\"\"Wraps a function so that its gradient (vjp) can be specified and its\\n    invocation can be recorded.\"\"\"\\n    def f_wrapped(*args, **kwargs):\\n        set_trace()\\n        boxed_args = find_top_boxed_args(args)\\n        if boxed_args:\\n            # Get nodes for each boxed argument.\\n            parents = tuple(box._node for _, box in boxed_args)\\n            \\n            # Note that we use a recursive call here in order to also augment\\n            # outer calls to trace() with lower trace_ids. See TraceStack\\'s\\n            # docstring for details.\\n            ans = f_wrapped(*argvals, **kwargs)\\n            # Create a new node\\n            node = Node(ans, f_wrapped, parents)\\n            return new_box(ans, node)\\n        else:\\n            return f_raw(*args, **kwargs)\\n    return f_wrapped',\n",
       "  \"box_z = Box(z._value, z)\\nbox_t1 = Box(t1._value, t1)\\nbox_t2 = Box(t2._value, t2)\\nbox_t3 = Box(t3._value, t3)\\nbox_y = Box(y._value, y)\\nbox_y.register('string_type')\",\n",
       "  'new_add = primitive(onp.add)',\n",
       "  'new_add(box_z,box_t1)',\n",
       "  '# Non differentiable functions \\nnograd_functions = [\\n    _np.ndim, _np.shape, _np.iscomplexobj, _np.result_type, _np.zeros_like,\\n    _np.ones_like, _np.floor, _np.ceil, _np.round, _np.rint, _np.around,\\n    _np.fix, _np.trunc, _np.all, _np.any, _np.argmax, _np.argmin,\\n    _np.argpartition, _np.argsort, _np.argwhere, _np.nonzero, _np.flatnonzero,\\n    _np.count_nonzero, _np.searchsorted, _np.sign, _np.ndim, _np.shape,\\n    _np.floor_divide, _np.logical_and, _np.logical_or, _np.logical_not,\\n    _np.logical_xor, _np.isfinite, _np.isinf, _np.isnan, _np.isneginf,\\n    _np.isposinf, _np.allclose, _np.isclose, _np.array_equal, _np.array_equiv,\\n    _np.greater, _np.greater_equal, _np.less, _np.less_equal, _np.equal,\\n    _np.not_equal, _np.iscomplexobj, _np.iscomplex, _np.size, _np.isscalar,\\n    _np.isreal, _np.zeros_like, _np.ones_like, _np.result_type\\n]',\n",
       "  'try:     del np\\nexcept:  pass \\nimport numpy as _np',\n",
       "  '# Non differentiable functions \\nnograd_functions = [\\n    _np.ndim, _np.shape, _np.iscomplexobj, _np.result_type, _np.zeros_like,\\n    _np.ones_like, _np.floor, _np.ceil, _np.round, _np.rint, _np.around,\\n    _np.fix, _np.trunc, _np.all, _np.any, _np.argmax, _np.argmin,\\n    _np.argpartition, _np.argsort, _np.argwhere, _np.nonzero, _np.flatnonzero,\\n    _np.count_nonzero, _np.searchsorted, _np.sign, _np.ndim, _np.shape,\\n    _np.floor_divide, _np.logical_and, _np.logical_or, _np.logical_not,\\n    _np.logical_xor, _np.isfinite, _np.isinf, _np.isnan, _np.isneginf,\\n    _np.isposinf, _np.allclose, _np.isclose, _np.array_equal, _np.array_equiv,\\n    _np.greater, _np.greater_equal, _np.less, _np.less_equal, _np.equal,\\n    _np.not_equal, _np.iscomplexobj, _np.iscomplex, _np.size, _np.isscalar,\\n    _np.isreal, _np.zeros_like, _np.ones_like, _np.result_type\\n]',\n",
       "  'try:     del np\\nexcept:  pass \\nimport numpy as _np, numpy as onp',\n",
       "  'unchanged_types = {float, int, type(None), type}\\nint_types = {_np.int, _np.int8, _np.int16, _np.int32, _np.int64, _np.integer}\\nfunction_types = {_np.ufunc, types.FunctionType, types.BuiltinFunctionType}',\n",
       "  'import type\\nunchanged_types = {float, int, type(None), type}\\nint_types = {_np.int, _np.int8, _np.int16, _np.int32, _np.int64, _np.integer}\\nfunction_types = {_np.ufunc, types.FunctionType, types.BuiltinFunctionType}',\n",
       "  'import types\\nunchanged_types = {float, int, type(None), type}\\nint_types = {_np.int, _np.int8, _np.int16, _np.int32, _np.int64, _np.integer}\\nfunction_types = {_np.ufunc, types.FunctionType, types.BuiltinFunctionType}',\n",
       "  'globals()'],\n",
       " '_oh': {9: 0.818,\n",
       "  16: 1.5,\n",
       "  20: <__main__.Box at 0x10c7579b0>,\n",
       "  23: <__main__.Box at 0x10c7579b0>,\n",
       "  24: {'string_type': __main__.Box},\n",
       "  25: {__main__.Box},\n",
       "  32: {},\n",
       "  43: 3,\n",
       "  64: 3,\n",
       "  68: 3,\n",
       "  109: <function __main__.primitive.<locals>.f_wrapped(*args, **kwargs)>,\n",
       "  112: <ufunc 'add'>,\n",
       "  113: 17},\n",
       " '_dh': ['/Users/tomroth/Documents/Python/pytorch/autograd_simpler'],\n",
       " 'In': ['',\n",
       "  '# default_exp core',\n",
       "  \"#hide\\nfrom nbdev.showdoc import *\\nget_ipython().run_line_magic('load_ext', 'autoreload')\\nget_ipython().run_line_magic('autoreload', '2')\\nfrom IPython.core.debugger import set_trace\\nfrom IPython.display import Markdown as md\",\n",
       "  \"import numpy as np\\nimport autograd \\npath_assets = './assets/'\",\n",
       "  'def f(x,y):    return np.log(x**2) + y**2 + x*y',\n",
       "  'def grad(f, argnum = 0): \\n    \"\"\"Returns a function that finds the gradient\"\"\"\\n    def gradfun(*args, **kwargs):\\n        \"\"\"Returns the actual gradient \"\"\"\\n        print (\"Args\", args)\\n        print (\"Kwargs\", kwargs)\\n        if len(args) != 0: x,y = args\\n        if len(kwargs) != 0: x,y = kwargs.values()\\n        # Dummy values. Returns correct gradient only for our function f above. \\n        # Use these values until we calculate the true ones using autodiff. \\n        #### remove this code once true code written\\n        if   argnum == 0: return 2*x * np.log(x**2) + y  # df/dx\\n        elif argnum == 1: return 2*y + x                 # df/dy\\n        #### \\n        # true autograd code goes here \\n        ####\\n    return gradfun\\n# example usage\\ndfdx = grad(f, argnum = 0)\\ndfdy = grad(f, argnum = 1)\\nprint(\"dfdx\", dfdx(1,2))      # call gradient w/out keywords, values go into *args    in gradfun \\nprint(\"dfdy\", dfdy(x=13,y=4)) # call gradient with  keywords, values go into **kwargs in gradfun ',\n",
       "  'def logistic(z): return 1 / (1 + np.exp(-z))',\n",
       "  'def logistic2(z): return np.reciprocal(np.add(1, np.exp(np.negative(z))))',\n",
       "  'def logistic3(z): \\n    t1 = np.negative(z) \\n    t2 = np.exp(t1)\\n    t3 = np.add(1, t2)\\n    y = np.reciprocal(t3) \\n    return y',\n",
       "  'np.round(logistic3(1.5),3)',\n",
       "  'class Node:\\n    \"\"\"A node in a computation graph.\"\"\"\\n    def __init__(self, value, fun, parents):\\n        self.parents = parents\\n        self.recipe = (fun, value)\\n        # my additions\\n        self._value = value\\n        self._fun = fun \\n\\n    def initialize_root(self):\\n        self.parents = []\\n        self.recipe = (lambda x: x, None)',\n",
       "  'val_z = 1.5 \\nz = Node(val_z, None, [])\\nval_t1 = np.negative(val_z)\\nt1 = Node(val_t1,np.negative, [z])\\nval_t2 = np.exp(val_t1)\\nt2 = Node(val_t2, np.exp, [t1])\\nval_t3 = np.add(val_t2, 1)\\nt3 = Node(val_t3, np.add, [t2])\\nval_y = np.reciprocal(val_t3)\\ny = Node(val_y, np.reciprocal, [t3])\\nprint(round(y._value,3)) # same answer as before',\n",
       "  'try:     del np\\nexcept:  pass \\nimport numpy as onp',\n",
       "  'class Box:\\n    type_mappings = {}\\n    types = set()\\n    \\n    def __init__(self, value, node): \\n        self._value = value\\n        self._node = node \\n    \\n    @classmethod\\n    def register(cls, value_type): \\n        Box.types.add(cls)\\n        Box.type_mappings[value_type] = cls\\n        #Box.type_mappings[cls] = cls\\n    ',\n",
       "  'box_z = Box()',\n",
       "  'z.value',\n",
       "  'z._value',\n",
       "  'box_z = Box(z._value, z)',\n",
       "  'box_z = Box(z._value, z)\\nbox_t1 = Box(t1._value, t1)',\n",
       "  'box_z = Box(z._value, z)\\nbox_t1 = Box(t1._value, t1)\\nbox_t2 = Box(t2._value, t2)\\nbox_t3 = Box(t3._value, t3)\\nbox_y = Box(y._value, y)',\n",
       "  'box_y',\n",
       "  \"box_y.register(str, 'string_type')\",\n",
       "  \"box_y.register('string_type')\",\n",
       "  'box_y',\n",
       "  'box_y.type_mappings',\n",
       "  'box_y.types',\n",
       "  '#### The ArrayBox ',\n",
       "  'class Box:\\n    # These belong to all members of class Box\\n    type_mappings = {} \\n    types = set()\\n    \\n    def __init__(self, value, node): \\n        self._value = value\\n        self._node = node \\n    \\n    @classmethod\\n    def register(cls, value_type): \\n        \"\"\"cls is Box if called by a Box object, ArrayBox if called with ArrayBox etc\"\"\"\\n        Box.types.add(cls)\\n        Box.type_mappings[value_type] = cls\\n        #Box.type_mappings[cls] = cls\\n    ',\n",
       "  'box_type_mappings = Box.type_mappings\\ndef new_box(value, node):\\n    \"\"\"Box an unboxed value.\\n    Args:\\n      value: unboxed value\\n      node: Node corresponding to this boxed value.\\n    Returns:\\n      Boxed value.\\n    \"\"\"\\n    try:\\n        return box_type_mappings[type(value)](value, trace_id, node)\\n    except KeyError:\\n        raise TypeError(\"Can\\'t differentiate w.r.t. type {}\".format(type(value)))',\n",
       "  'box_type_mappings = Box.type_mappings\\ndef new_box(value, node):\\n    \"\"\"Box an unboxed value.\\n    Args:\\n      value: unboxed value\\n      node: Node corresponding to this boxed value.\\n    Returns:\\n      Boxed value.\\n    \"\"\"\\n    try:\\n        return box_type_mappings[type(value)](value, node)\\n    except KeyError:\\n        raise TypeError(\"Can\\'t differentiate w.r.t. type {}\".format(type(value)))',\n",
       "  'box_type_mappings = Box.type_mappings\\ndef new_box(value, node):\\n    \"\"\"Box an unboxed value.\\n    Args:\\n      value: unboxed value\\n      node: Node corresponding to this boxed value.\\n    Returns:\\n      Boxed value.\\n    \"\"\"\\n    try:\\n        return box_type_mappings[type(value)](value, node)\\n    except KeyError:\\n        raise TypeError(\"Can\\'t differentiate w.r.t. type {}\".format(type(value)))',\n",
       "  'new_box(1.5, z)',\n",
       "  'box_type_mappings',\n",
       "  'new_box(1.5, z)',\n",
       "  'try: new_box(1.5, z)\\nexcept: print(\"doesn\\'t work yet\")',\n",
       "  'class ArrayBox(Box): \\n    def __add__(self, other): return onp.add(self, other)\\n    def __sub__(self, other): return onp.subtract(self, other)\\n    def __mul__(self,other): return onp.multiply(self, other)',\n",
       "  'box_y = ArrayBox(y._value, y)',\n",
       "  'box_z = ArrayBox(z._value, z)',\n",
       "  'box_y = ArrayBox(y._value, y)\\nbox_z = ArrayBox(z._value, z)\\nbox_y + box_z',\n",
       "  'class ArrayBox(Box): \\n    def __add__(self, other): return onp.add(self, other)\\n    def __radd__(self, other): return onp.add(     other, self)\\n    def __sub__(self, other): return onp.subtract(self, other)\\n    def __mul__(self,other): return onp.multiply(self, other)',\n",
       "  'box_y = ArrayBox(y._value, y)\\nbox_z = ArrayBox(z._value, z)\\nbox_y + box_z',\n",
       "  'box_y = ArrayBox(y._value, y)\\nbox_z = ArrayBox(z._value, z)\\nbox_y + 1',\n",
       "  'onp.add()',\n",
       "  'onp.add(1,2)',\n",
       "  'onp.add(ArrayBox(y._value,y), ArrayBox(z._value, z))',\n",
       "  'import numpy as anp\\nclass ArrayBox(Box):\\n    \"\"\"Box for np.ndarray.\\n    Anything you can do with an np.ndarray, you can do with an ArrayBox.\\n    \"\"\"\\n    @primitive\\n    def __getitem__(A, idx): return A[idx]\\n\\n    # Constants w.r.t float data just pass though\\n    shape = property(lambda self: self._value.shape)\\n    ndim  = property(lambda self: self._value.ndim)\\n    size  = property(lambda self: self._value.size)\\n    dtype = property(lambda self: self._value.dtype)\\n    T = property(lambda self: anp.transpose(self))\\n    def __len__(self): return len(self._value)\\n    def astype(self, *args, **kwargs): return anp._astype(self, *args, **kwargs)\\n\\n    def __neg__(self): return anp.negative(self)\\n    def __add__(self, other): return anp.add(     self, other)\\n    def __sub__(self, other): return anp.subtract(self, other)\\n    def __mul__(self, other): return anp.multiply(self, other)\\n    def __pow__(self, other): return anp.power   (self, other)\\n    def __div__(self, other): return anp.divide(  self, other)\\n    def __mod__(self, other): return anp.mod(     self, other)\\n    def __truediv__(self, other): return anp.true_divide(self, other)\\n    def __matmul__(self, other): return anp.matmul(self, other)\\n    def __radd__(self, other): return anp.add(     other, self)\\n    def __rsub__(self, other): return anp.subtract(other, self)\\n    def __rmul__(self, other): return anp.multiply(other, self)\\n    def __rpow__(self, other): return anp.power(   other, self)\\n    def __rdiv__(self, other): return anp.divide(  other, self)\\n    def __rmod__(self, other): return anp.mod(     other, self)\\n    def __rtruediv__(self, other): return anp.true_divide(other, self)\\n    def __rmatmul__(self, other): return anp.matmul(other, self)\\n    def __eq__(self, other): return anp.equal(self, other)\\n    def __ne__(self, other): return anp.not_equal(self, other)\\n    def __gt__(self, other): return anp.greater(self, other)\\n    def __ge__(self, other): return anp.greater_equal(self, other)\\n    def __lt__(self, other): return anp.less(self, other)\\n    def __le__(self, other): return anp.less_equal(self, other)\\n    def __abs__(self): return anp.abs(self)\\n    def __hash__(self): return id(self)\\n\\n# Register ArrayBox as the type to use when boxing np.ndarray and scalar values.\\nArrayBox.register(np.ndarray)\\nfor type_ in [float, np.float64, np.float32, np.float16,\\n              complex, np.complex64, np.complex128]:\\n    ArrayBox.register(type_)',\n",
       "  'import numpy as anp\\nclass ArrayBox(Box):\\n    \"\"\"Box for np.ndarray.\\n    Anything you can do with an np.ndarray, you can do with an ArrayBox.\\n    \"\"\"\\n    #@primitive\\n   # def __getitem__(A, idx): return A[idx]\\n\\n    # Constants w.r.t float data just pass though\\n    shape = property(lambda self: self._value.shape)\\n    ndim  = property(lambda self: self._value.ndim)\\n    size  = property(lambda self: self._value.size)\\n    dtype = property(lambda self: self._value.dtype)\\n    T = property(lambda self: anp.transpose(self))\\n    def __len__(self): return len(self._value)\\n    def astype(self, *args, **kwargs): return anp._astype(self, *args, **kwargs)\\n\\n    def __neg__(self): return anp.negative(self)\\n    def __add__(self, other): return anp.add(     self, other)\\n    def __sub__(self, other): return anp.subtract(self, other)\\n    def __mul__(self, other): return anp.multiply(self, other)\\n    def __pow__(self, other): return anp.power   (self, other)\\n    def __div__(self, other): return anp.divide(  self, other)\\n    def __mod__(self, other): return anp.mod(     self, other)\\n    def __truediv__(self, other): return anp.true_divide(self, other)\\n    def __matmul__(self, other): return anp.matmul(self, other)\\n    def __radd__(self, other): return anp.add(     other, self)\\n    def __rsub__(self, other): return anp.subtract(other, self)\\n    def __rmul__(self, other): return anp.multiply(other, self)\\n    def __rpow__(self, other): return anp.power(   other, self)\\n    def __rdiv__(self, other): return anp.divide(  other, self)\\n    def __rmod__(self, other): return anp.mod(     other, self)\\n    def __rtruediv__(self, other): return anp.true_divide(other, self)\\n    def __rmatmul__(self, other): return anp.matmul(other, self)\\n    def __eq__(self, other): return anp.equal(self, other)\\n    def __ne__(self, other): return anp.not_equal(self, other)\\n    def __gt__(self, other): return anp.greater(self, other)\\n    def __ge__(self, other): return anp.greater_equal(self, other)\\n    def __lt__(self, other): return anp.less(self, other)\\n    def __le__(self, other): return anp.less_equal(self, other)\\n    def __abs__(self): return anp.abs(self)\\n    def __hash__(self): return id(self)\\n\\n# Register ArrayBox as the type to use when boxing np.ndarray and scalar values.\\nArrayBox.register(np.ndarray)\\nfor type_ in [float, np.float64, np.float32, np.float16,\\n              complex, np.complex64, np.complex128]:\\n    ArrayBox.register(type_)',\n",
       "  'import numpy as anp\\nclass ArrayBox(Box):\\n    \"\"\"Box for np.ndarray.\\n    Anything you can do with an np.ndarray, you can do with an ArrayBox.\\n    \"\"\"\\n    #@primitive\\n   # def __getitem__(A, idx): return A[idx]\\n\\n    # Constants w.r.t float data just pass though\\n    shape = property(lambda self: self._value.shape)\\n    ndim  = property(lambda self: self._value.ndim)\\n    size  = property(lambda self: self._value.size)\\n    dtype = property(lambda self: self._value.dtype)\\n    T = property(lambda self: anp.transpose(self))\\n    def __len__(self): return len(self._value)\\n    def astype(self, *args, **kwargs): return anp._astype(self, *args, **kwargs)\\n\\n    def __neg__(self): return anp.negative(self)\\n    def __add__(self, other): return anp.add(     self, other)\\n    def __sub__(self, other): return anp.subtract(self, other)\\n    def __mul__(self, other): return anp.multiply(self, other)\\n    def __pow__(self, other): return anp.power   (self, other)\\n    def __div__(self, other): return anp.divide(  self, other)\\n    def __mod__(self, other): return anp.mod(     self, other)\\n    def __truediv__(self, other): return anp.true_divide(self, other)\\n    def __matmul__(self, other): return anp.matmul(self, other)\\n    def __radd__(self, other): return anp.add(     other, self)\\n    def __rsub__(self, other): return anp.subtract(other, self)\\n    def __rmul__(self, other): return anp.multiply(other, self)\\n    def __rpow__(self, other): return anp.power(   other, self)\\n    def __rdiv__(self, other): return anp.divide(  other, self)\\n    def __rmod__(self, other): return anp.mod(     other, self)\\n    def __rtruediv__(self, other): return anp.true_divide(other, self)\\n    def __rmatmul__(self, other): return anp.matmul(other, self)\\n    def __eq__(self, other): return anp.equal(self, other)\\n    def __ne__(self, other): return anp.not_equal(self, other)\\n    def __gt__(self, other): return anp.greater(self, other)\\n    def __ge__(self, other): return anp.greater_equal(self, other)\\n    def __lt__(self, other): return anp.less(self, other)\\n    def __le__(self, other): return anp.less_equal(self, other)\\n    def __abs__(self): return anp.abs(self)\\n    def __hash__(self): return id(self)',\n",
       "  'box_y = ArrayBox(y._value, y)\\nbox_z = ArrayBox(z._value, z)\\nbox_y + 1',\n",
       "  'class ArrayBox(Box): \\n    __nonzero__ = __bool__\\n\\n    def __add__(self, other): return onp.add(self, other)\\n    def __sub__(self, other): return onp.subtract(self, other)\\n    def __mul__(self,other): return onp.multiply(self, other)',\n",
       "  'class ArrayBox(Box): \\n     def __bool__(self):\\n        return bool(self._value)\\n    __nonzero__ = __bool__\\n\\n    def __add__(self, other): return onp.add(self, other)\\n    def __sub__(self, other): return onp.subtract(self, other)\\n    def __mul__(self,other): return onp.multiply(self, other)',\n",
       "  'class ArrayBox(Box): \\n     def __bool__(self):  return bool(self._value)\\n    __nonzero__ = __bool__\\n\\n    def __add__(self, other): return onp.add(self, other)\\n    def __sub__(self, other): return onp.subtract(self, other)\\n    def __mul__(self,other): return onp.multiply(self, other)',\n",
       "  'class ArrayBox(Box): \\n    def __bool__(self):  return bool(self._value)\\n    __nonzero__ = __bool__\\n\\n    def __add__(self, other): return onp.add(self, other)\\n    def __sub__(self, other): return onp.subtract(self, other)\\n    def __mul__(self,other): return onp.multiply(self, other)',\n",
       "  'box_y = ArrayBox(y._value, y)\\nbox_z = ArrayBox(z._value, z)\\nbox_y + 1',\n",
       "  'class Test: \\n    def __add__(self,other): return onp.add(self,other)',\n",
       "  't1,t2 = Test(), Test()',\n",
       "  't1 + t2',\n",
       "  'class Test: \\n    def __init__(self,value): self._value = value\\n    def __add__(self,other): return onp.add(self,other)',\n",
       "  't1,t2 = Test(1), Test(2)',\n",
       "  't1 + t2',\n",
       "  'class Test: \\n    def __init__(self,value): self._value = value\\n    def __add__(self,other): return onp.add(self._value,other._value)',\n",
       "  't1,t2 = Test(1), Test(2)',\n",
       "  't1 + t2',\n",
       "  'class Test: \\n     # This class has no attributes.\\n    __slots__ = []\\n\\n    # Used by NumPy to determine which type gets returned when there are\\n    # multiple possibilities. Larger numbers == higher priority.\\n    __array_priority__ = 100.0\\n    def __add__(self,other): return onp.add(self._value,other._value)',\n",
       "  'class Test: \\n     # This class has no attributes.\\n    __slots__ = []\\n\\n    # Used by NumPy to determine which type gets returned when there are\\n    # multiple possibilities. Larger numbers == higher priority.\\n    __array_priority__ = 100.0\\n    def __init__(self,value): self._value = value\\n    def __add__(self,other): return onp.add(self,other)',\n",
       "  't1,t2 = Test(1), Test(2)',\n",
       "  't1 + t2',\n",
       "  'class Test: \\n     # This class has no attributes.\\n    #__slots__ = []\\n\\n    # Used by NumPy to determine which type gets returned when there are\\n    # multiple possibilities. Larger numbers == higher priority.\\n    __array_priority__ = 100.0\\n    def __init__(self,value): self._value = value\\n    def __add__(self,other): return onp.add(self,other)',\n",
       "  't1,t2 = Test(1), Test(2)',\n",
       "  't1 + t2',\n",
       "  'class Test(Base): \\n    __slots__ = []',\n",
       "  'class Test(Base): \\n    __slots__ = []\\n    ',\n",
       "  'class Base: \\n     # This class has no attributes.\\n    #__slots__ = []\\n\\n    # Used by NumPy to determine which type gets returned when there are\\n    # multiple possibilities. Larger numbers == higher priority.\\n    \\n    def __init__(self,value): self._value = value    ',\n",
       "  'class Test(Base): \\n    __slots__ = []\\n    __array_priority__ = 100.0\\n    def __add__(self,other): return onp.add(self,other)',\n",
       "  't1,t2 = Test(1), Test(2)',\n",
       "  't1 + t2',\n",
       "  'class Base: \\n     # This class has no attributes.\\n    #__slots__ = []\\n\\n    # Used by NumPy to determine which type gets returned when there are\\n    # multiple possibilities. Larger numbers == higher priority.\\n    \\n    def __init__(self,value): self._value = value   \\n        \\n    def __bool__(self):\\n        return bool(self._value)\\n    ',\n",
       "  'class Test(Base): \\n    \\n    def __add__(self,other): return onp.add(self,other)',\n",
       "  't1,t2 = Test(1), Test(2)',\n",
       "  't1 + t2',\n",
       "  'class Base: \\n     # This class has no attributes.\\n    #__slots__ = []\\n\\n    # Used by NumPy to determine which type gets returned when there are\\n    # multiple possibilities. Larger numbers == higher priority.\\n    \\n    def __init__(self,value): self._value = value   \\n        \\n    def __bool__(self):\\n        return bool(self._value)\\n    __nonzero__ = __bool__',\n",
       "  'class Test(Base): \\n    \\n    def __add__(self,other): return onp.add(self,other)',\n",
       "  't1,t2 = Test(1), Test(2)',\n",
       "  't1 + t2',\n",
       "  'class Base: \\n     # This class has no attributes.\\n    #__slots__ = []\\n\\n    # Used by NumPy to determine which type gets returned when there are\\n    # multiple possibilities. Larger numbers == higher priority.\\n    __array_priority__ = 90.0\\n\\n    def __init__(self,value): self._value = value   \\n        \\n    def __bool__(self):\\n        return bool(self._value)\\n    __nonzero__ = __bool__',\n",
       "  'class Test(Base): \\n    __array_priority__ = 100.0\\n    def __add__(self,other): return onp.add(self,other)',\n",
       "  't1,t2 = Test(1), Test(2)',\n",
       "  't1 + t2',\n",
       "  'class ArrayBox(Box): \\n    def __bool__(self):  return bool(self._value)\\n    def __add__(self, other): return onp.add(self, other)\\n    def __sub__(self, other): return onp.subtract(self, other)\\n    def __mul__(self,other): return onp.multiply(self, other)',\n",
       "  \"nondiff_methods = [\\n    'all',\\n    'any',\\n    'argmax',\\n    'argmin',\\n    'argpartition',\\n    'argsort',\\n    'nonzero',\\n    'searchsorted',\\n    'round']\\n\\ndiff_methods = [\\n    'clip',\\n    'compress',\\n    'cumprod',\\n    'cumsum',\\n    'diagonal',\\n    'max',\\n    'mean',\\n    'min',\\n    'prod',\\n    'ptp',\\n    'ravel',\\n    'repeat',\\n    'reshape',\\n    'squeeze',\\n    'std',\\n    'sum',\\n    'swapaxes',\\n    'take',\\n    'trace',\\n    'transpose',\\n    'var']\\nfor method_name in nondiff_methods + diff_methods:\\n    setattr(ArrayBox, method_name, anp.__dict__[method_name])\",\n",
       "  'box_y = ArrayBox(y._value, y)\\nbox_z = ArrayBox(z._value, z)\\nbox_y + 1',\n",
       "  'box_type_mappings = Box.type_mappings\\nbox_types = Box.types\\n\\n# If True, the value is Box.\\nisbox  = lambda x: type(x) in box_types  # almost 3X faster than isinstance(x, Box)\\n# Get value from a Box.\\ngetval = lambda x: getval(x._value) if isbox(x) else x\\n\\ndef new_box(value, node):\\n    \"\"\"Box an unboxed value.\\n    Args:\\n      value: unboxed value\\n      node: Node corresponding to this boxed value.\\n    Returns:\\n      Boxed value.\\n    \"\"\"\\n    try:\\n        return box_type_mappings[type(value)](value, node)\\n    except KeyError:\\n        raise TypeError(\"Can\\'t differentiate w.r.t. type {}\".format(type(value)))\\n        \\ndef find_top_boxed_args(args):\\n    \"\"\"Finds boxed arguments with largest trace_id.\\n    Equivalent to finding the largest trace_id of any argument, keeping args\\n    with the same, and dropping the remainder.\\n    Args:\\n      args: Arguments to function wrapped by primitive().\\n    Returns:\\n      top_boxes: List of (index, boxed argument). Arguments have same, largest\\n        trace_id.\\n      top_trace_id: trace_id of all elements in top_boxes.\\n    \"\"\"\\n    top_trace_id = -1\\n    top_boxes = []\\n    for argnum, arg in enumerate(args):\\n        if isbox(arg):\\n            if arg._trace_id > top_trace_id:\\n                top_boxes = [(argnum, arg)]\\n                top_trace_id = arg._trace_id\\n            elif arg._trace_id == top_trace_id:\\n                top_boxes.append((argnum, arg))\\n    return top_boxes, top_trace_id',\n",
       "  'def subvals(x, ivs):\\n    x_ = list(x)\\n    for i, v in ivs:\\n        x_[i] = v\\n    return tuple(x_)\\n\\ndef subval(x, i, v):\\n    x_ = list(x)\\n    x_[i] = v\\n    return tuple(x_)\\n\\ndef toposort(end_node):\\n    child_counts = {}\\n    stack = [end_node]\\n    while stack:\\n        node = stack.pop()\\n        if node in child_counts:\\n            child_counts[node] += 1\\n        else:\\n            child_counts[node] = 1\\n            stack.extend(node.parents)\\n\\n    childless_nodes = [end_node]\\n    while childless_nodes:\\n        node = childless_nodes.pop()\\n        yield node\\n        for parent in node.parents:\\n            if child_counts[parent] == 1:\\n                childless_nodes.append(parent)\\n            else:\\n                child_counts[parent] -= 1\\n\\ndef wraps(fun, namestr=\"{fun}\", docstr=\"{doc}\", **kwargs):\\n    def _wraps(f):\\n        try:\\n            f.__name__ = namestr.format(fun=get_name(fun), **kwargs)\\n            f.__doc__ = docstr.format(fun=get_name(fun), doc=get_doc(fun), **kwargs)\\n        finally:\\n            return f\\n    return _wraps\\n\\ndef wrap_nary_f(fun, op, argnum):\\n    namestr = \"{op}_of_{fun}_wrt_argnum_{argnum}\"\\n    docstr = \"\"\"\\\\\\n    {op} of function {fun} with respect to argument number {argnum}. Takes the\\n    same arguments as {fun} but returns the {op}.\\n    \"\"\"\\n    return wraps(fun, namestr, docstr, op=get_name(op), argnum=argnum)\\n\\nget_name = lambda f: getattr(f, \\'__name__\\', \\'[unknown name]\\')\\nget_doc  = lambda f: getattr(f, \\'__doc__\\' , \\'\\')',\n",
       "  'These are used throughout the program ',\n",
       "  'def subvals(x, ivs):\\n    x_ = list(x)\\n    for i, v in ivs:\\n        x_[i] = v\\n    return tuple(x_)\\n\\ndef subval(x, i, v):\\n    x_ = list(x)\\n    x_[i] = v\\n    return tuple(x_)\\n\\ndef toposort(end_node):\\n    child_counts = {}\\n    stack = [end_node]\\n    while stack:\\n        node = stack.pop()\\n        if node in child_counts:\\n            child_counts[node] += 1\\n        else:\\n            child_counts[node] = 1\\n            stack.extend(node.parents)\\n\\n    childless_nodes = [end_node]\\n    while childless_nodes:\\n        node = childless_nodes.pop()\\n        yield node\\n        for parent in node.parents:\\n            if child_counts[parent] == 1:\\n                childless_nodes.append(parent)\\n            else:\\n                child_counts[parent] -= 1\\n\\ndef wraps(fun, namestr=\"{fun}\", docstr=\"{doc}\", **kwargs):\\n    def _wraps(f):\\n        try:\\n            f.__name__ = namestr.format(fun=get_name(fun), **kwargs)\\n            f.__doc__ = docstr.format(fun=get_name(fun), doc=get_doc(fun), **kwargs)\\n        finally:\\n            return f\\n    return _wraps\\n\\ndef wrap_nary_f(fun, op, argnum):\\n    namestr = \"{op}_of_{fun}_wrt_argnum_{argnum}\"\\n    docstr = \"\"\"\\\\\\n    {op} of function {fun} with respect to argument number {argnum}. Takes the\\n    same arguments as {fun} but returns the {op}.\\n    \"\"\"\\n    return wraps(fun, namestr, docstr, op=get_name(op), argnum=argnum)\\n\\nget_name = lambda f: getattr(f, \\'__name__\\', \\'[unknown name]\\')\\nget_doc  = lambda f: getattr(f, \\'__doc__\\' , \\'\\')',\n",
       "  'def subvals(x, ivs):\\n    x_ = list(x)\\n    for i, v in ivs:\\n        x_[i] = v\\n    return tuple(x_)\\n\\ndef subval(x, i, v):\\n    x_ = list(x)\\n    x_[i] = v\\n    return tuple(x_)\\n\\n\\ndef toposort(end_node):\\n    child_counts = {}\\n    stack = [end_node]\\n    while stack:\\n        node = stack.pop()\\n        if node in child_counts:\\n            child_counts[node] += 1\\n        else:\\n            child_counts[node] = 1\\n            stack.extend(node.parents)\\n\\n    childless_nodes = [end_node]\\n    while childless_nodes:\\n        node = childless_nodes.pop()\\n        yield node\\n        for parent in node.parents:\\n            if child_counts[parent] == 1:\\n                childless_nodes.append(parent)\\n            else:\\n                child_counts[parent] -= 1\\n\\ndef wraps(fun, namestr=\"{fun}\", docstr=\"{doc}\", **kwargs):\\n    def _wraps(f):\\n        try:\\n            f.__name__ = namestr.format(fun=get_name(fun), **kwargs)\\n            f.__doc__ = docstr.format(fun=get_name(fun), doc=get_doc(fun), **kwargs)\\n        finally:\\n            return f\\n    return _wraps\\n\\ndef wrap_nary_f(fun, op, argnum):\\n    namestr = \"{op}_of_{fun}_wrt_argnum_{argnum}\"\\n    docstr = \"\"\"\\\\\\n    {op} of function {fun} with respect to argument number {argnum}. Takes the\\n    same arguments as {fun} but returns the {op}.\\n    \"\"\"\\n    return wraps(fun, namestr, docstr, op=get_name(op), argnum=argnum)\\n\\nget_name = lambda f: getattr(f, \\'__name__\\', \\'[unknown name]\\')\\nget_doc  = lambda f: getattr(f, \\'__doc__\\' , \\'\\')',\n",
       "  'def subvals(x, ivs):\\n    x_ = list(x)\\n    for i, v in ivs:\\n        x_[i] = v\\n    return tuple(x_)\\n\\ndef subval(x, i, v):\\n    x_ = list(x)\\n    x_[i] = v\\n    return tuple(x_)\\n\\n# If True, the value is Box.\\nisbox  = lambda x: type(x) in box_types  # almost 3X faster than isinstance(x, Box)\\n# Get value from a Box.\\ngetval = lambda x: getval(x._value) if isbox(x) else x\\n\\ndef toposort(end_node):\\n    child_counts = {}\\n    stack = [end_node]\\n    while stack:\\n        node = stack.pop()\\n        if node in child_counts:\\n            child_counts[node] += 1\\n        else:\\n            child_counts[node] = 1\\n            stack.extend(node.parents)\\n\\n    childless_nodes = [end_node]\\n    while childless_nodes:\\n        node = childless_nodes.pop()\\n        yield node\\n        for parent in node.parents:\\n            if child_counts[parent] == 1:\\n                childless_nodes.append(parent)\\n            else:\\n                child_counts[parent] -= 1\\n\\ndef wraps(fun, namestr=\"{fun}\", docstr=\"{doc}\", **kwargs):\\n    def _wraps(f):\\n        try:\\n            f.__name__ = namestr.format(fun=get_name(fun), **kwargs)\\n            f.__doc__ = docstr.format(fun=get_name(fun), doc=get_doc(fun), **kwargs)\\n        finally:\\n            return f\\n    return _wraps\\n\\ndef wrap_nary_f(fun, op, argnum):\\n    namestr = \"{op}_of_{fun}_wrt_argnum_{argnum}\"\\n    docstr = \"\"\"\\\\\\n    {op} of function {fun} with respect to argument number {argnum}. Takes the\\n    same arguments as {fun} but returns the {op}.\\n    \"\"\"\\n    return wraps(fun, namestr, docstr, op=get_name(op), argnum=argnum)\\n\\nget_name = lambda f: getattr(f, \\'__name__\\', \\'[unknown name]\\')\\nget_doc  = lambda f: getattr(f, \\'__doc__\\' , \\'\\')',\n",
       "  'class Box:\\n    # These belong to all members of class Box\\n    type_mappings = {} \\n    types = set()\\n    \\n    def __init__(self, value, node): \\n        self._value = value\\n        self._node = node \\n    \\n    @classmethod\\n    def register(cls, value_type): \\n        \"\"\"cls is Box if called by a Box object, ArrayBox if called with ArrayBox etc\"\"\"\\n        Box.types.add(cls)\\n        Box.type_mappings[value_type] = cls\\n        #Box.type_mappings[cls] = cls\\n    ',\n",
       "  'class Box:\\n    # These belong to all members of class Box\\n    type_mappings = {} \\n    types = set()\\n    \\n    def __init__(self, value, node): \\n        self._value = value\\n        self._node = node \\n    \\n    @classmethod\\n    def register(cls, value_type): \\n        \"\"\"cls is Box if called by a Box object, ArrayBox if called with ArrayBox etc\"\"\"\\n        Box.types.add(cls)\\n        Box.type_mappings[value_type] = cls\\n        #Box.type_mappings[cls] = cls\\n    \\nbox_type_mappings = Box.type_mappings\\nbox_types = Box.types',\n",
       "  'def subvals(x, ivs):\\n    \"\"\"Changes an iterable x to a tuple and replace the ivs[0]th value of x with ivs[1], for every tuple in ivs. \\nivs is a list of (int, value) pairs, hence the name \\n\\nFor example: \\nx = [0,1,2,3,4,5,6]\\nivs = [(0,\\'s1\\'), (4, \\'s2\\'), (5, \\'s3\\')]\\nsubvals(x, ivs)\\n# gives (\\'s1\\', 1, 2, 3, \\'s2\\', \\'s3\\', 6)\\n    \"\"\"\\n    x_ = list(x)\\n    for i, v in ivs:\\n        x_[i] = v\\n    return tuple(x_)\\n\\ndef subval(x, i, v):\\n    x_ = list(x)\\n    x_[i] = v\\n    return tuple(x_)\\n\\n# If True, the value is Box.\\nisbox  = lambda x: type(x) in box_types  # almost 3X faster than isinstance(x, Box)\\n# Get value from a Box.\\ngetval = lambda x: getval(x._value) if isbox(x) else x\\n\\ndef toposort(end_node):\\n    child_counts = {}\\n    stack = [end_node]\\n    while stack:\\n        node = stack.pop()\\n        if node in child_counts:\\n            child_counts[node] += 1\\n        else:\\n            child_counts[node] = 1\\n            stack.extend(node.parents)\\n\\n    childless_nodes = [end_node]\\n    while childless_nodes:\\n        node = childless_nodes.pop()\\n        yield node\\n        for parent in node.parents:\\n            if child_counts[parent] == 1:\\n                childless_nodes.append(parent)\\n            else:\\n                child_counts[parent] -= 1\\n\\ndef wraps(fun, namestr=\"{fun}\", docstr=\"{doc}\", **kwargs):\\n    def _wraps(f):\\n        try:\\n            f.__name__ = namestr.format(fun=get_name(fun), **kwargs)\\n            f.__doc__ = docstr.format(fun=get_name(fun), doc=get_doc(fun), **kwargs)\\n        finally:\\n            return f\\n    return _wraps\\n\\ndef wrap_nary_f(fun, op, argnum):\\n    namestr = \"{op}_of_{fun}_wrt_argnum_{argnum}\"\\n    docstr = \"\"\"\\\\\\n    {op} of function {fun} with respect to argument number {argnum}. Takes the\\n    same arguments as {fun} but returns the {op}.\\n    \"\"\"\\n    return wraps(fun, namestr, docstr, op=get_name(op), argnum=argnum)\\n\\nget_name = lambda f: getattr(f, \\'__name__\\', \\'[unknown name]\\')\\nget_doc  = lambda f: getattr(f, \\'__doc__\\' , \\'\\')',\n",
       "  'def primitive(f_raw):\\n    \"\"\"Wraps a function so that its gradient (vjp) can be specified and its\\n    invocation can be recorded.\"\"\"\\n    def f_wrapped(*args, **kwargs):\\n        boxed_args = args\\n        if boxed_args:\\n            # Get nodes for each boxed argument.\\n            parents = tuple(box._node for _, box in boxed_args)\\n            \\n            # Note that we use a recursive call here in order to also augment\\n            # outer calls to trace() with lower trace_ids. See TraceStack\\'s\\n            # docstring for details.\\n            ans = f_wrapped(*argvals, **kwargs)\\n            # Create a new node\\n            node = Node(ans, f_wrapped, parents)\\n            return new_box(ans, trace_id, node)\\n        else:\\n            return f_raw(*args, **kwargs)\\n    return f_wrapped',\n",
       "  'def new_box(value, node):\\n    \"\"\"Box an unboxed value.\\n    Args:\\n      value: unboxed value\\n      node: Node corresponding to this boxed value.\\n    Returns:\\n      Boxed value.\\n    \"\"\"\\n    try:\\n        return box_type_mappings[type(value)](value, node)\\n    except KeyError:\\n        raise TypeError(\"Can\\'t differentiate w.r.t. type {}\".format(type(value)))',\n",
       "  'def primitive(f_raw):\\n    \"\"\"Wraps a function so that its gradient (vjp) can be specified and its\\n    invocation can be recorded.\"\"\"\\n    def f_wrapped(*args, **kwargs):\\n        boxed_args = args\\n        if boxed_args:\\n            # Get nodes for each boxed argument.\\n            parents = tuple(box._node for _, box in boxed_args)\\n            \\n            # Note that we use a recursive call here in order to also augment\\n            # outer calls to trace() with lower trace_ids. See TraceStack\\'s\\n            # docstring for details.\\n            ans = f_wrapped(*argvals, **kwargs)\\n            # Create a new node\\n            node = Node(ans, f_wrapped, parents)\\n            return new_box(ans, trace_id, node)\\n        else:\\n            return f_raw(*args, **kwargs)\\n    return f_wrapped',\n",
       "  'class Box:\\n    # These belong to all members of class Box\\n    type_mappings = {} \\n    types = set()\\n    \\n    def __init__(self, value, node): \\n        self._value = value\\n        self._node = node \\n    \\n    @classmethod\\n    def register(cls, value_type): \\n        \"\"\"cls is Box if called by a Box object, ArrayBox if called with ArrayBox etc\"\"\"\\n        Box.types.add(cls)\\n        Box.type_mappings[value_type] = cls\\n        #Box.type_mappings[cls] = cls\\n    \\nbox_type_mappings = Box.type_mappings\\nbox_types = Box.types',\n",
       "  'def new_box(value, node):\\n    \"\"\"Box an unboxed value.\\n    Args:\\n      value: unboxed value\\n      node: Node corresponding to this boxed value.\\n    Returns:\\n      Boxed value.\\n    \"\"\"\\n    try:\\n        return box_type_mappings[type(value)](value, node)\\n    except KeyError:\\n        raise TypeError(\"Can\\'t differentiate w.r.t. type {}\".format(type(value)))',\n",
       "  'def primitive(f_raw):\\n    \"\"\"Wraps a function so that its gradient (vjp) can be specified and its\\n    invocation can be recorded.\"\"\"\\n    def f_wrapped(*args, **kwargs):\\n        boxed_args = args\\n        if boxed_args:\\n            # Get nodes for each boxed argument.\\n            parents = tuple(box._node for _, box in boxed_args)\\n            \\n            # Note that we use a recursive call here in order to also augment\\n            # outer calls to trace() with lower trace_ids. See TraceStack\\'s\\n            # docstring for details.\\n            ans = f_wrapped(*argvals, **kwargs)\\n            # Create a new node\\n            node = Node(ans, f_wrapped, parents)\\n            return new_box(ans, node)\\n        else:\\n            return f_raw(*args, **kwargs)\\n    return f_wrapped',\n",
       "  'primitive(np.add)',\n",
       "  'primitive(onp.add)',\n",
       "  'new_add = primitive(onp.add)',\n",
       "  'new_add(1,4)',\n",
       "  'onp.add',\n",
       "  'onp.add(13,4)',\n",
       "  'new_add(13,4)',\n",
       "  'new_add(box_z,box_t1)',\n",
       "  \"box_z = Box(z._value, z)\\nbox_t1 = Box(t1._value, t1)\\nbox_t2 = Box(t2._value, t2)\\nbox_t3 = Box(t3._value, t3)\\nbox_y = Box(y._value, y)\\nbox_y.register('string_type')\",\n",
       "  'new_add = primitive(onp.add)',\n",
       "  'new_add(box_z,box_t1)',\n",
       "  \"get_ipython().run_line_magic('debug', '')\",\n",
       "  'def subvals(x, ivs):\\n\"\"\"\\n    Changes an iterable x to a tuple and replace the ivs[0]th value of x with ivs[1], for every tuple in ivs. \\nivs is a list of (int, value) pairs, hence the name \\n\\nFor example: \\nx = [0,1,2,3,4,5,6]\\nivs = [(0,\\'s1\\'), (4, \\'s2\\'), (5, \\'s3\\')]\\nsubvals(x, ivs)\\n# gives (\\'s1\\', 1, 2, 3, \\'s2\\', \\'s3\\', 6)\\n    \"\"\"\\n    x_ = list(x)\\n    for i, v in ivs:\\n        x_[i] = v\\n    return tuple(x_)\\n\\ndef subval(x, i, v):\\n    x_ = list(x)\\n    x_[i] = v\\n    return tuple(x_)\\n\\n# If True, the value is Box.\\nisbox  = lambda x: type(x) in box_types  # almost 3X faster than isinstance(x, Box)\\n# Get value from a Box.\\ngetval = lambda x: getval(x._value) if isbox(x) else x\\n\\ndef toposort(end_node):\\n    child_counts = {}\\n    stack = [end_node]\\n    while stack:\\n        node = stack.pop()\\n        if node in child_counts:\\n            child_counts[node] += 1\\n        else:\\n            child_counts[node] = 1\\n            stack.extend(node.parents)\\n\\n    childless_nodes = [end_node]\\n    while childless_nodes:\\n        node = childless_nodes.pop()\\n        yield node\\n        for parent in node.parents:\\n            if child_counts[parent] == 1:\\n                childless_nodes.append(parent)\\n            else:\\n                child_counts[parent] -= 1\\n\\ndef wraps(fun, namestr=\"{fun}\", docstr=\"{doc}\", **kwargs):\\n    def _wraps(f):\\n        try:\\n            f.__name__ = namestr.format(fun=get_name(fun), **kwargs)\\n            f.__doc__ = docstr.format(fun=get_name(fun), doc=get_doc(fun), **kwargs)\\n        finally:\\n            return f\\n    return _wraps\\n\\ndef wrap_nary_f(fun, op, argnum):\\n    namestr = \"{op}_of_{fun}_wrt_argnum_{argnum}\"\\n    docstr = \"\"\"\\\\\\n    {op} of function {fun} with respect to argument number {argnum}. Takes the\\n    same arguments as {fun} but returns the {op}.\\n    \"\"\"\\n    return wraps(fun, namestr, docstr, op=get_name(op), argnum=argnum)\\n\\nget_name = lambda f: getattr(f, \\'__name__\\', \\'[unknown name]\\')\\nget_doc  = lambda f: getattr(f, \\'__doc__\\' , \\'\\')',\n",
       "  'def primitive(f_raw):\\n    \"\"\"Wraps a function so that its gradient (vjp) can be specified and its\\n    invocation can be recorded.\"\"\"\\n    def f_wrapped(*args, **kwargs):\\n        set_trace()\\n        boxed_args = args\\n        if boxed_args:\\n            # Get nodes for each boxed argument.\\n            parents = tuple(box._node for _, box in boxed_args)\\n            \\n            # Note that we use a recursive call here in order to also augment\\n            # outer calls to trace() with lower trace_ids. See TraceStack\\'s\\n            # docstring for details.\\n            ans = f_wrapped(*argvals, **kwargs)\\n            # Create a new node\\n            node = Node(ans, f_wrapped, parents)\\n            return new_box(ans, node)\\n        else:\\n            return f_raw(*args, **kwargs)\\n    return f_wrapped',\n",
       "  'def primitive(f_raw):\\n    \"\"\"Wraps a function so that its gradient (vjp) can be specified and its\\n    invocation can be recorded.\"\"\"\\n    def f_wrapped(*args, **kwargs):\\n        set_trace()\\n        boxed_args = args\\n        if boxed_args:\\n            # Get nodes for each boxed argument.\\n            parents = tuple(box._node for _, box in boxed_args)\\n            \\n            # Note that we use a recursive call here in order to also augment\\n            # outer calls to trace() with lower trace_ids. See TraceStack\\'s\\n            # docstring for details.\\n            ans = f_wrapped(*argvals, **kwargs)\\n            # Create a new node\\n            node = Node(ans, f_wrapped, parents)\\n            return new_box(ans, node)\\n        else:\\n            return f_raw(*args, **kwargs)\\n    return f_wrapped',\n",
       "  \"box_z = Box(z._value, z)\\nbox_t1 = Box(t1._value, t1)\\nbox_t2 = Box(t2._value, t2)\\nbox_t3 = Box(t3._value, t3)\\nbox_y = Box(y._value, y)\\nbox_y.register('string_type')\",\n",
       "  'new_add = primitive(onp.add)',\n",
       "  'def new_box(value, node):\\n    \"\"\"Box an unboxed value.\\n    Args:\\n      value: unboxed value\\n      node: Node corresponding to this boxed value.\\n    Returns:\\n      Boxed value.\\n    \"\"\"\\n    try:\\n        return box_type_mappings[type(value)](value, node)\\n    except KeyError:\\n        raise TypeError(\"Can\\'t differentiate w.r.t. type {}\".format(type(value)))',\n",
       "  'def primitive(f_raw):\\n    \"\"\"Wraps a function so that its gradient (vjp) can be specified and its\\n    invocation can be recorded.\"\"\"\\n    def f_wrapped(*args, **kwargs):\\n        set_trace()\\n        boxed_args = args\\n        if boxed_args:\\n            # Get nodes for each boxed argument.\\n            parents = tuple(box._node for _, box in boxed_args)\\n            \\n            # Note that we use a recursive call here in order to also augment\\n            # outer calls to trace() with lower trace_ids. See TraceStack\\'s\\n            # docstring for details.\\n            ans = f_wrapped(*argvals, **kwargs)\\n            # Create a new node\\n            node = Node(ans, f_wrapped, parents)\\n            return new_box(ans, node)\\n        else:\\n            return f_raw(*args, **kwargs)\\n    return f_wrapped',\n",
       "  \"box_z = Box(z._value, z)\\nbox_t1 = Box(t1._value, t1)\\nbox_t2 = Box(t2._value, t2)\\nbox_t3 = Box(t3._value, t3)\\nbox_y = Box(y._value, y)\\nbox_y.register('string_type')\",\n",
       "  'new_add = primitive(onp.add)',\n",
       "  'new_add(box_z,box_t1)',\n",
       "  'def new_box(value, node):\\n    \"\"\"Box an unboxed value.\\n    Args:\\n      value: unboxed value\\n      node: Node corresponding to this boxed value.\\n    Returns:\\n      Boxed value.\\n    \"\"\"\\n    try:\\n        return box_type_mappings[type(value)](value, node)\\n    except KeyError:\\n        raise TypeError(\"Can\\'t differentiate w.r.t. type {}\".format(type(value)))',\n",
       "  'def find_top_boxed_args(args):\\n    top_boxes = []\\n    for i,o in enumerate(args)\\n    top.boxes.append(i,o)\\n    \\n#     top_trace_id = -1\\n#     top_boxes = []\\n#     for argnum, arg in enumerate(args):\\n#         if isbox(arg):\\n#             if arg._trace_id > top_trace_id:\\n#                 top_boxes = [(argnum, arg)]\\n#                 top_trace_id = arg._trace_id\\n#             elif arg._trace_id == top_trace_id:\\n#                 top_boxes.append((argnum, arg))\\n    return top_boxes',\n",
       "  'def find_top_boxed_args(args):\\n    top_boxes = []\\n    for i,o in enumerate(args):\\n        top.boxes.append(i,o)\\n    \\n#     top_trace_id = -1\\n#     top_boxes = []\\n#     for argnum, arg in enumerate(args):\\n#         if isbox(arg):\\n#             if arg._trace_id > top_trace_id:\\n#                 top_boxes = [(argnum, arg)]\\n#                 top_trace_id = arg._trace_id\\n#             elif arg._trace_id == top_trace_id:\\n#                 top_boxes.append((argnum, arg))\\n    return top_boxes',\n",
       "  'def find_top_boxed_args(args):\\n    top_boxes = []\\n    for i,o in enumerate(args):\\n        top.boxes.append(i,o)\\n    \\n#     top_trace_id = -1\\n#     top_boxes = []\\n#     for argnum, arg in enumerate(args):\\n#         if isbox(arg):\\n#             if arg._trace_id > top_trace_id:\\n#                 top_boxes = [(argnum, arg)]\\n#                 top_trace_id = arg._trace_id\\n#             elif arg._trace_id == top_trace_id:\\n#                 top_boxes.append((argnum, arg))\\n    return top_boxes',\n",
       "  'def primitive(f_raw):\\n    \"\"\"Wraps a function so that its gradient (vjp) can be specified and its\\n    invocation can be recorded.\"\"\"\\n    def f_wrapped(*args, **kwargs):\\n        set_trace()\\n        boxed_args = find_top_boxed_args(args)\\n        if boxed_args:\\n            # Get nodes for each boxed argument.\\n            parents = tuple(box._node for _, box in boxed_args)\\n            \\n            # Note that we use a recursive call here in order to also augment\\n            # outer calls to trace() with lower trace_ids. See TraceStack\\'s\\n            # docstring for details.\\n            ans = f_wrapped(*argvals, **kwargs)\\n            # Create a new node\\n            node = Node(ans, f_wrapped, parents)\\n            return new_box(ans, node)\\n        else:\\n            return f_raw(*args, **kwargs)\\n    return f_wrapped',\n",
       "  \"box_z = Box(z._value, z)\\nbox_t1 = Box(t1._value, t1)\\nbox_t2 = Box(t2._value, t2)\\nbox_t3 = Box(t3._value, t3)\\nbox_y = Box(y._value, y)\\nbox_y.register('string_type')\",\n",
       "  'new_add = primitive(onp.add)',\n",
       "  'new_add(box_z,box_t1)',\n",
       "  'def find_top_boxed_args(args):\\n    top_boxes = []\\n    for i,o in enumerate(args):\\n        top_boxes.append(i,o)\\n    \\n#     top_trace_id = -1\\n#     top_boxes = []\\n#     for argnum, arg in enumerate(args):\\n#         if isbox(arg):\\n#             if arg._trace_id > top_trace_id:\\n#                 top_boxes = [(argnum, arg)]\\n#                 top_trace_id = arg._trace_id\\n#             elif arg._trace_id == top_trace_id:\\n#                 top_boxes.append((argnum, arg))\\n    return top_boxes',\n",
       "  'def primitive(f_raw):\\n    \"\"\"Wraps a function so that its gradient (vjp) can be specified and its\\n    invocation can be recorded.\"\"\"\\n    def f_wrapped(*args, **kwargs):\\n        set_trace()\\n        boxed_args = find_top_boxed_args(args)\\n        if boxed_args:\\n            # Get nodes for each boxed argument.\\n            parents = tuple(box._node for _, box in boxed_args)\\n            \\n            # Note that we use a recursive call here in order to also augment\\n            # outer calls to trace() with lower trace_ids. See TraceStack\\'s\\n            # docstring for details.\\n            ans = f_wrapped(*argvals, **kwargs)\\n            # Create a new node\\n            node = Node(ans, f_wrapped, parents)\\n            return new_box(ans, node)\\n        else:\\n            return f_raw(*args, **kwargs)\\n    return f_wrapped',\n",
       "  \"box_z = Box(z._value, z)\\nbox_t1 = Box(t1._value, t1)\\nbox_t2 = Box(t2._value, t2)\\nbox_t3 = Box(t3._value, t3)\\nbox_y = Box(y._value, y)\\nbox_y.register('string_type')\",\n",
       "  'new_add = primitive(onp.add)',\n",
       "  'new_add(box_z,box_t1)',\n",
       "  'def primitive(f_raw):\\n    \"\"\"Wraps a function so that its gradient (vjp) can be specified and its\\n    invocation can be recorded.\"\"\"\\n    def f_wrapped(*args, **kwargs):\\n        set_trace()\\n        boxed_args = find_top_boxed_args(args)\\n        if boxed_args:\\n            # Get nodes for each boxed argument.\\n            parents = tuple(box._node for _, box in boxed_args)\\n            \\n            # Note that we use a recursive call here in order to also augment\\n            # outer calls to trace() with lower trace_ids. See TraceStack\\'s\\n            # docstring for details.\\n            ans = f_wrapped(*argvals, **kwargs)\\n            # Create a new node\\n            node = Node(ans, f_wrapped, parents)\\n            return new_box(ans, node)\\n        else:\\n            return f_raw(*args, **kwargs)\\n    return f_wrapped',\n",
       "  \"box_z = Box(z._value, z)\\nbox_t1 = Box(t1._value, t1)\\nbox_t2 = Box(t2._value, t2)\\nbox_t3 = Box(t3._value, t3)\\nbox_y = Box(y._value, y)\\nbox_y.register('string_type')\",\n",
       "  'new_add = primitive(onp.add)',\n",
       "  'new_add(box_z,box_t1)',\n",
       "  'def find_top_boxed_args(args):\\n    top_boxes = []\\n    for i,o in enumerate(args):\\n        top_boxes.append((i,o))\\n    \\n#     top_trace_id = -1\\n#     top_boxes = []\\n#     for argnum, arg in enumerate(args):\\n#         if isbox(arg):\\n#             if arg._trace_id > top_trace_id:\\n#                 top_boxes = [(argnum, arg)]\\n#                 top_trace_id = arg._trace_id\\n#             elif arg._trace_id == top_trace_id:\\n#                 top_boxes.append((argnum, arg))\\n    return top_boxes',\n",
       "  'def primitive(f_raw):\\n    \"\"\"Wraps a function so that its gradient (vjp) can be specified and its\\n    invocation can be recorded.\"\"\"\\n    def f_wrapped(*args, **kwargs):\\n        set_trace()\\n        boxed_args = find_top_boxed_args(args)\\n        if boxed_args:\\n            # Get nodes for each boxed argument.\\n            parents = tuple(box._node for _, box in boxed_args)\\n            \\n            # Note that we use a recursive call here in order to also augment\\n            # outer calls to trace() with lower trace_ids. See TraceStack\\'s\\n            # docstring for details.\\n            ans = f_wrapped(*argvals, **kwargs)\\n            # Create a new node\\n            node = Node(ans, f_wrapped, parents)\\n            return new_box(ans, node)\\n        else:\\n            return f_raw(*args, **kwargs)\\n    return f_wrapped',\n",
       "  \"box_z = Box(z._value, z)\\nbox_t1 = Box(t1._value, t1)\\nbox_t2 = Box(t2._value, t2)\\nbox_t3 = Box(t3._value, t3)\\nbox_y = Box(y._value, y)\\nbox_y.register('string_type')\",\n",
       "  'new_add = primitive(onp.add)',\n",
       "  'new_add(box_z,box_t1)',\n",
       "  'val_z = 1.5 \\nz = Node(val_z, None, [])\\nval_t1 = np.negative(val_z)\\nt1 = Node(val_t1,np.negative, [z])\\nval_t2 = np.exp(val_t1)\\nt2 = Node(val_t2, np.exp, [t1])\\nval_t3 = np.add(val_t2, 1)\\nt3 = Node(val_t3, np.add, [t2])\\nval_y = np.reciprocal(val_t3)\\ny = Node(val_y, np.reciprocal, [t3])\\nprint(round(y._value,3)) # same answer as before',\n",
       "  \"import numpy as np\\nimport numpy as onp\\nimport autograd \\npath_assets = './assets/'\",\n",
       "  'import numpy as np\\nval_z = 1.5 \\nz = Node(val_z, None, [])\\nval_t1 = np.negative(val_z)\\nt1 = Node(val_t1,np.negative, [z])\\nval_t2 = np.exp(val_t1)\\nt2 = Node(val_t2, np.exp, [t1])\\nval_t3 = np.add(val_t2, 1)\\nt3 = Node(val_t3, np.add, [t2])\\nval_y = np.reciprocal(val_t3)\\ny = Node(val_y, np.reciprocal, [t3])\\nprint(round(y._value,3)) # same answer as before\\ndel np',\n",
       "  'def new_box(value, node):\\n    \"\"\"Box an unboxed value.\\n    Args:\\n      value: unboxed value\\n      node: Node corresponding to this boxed value.\\n    Returns:\\n      Boxed value.\\n    \"\"\"\\n    try:\\n        return box_type_mappings[type(value)](value, node)\\n    except KeyError:\\n        raise TypeError(\"Can\\'t differentiate w.r.t. type {}\".format(type(value)))',\n",
       "  'def find_top_boxed_args(args):\\n    top_boxes = []\\n    for i,o in enumerate(args):\\n        top_boxes.append((i,o))\\n    \\n#     top_trace_id = -1\\n#     top_boxes = []\\n#     for argnum, arg in enumerate(args):\\n#         if isbox(arg):\\n#             if arg._trace_id > top_trace_id:\\n#                 top_boxes = [(argnum, arg)]\\n#                 top_trace_id = arg._trace_id\\n#             elif arg._trace_id == top_trace_id:\\n#                 top_boxes.append((argnum, arg))\\n    return top_boxes',\n",
       "  'def primitive(f_raw):\\n    \"\"\"Wraps a function so that its gradient (vjp) can be specified and its\\n    invocation can be recorded.\"\"\"\\n    def f_wrapped(*args, **kwargs):\\n        set_trace()\\n        boxed_args = find_top_boxed_args(args)\\n        if boxed_args:\\n            # Get nodes for each boxed argument.\\n            parents = tuple(box._node for _, box in boxed_args)\\n            \\n            # Note that we use a recursive call here in order to also augment\\n            # outer calls to trace() with lower trace_ids. See TraceStack\\'s\\n            # docstring for details.\\n            ans = f_wrapped(*argvals, **kwargs)\\n            # Create a new node\\n            node = Node(ans, f_wrapped, parents)\\n            return new_box(ans, node)\\n        else:\\n            return f_raw(*args, **kwargs)\\n    return f_wrapped',\n",
       "  \"box_z = Box(z._value, z)\\nbox_t1 = Box(t1._value, t1)\\nbox_t2 = Box(t2._value, t2)\\nbox_t3 = Box(t3._value, t3)\\nbox_y = Box(y._value, y)\\nbox_y.register('string_type')\",\n",
       "  'new_add = primitive(onp.add)',\n",
       "  'new_add(box_z,box_t1)',\n",
       "  '# Non differentiable functions \\nnograd_functions = [\\n    _np.ndim, _np.shape, _np.iscomplexobj, _np.result_type, _np.zeros_like,\\n    _np.ones_like, _np.floor, _np.ceil, _np.round, _np.rint, _np.around,\\n    _np.fix, _np.trunc, _np.all, _np.any, _np.argmax, _np.argmin,\\n    _np.argpartition, _np.argsort, _np.argwhere, _np.nonzero, _np.flatnonzero,\\n    _np.count_nonzero, _np.searchsorted, _np.sign, _np.ndim, _np.shape,\\n    _np.floor_divide, _np.logical_and, _np.logical_or, _np.logical_not,\\n    _np.logical_xor, _np.isfinite, _np.isinf, _np.isnan, _np.isneginf,\\n    _np.isposinf, _np.allclose, _np.isclose, _np.array_equal, _np.array_equiv,\\n    _np.greater, _np.greater_equal, _np.less, _np.less_equal, _np.equal,\\n    _np.not_equal, _np.iscomplexobj, _np.iscomplex, _np.size, _np.isscalar,\\n    _np.isreal, _np.zeros_like, _np.ones_like, _np.result_type\\n]',\n",
       "  'try:     del np\\nexcept:  pass \\nimport numpy as _np',\n",
       "  '# Non differentiable functions \\nnograd_functions = [\\n    _np.ndim, _np.shape, _np.iscomplexobj, _np.result_type, _np.zeros_like,\\n    _np.ones_like, _np.floor, _np.ceil, _np.round, _np.rint, _np.around,\\n    _np.fix, _np.trunc, _np.all, _np.any, _np.argmax, _np.argmin,\\n    _np.argpartition, _np.argsort, _np.argwhere, _np.nonzero, _np.flatnonzero,\\n    _np.count_nonzero, _np.searchsorted, _np.sign, _np.ndim, _np.shape,\\n    _np.floor_divide, _np.logical_and, _np.logical_or, _np.logical_not,\\n    _np.logical_xor, _np.isfinite, _np.isinf, _np.isnan, _np.isneginf,\\n    _np.isposinf, _np.allclose, _np.isclose, _np.array_equal, _np.array_equiv,\\n    _np.greater, _np.greater_equal, _np.less, _np.less_equal, _np.equal,\\n    _np.not_equal, _np.iscomplexobj, _np.iscomplex, _np.size, _np.isscalar,\\n    _np.isreal, _np.zeros_like, _np.ones_like, _np.result_type\\n]',\n",
       "  'try:     del np\\nexcept:  pass \\nimport numpy as _np, numpy as onp',\n",
       "  'unchanged_types = {float, int, type(None), type}\\nint_types = {_np.int, _np.int8, _np.int16, _np.int32, _np.int64, _np.integer}\\nfunction_types = {_np.ufunc, types.FunctionType, types.BuiltinFunctionType}',\n",
       "  'import type\\nunchanged_types = {float, int, type(None), type}\\nint_types = {_np.int, _np.int8, _np.int16, _np.int32, _np.int64, _np.integer}\\nfunction_types = {_np.ufunc, types.FunctionType, types.BuiltinFunctionType}',\n",
       "  'import types\\nunchanged_types = {float, int, type(None), type}\\nint_types = {_np.int, _np.int8, _np.int16, _np.int32, _np.int64, _np.integer}\\nfunction_types = {_np.ufunc, types.FunctionType, types.BuiltinFunctionType}',\n",
       "  'globals()'],\n",
       " 'Out': {9: 0.818,\n",
       "  16: 1.5,\n",
       "  20: <__main__.Box at 0x10c7579b0>,\n",
       "  23: <__main__.Box at 0x10c7579b0>,\n",
       "  24: {'string_type': __main__.Box},\n",
       "  25: {__main__.Box},\n",
       "  32: {},\n",
       "  43: 3,\n",
       "  64: 3,\n",
       "  68: 3,\n",
       "  109: <function __main__.primitive.<locals>.f_wrapped(*args, **kwargs)>,\n",
       "  112: <ufunc 'add'>,\n",
       "  113: 17},\n",
       " 'get_ipython': <bound method InteractiveShell.get_ipython of <ipykernel.zmqshell.ZMQInteractiveShell object at 0x105f169e8>>,\n",
       " 'exit': <IPython.core.autocall.ZMQExitAutocall at 0x107ac97f0>,\n",
       " 'quit': <IPython.core.autocall.ZMQExitAutocall at 0x107ac97f0>,\n",
       " '_': 17,\n",
       " '__': <ufunc 'add'>,\n",
       " '___': <function __main__.primitive.<locals>.f_wrapped(*args, **kwargs)>,\n",
       " '_i': 'import types\\nunchanged_types = {float, int, type(None), type}\\nint_types = {_np.int, _np.int8, _np.int16, _np.int32, _np.int64, _np.integer}\\nfunction_types = {_np.ufunc, types.FunctionType, types.BuiltinFunctionType}',\n",
       " '_ii': 'import type\\nunchanged_types = {float, int, type(None), type}\\nint_types = {_np.int, _np.int8, _np.int16, _np.int32, _np.int64, _np.integer}\\nfunction_types = {_np.ufunc, types.FunctionType, types.BuiltinFunctionType}',\n",
       " '_iii': 'unchanged_types = {float, int, type(None), type}\\nint_types = {_np.int, _np.int8, _np.int16, _np.int32, _np.int64, _np.integer}\\nfunction_types = {_np.ufunc, types.FunctionType, types.BuiltinFunctionType}',\n",
       " '_i1': '# default_exp core',\n",
       " '_i2': '#hide\\nfrom nbdev.showdoc import *\\n%load_ext autoreload\\n%autoreload 2\\nfrom IPython.core.debugger import set_trace\\nfrom IPython.display import Markdown as md',\n",
       " 'is_enum': <function nbdev.showdoc.is_enum(cls)>,\n",
       " 'get_all': <function nbdev.showdoc.get_all(package)>,\n",
       " 'is_lib_module': <function nbdev.showdoc.is_lib_module(name)>,\n",
       " 'try_external_doc_link': <function nbdev.showdoc.try_external_doc_link(name, packages)>,\n",
       " 'doc_link': <function nbdev.showdoc.doc_link(name, include_bt=True)>,\n",
       " 'add_doc_links': <function nbdev.showdoc.add_doc_links(text)>,\n",
       " 'get_source_link': <function nbdev.showdoc.get_source_link(func)>,\n",
       " 'get_nb_source_link': <function nbdev.showdoc.get_nb_source_link(func, local=False, is_name=None)>,\n",
       " 'nb_source_link': <function nbdev.showdoc.nb_source_link(func, is_name=None, disp=True)>,\n",
       " 'type_repr': <function nbdev.showdoc.type_repr(t)>,\n",
       " 'format_param': <function nbdev.showdoc.format_param(p)>,\n",
       " 'show_doc': <function nbdev.showdoc.show_doc(elt, doc_string=True, name=None, title_level=None, disp=True, default_cls_level=2)>,\n",
       " 'md2html': <function nbdev.showdoc.md2html(md)>,\n",
       " 'get_doc_link': <function nbdev.showdoc.get_doc_link(func)>,\n",
       " 'doc': <function nbdev.showdoc.doc(elt)>,\n",
       " 'set_trace': <function IPython.core.debugger.set_trace(frame=None)>,\n",
       " 'md': IPython.core.display.Markdown,\n",
       " '_i3': \"import numpy as np\\nimport autograd \\npath_assets = './assets/'\",\n",
       " 'autograd': <module 'autograd' from '/Users/tomroth/anaconda3/lib/python3.7/site-packages/autograd/__init__.py'>,\n",
       " 'path_assets': './assets/',\n",
       " '_i4': 'def f(x,y):    return np.log(x**2) + y**2 + x*y',\n",
       " 'f': <function __main__.f(x, y)>,\n",
       " '_i5': 'def grad(f, argnum = 0): \\n    \"\"\"Returns a function that finds the gradient\"\"\"\\n    def gradfun(*args, **kwargs):\\n        \"\"\"Returns the actual gradient \"\"\"\\n        print (\"Args\", args)\\n        print (\"Kwargs\", kwargs)\\n        if len(args) != 0: x,y = args\\n        if len(kwargs) != 0: x,y = kwargs.values()\\n        # Dummy values. Returns correct gradient only for our function f above. \\n        # Use these values until we calculate the true ones using autodiff. \\n        #### remove this code once true code written\\n        if   argnum == 0: return 2*x * np.log(x**2) + y  # df/dx\\n        elif argnum == 1: return 2*y + x                 # df/dy\\n        #### \\n        # true autograd code goes here \\n        ####\\n    return gradfun\\n# example usage\\ndfdx = grad(f, argnum = 0)\\ndfdy = grad(f, argnum = 1)\\nprint(\"dfdx\", dfdx(1,2))      # call gradient w/out keywords, values go into *args    in gradfun \\nprint(\"dfdy\", dfdy(x=13,y=4)) # call gradient with  keywords, values go into **kwargs in gradfun ',\n",
       " 'grad': <function __main__.grad(f, argnum=0)>,\n",
       " 'dfdx': <function __main__.grad.<locals>.gradfun(*args, **kwargs)>,\n",
       " 'dfdy': <function __main__.grad.<locals>.gradfun(*args, **kwargs)>,\n",
       " '_i6': 'def logistic(z): return 1 / (1 + np.exp(-z))',\n",
       " 'logistic': <function __main__.logistic(z)>,\n",
       " '_i7': 'def logistic2(z): return np.reciprocal(np.add(1, np.exp(np.negative(z))))',\n",
       " 'logistic2': <function __main__.logistic2(z)>,\n",
       " '_i8': 'def logistic3(z): \\n    t1 = np.negative(z) \\n    t2 = np.exp(t1)\\n    t3 = np.add(1, t2)\\n    y = np.reciprocal(t3) \\n    return y',\n",
       " 'logistic3': <function __main__.logistic3(z)>,\n",
       " '_i9': 'np.round(logistic3(1.5),3)',\n",
       " '_9': 0.818,\n",
       " '_i10': 'class Node:\\n    \"\"\"A node in a computation graph.\"\"\"\\n    def __init__(self, value, fun, parents):\\n        self.parents = parents\\n        self.recipe = (fun, value)\\n        # my additions\\n        self._value = value\\n        self._fun = fun \\n\\n    def initialize_root(self):\\n        self.parents = []\\n        self.recipe = (lambda x: x, None)',\n",
       " 'Node': __main__.Node,\n",
       " '_i11': 'val_z = 1.5 \\nz = Node(val_z, None, [])\\nval_t1 = np.negative(val_z)\\nt1 = Node(val_t1,np.negative, [z])\\nval_t2 = np.exp(val_t1)\\nt2 = Node(val_t2, np.exp, [t1])\\nval_t3 = np.add(val_t2, 1)\\nt3 = Node(val_t3, np.add, [t2])\\nval_y = np.reciprocal(val_t3)\\ny = Node(val_y, np.reciprocal, [t3])\\nprint(round(y._value,3)) # same answer as before',\n",
       " 'val_z': 1.5,\n",
       " 'z': <__main__.Node at 0x10c90ed68>,\n",
       " 'val_t1': -1.5,\n",
       " 't1': <__main__.Node at 0x10c90e128>,\n",
       " 'val_t2': 0.22313016014842982,\n",
       " 't2': <__main__.Node at 0x10c90ef28>,\n",
       " 'val_t3': 1.22313016014843,\n",
       " 't3': <__main__.Node at 0x10c90ef98>,\n",
       " 'val_y': 0.8175744761936437,\n",
       " 'y': <__main__.Node at 0x10c90ee48>,\n",
       " '_i12': 'try:     del np\\nexcept:  pass \\nimport numpy as onp',\n",
       " 'onp': <module 'numpy' from '/Users/tomroth/anaconda3/lib/python3.7/site-packages/numpy/__init__.py'>,\n",
       " '_i13': 'class Box:\\n    type_mappings = {}\\n    types = set()\\n    \\n    def __init__(self, value, node): \\n        self._value = value\\n        self._node = node \\n    \\n    @classmethod\\n    def register(cls, value_type): \\n        Box.types.add(cls)\\n        Box.type_mappings[value_type] = cls\\n        #Box.type_mappings[cls] = cls\\n    ',\n",
       " 'Box': __main__.Box,\n",
       " '_i14': 'box_z = Box()',\n",
       " '_i15': 'z.value',\n",
       " '_i16': 'z._value',\n",
       " '_16': 1.5,\n",
       " '_i17': 'box_z = Box(z._value, z)',\n",
       " 'box_z': <__main__.Box at 0x10c925978>,\n",
       " '_i18': 'box_z = Box(z._value, z)\\nbox_t1 = Box(t1._value, t1)',\n",
       " 'box_t1': <__main__.Box at 0x10c925dd8>,\n",
       " '_i19': 'box_z = Box(z._value, z)\\nbox_t1 = Box(t1._value, t1)\\nbox_t2 = Box(t2._value, t2)\\nbox_t3 = Box(t3._value, t3)\\nbox_y = Box(y._value, y)',\n",
       " 'box_t2': <__main__.Box at 0x10c925438>,\n",
       " 'box_t3': <__main__.Box at 0x10c925f28>,\n",
       " 'box_y': <__main__.Box at 0x10c926240>,\n",
       " '_i20': 'box_y',\n",
       " '_20': <__main__.Box at 0x10c7579b0>,\n",
       " '_i21': \"box_y.register(str, 'string_type')\",\n",
       " '_i22': \"box_y.register('string_type')\",\n",
       " '_i23': 'box_y',\n",
       " '_23': <__main__.Box at 0x10c7579b0>,\n",
       " '_i24': 'box_y.type_mappings',\n",
       " '_24': {'string_type': __main__.Box},\n",
       " '_i25': 'box_y.types',\n",
       " '_25': {__main__.Box},\n",
       " '_i26': '#### The ArrayBox ',\n",
       " '_i27': 'class Box:\\n    # These belong to all members of class Box\\n    type_mappings = {} \\n    types = set()\\n    \\n    def __init__(self, value, node): \\n        self._value = value\\n        self._node = node \\n    \\n    @classmethod\\n    def register(cls, value_type): \\n        \"\"\"cls is Box if called by a Box object, ArrayBox if called with ArrayBox etc\"\"\"\\n        Box.types.add(cls)\\n        Box.type_mappings[value_type] = cls\\n        #Box.type_mappings[cls] = cls\\n    ',\n",
       " '_i28': 'box_type_mappings = Box.type_mappings\\ndef new_box(value, node):\\n    \"\"\"Box an unboxed value.\\n    Args:\\n      value: unboxed value\\n      node: Node corresponding to this boxed value.\\n    Returns:\\n      Boxed value.\\n    \"\"\"\\n    try:\\n        return box_type_mappings[type(value)](value, trace_id, node)\\n    except KeyError:\\n        raise TypeError(\"Can\\'t differentiate w.r.t. type {}\".format(type(value)))',\n",
       " 'box_type_mappings': {'string_type': __main__.Box},\n",
       " 'new_box': <function __main__.new_box(value, node)>,\n",
       " '_i29': 'box_type_mappings = Box.type_mappings\\ndef new_box(value, node):\\n    \"\"\"Box an unboxed value.\\n    Args:\\n      value: unboxed value\\n      node: Node corresponding to this boxed value.\\n    Returns:\\n      Boxed value.\\n    \"\"\"\\n    try:\\n        return box_type_mappings[type(value)](value, node)\\n    except KeyError:\\n        raise TypeError(\"Can\\'t differentiate w.r.t. type {}\".format(type(value)))',\n",
       " '_i30': 'box_type_mappings = Box.type_mappings\\ndef new_box(value, node):\\n    \"\"\"Box an unboxed value.\\n    Args:\\n      value: unboxed value\\n      node: Node corresponding to this boxed value.\\n    Returns:\\n      Boxed value.\\n    \"\"\"\\n    try:\\n        return box_type_mappings[type(value)](value, node)\\n    except KeyError:\\n        raise TypeError(\"Can\\'t differentiate w.r.t. type {}\".format(type(value)))',\n",
       " '_i31': 'new_box(1.5, z)',\n",
       " '_i32': 'box_type_mappings',\n",
       " '_32': {},\n",
       " '_i33': 'new_box(1.5, z)',\n",
       " '_i34': 'try: new_box(1.5, z)\\nexcept: print(\"doesn\\'t work yet\")',\n",
       " '_i35': 'class ArrayBox(Box): \\n    def __add__(self, other): return onp.add(self, other)\\n    def __sub__(self, other): return onp.subtract(self, other)\\n    def __mul__(self,other): return onp.multiply(self, other)',\n",
       " 'ArrayBox': __main__.ArrayBox,\n",
       " '_i36': 'box_y = ArrayBox(y._value, y)',\n",
       " '_i37': 'box_z = ArrayBox(z._value, z)',\n",
       " '_i38': 'box_y = ArrayBox(y._value, y)\\nbox_z = ArrayBox(z._value, z)\\nbox_y + box_z',\n",
       " '_i39': 'class ArrayBox(Box): \\n    def __add__(self, other): return onp.add(self, other)\\n    def __radd__(self, other): return onp.add(     other, self)\\n    def __sub__(self, other): return onp.subtract(self, other)\\n    def __mul__(self,other): return onp.multiply(self, other)',\n",
       " '_i40': 'box_y = ArrayBox(y._value, y)\\nbox_z = ArrayBox(z._value, z)\\nbox_y + box_z',\n",
       " '_i41': 'box_y = ArrayBox(y._value, y)\\nbox_z = ArrayBox(z._value, z)\\nbox_y + 1',\n",
       " '_i42': 'onp.add()',\n",
       " '_i43': 'onp.add(1,2)',\n",
       " '_43': 3,\n",
       " '_i44': 'onp.add(ArrayBox(y._value,y), ArrayBox(z._value, z))',\n",
       " '_i45': 'import numpy as anp\\nclass ArrayBox(Box):\\n    \"\"\"Box for np.ndarray.\\n    Anything you can do with an np.ndarray, you can do with an ArrayBox.\\n    \"\"\"\\n    @primitive\\n    def __getitem__(A, idx): return A[idx]\\n\\n    # Constants w.r.t float data just pass though\\n    shape = property(lambda self: self._value.shape)\\n    ndim  = property(lambda self: self._value.ndim)\\n    size  = property(lambda self: self._value.size)\\n    dtype = property(lambda self: self._value.dtype)\\n    T = property(lambda self: anp.transpose(self))\\n    def __len__(self): return len(self._value)\\n    def astype(self, *args, **kwargs): return anp._astype(self, *args, **kwargs)\\n\\n    def __neg__(self): return anp.negative(self)\\n    def __add__(self, other): return anp.add(     self, other)\\n    def __sub__(self, other): return anp.subtract(self, other)\\n    def __mul__(self, other): return anp.multiply(self, other)\\n    def __pow__(self, other): return anp.power   (self, other)\\n    def __div__(self, other): return anp.divide(  self, other)\\n    def __mod__(self, other): return anp.mod(     self, other)\\n    def __truediv__(self, other): return anp.true_divide(self, other)\\n    def __matmul__(self, other): return anp.matmul(self, other)\\n    def __radd__(self, other): return anp.add(     other, self)\\n    def __rsub__(self, other): return anp.subtract(other, self)\\n    def __rmul__(self, other): return anp.multiply(other, self)\\n    def __rpow__(self, other): return anp.power(   other, self)\\n    def __rdiv__(self, other): return anp.divide(  other, self)\\n    def __rmod__(self, other): return anp.mod(     other, self)\\n    def __rtruediv__(self, other): return anp.true_divide(other, self)\\n    def __rmatmul__(self, other): return anp.matmul(other, self)\\n    def __eq__(self, other): return anp.equal(self, other)\\n    def __ne__(self, other): return anp.not_equal(self, other)\\n    def __gt__(self, other): return anp.greater(self, other)\\n    def __ge__(self, other): return anp.greater_equal(self, other)\\n    def __lt__(self, other): return anp.less(self, other)\\n    def __le__(self, other): return anp.less_equal(self, other)\\n    def __abs__(self): return anp.abs(self)\\n    def __hash__(self): return id(self)\\n\\n# Register ArrayBox as the type to use when boxing np.ndarray and scalar values.\\nArrayBox.register(np.ndarray)\\nfor type_ in [float, np.float64, np.float32, np.float16,\\n              complex, np.complex64, np.complex128]:\\n    ArrayBox.register(type_)',\n",
       " 'anp': <module 'numpy' from '/Users/tomroth/anaconda3/lib/python3.7/site-packages/numpy/__init__.py'>,\n",
       " '_i46': 'import numpy as anp\\nclass ArrayBox(Box):\\n    \"\"\"Box for np.ndarray.\\n    Anything you can do with an np.ndarray, you can do with an ArrayBox.\\n    \"\"\"\\n    #@primitive\\n   # def __getitem__(A, idx): return A[idx]\\n\\n    # Constants w.r.t float data just pass though\\n    shape = property(lambda self: self._value.shape)\\n    ndim  = property(lambda self: self._value.ndim)\\n    size  = property(lambda self: self._value.size)\\n    dtype = property(lambda self: self._value.dtype)\\n    T = property(lambda self: anp.transpose(self))\\n    def __len__(self): return len(self._value)\\n    def astype(self, *args, **kwargs): return anp._astype(self, *args, **kwargs)\\n\\n    def __neg__(self): return anp.negative(self)\\n    def __add__(self, other): return anp.add(     self, other)\\n    def __sub__(self, other): return anp.subtract(self, other)\\n    def __mul__(self, other): return anp.multiply(self, other)\\n    def __pow__(self, other): return anp.power   (self, other)\\n    def __div__(self, other): return anp.divide(  self, other)\\n    def __mod__(self, other): return anp.mod(     self, other)\\n    def __truediv__(self, other): return anp.true_divide(self, other)\\n    def __matmul__(self, other): return anp.matmul(self, other)\\n    def __radd__(self, other): return anp.add(     other, self)\\n    def __rsub__(self, other): return anp.subtract(other, self)\\n    def __rmul__(self, other): return anp.multiply(other, self)\\n    def __rpow__(self, other): return anp.power(   other, self)\\n    def __rdiv__(self, other): return anp.divide(  other, self)\\n    def __rmod__(self, other): return anp.mod(     other, self)\\n    def __rtruediv__(self, other): return anp.true_divide(other, self)\\n    def __rmatmul__(self, other): return anp.matmul(other, self)\\n    def __eq__(self, other): return anp.equal(self, other)\\n    def __ne__(self, other): return anp.not_equal(self, other)\\n    def __gt__(self, other): return anp.greater(self, other)\\n    def __ge__(self, other): return anp.greater_equal(self, other)\\n    def __lt__(self, other): return anp.less(self, other)\\n    def __le__(self, other): return anp.less_equal(self, other)\\n    def __abs__(self): return anp.abs(self)\\n    def __hash__(self): return id(self)\\n\\n# Register ArrayBox as the type to use when boxing np.ndarray and scalar values.\\nArrayBox.register(np.ndarray)\\nfor type_ in [float, np.float64, np.float32, np.float16,\\n              complex, np.complex64, np.complex128]:\\n    ArrayBox.register(type_)',\n",
       " '_i47': 'import numpy as anp\\nclass ArrayBox(Box):\\n    \"\"\"Box for np.ndarray.\\n    Anything you can do with an np.ndarray, you can do with an ArrayBox.\\n    \"\"\"\\n    #@primitive\\n   # def __getitem__(A, idx): return A[idx]\\n\\n    # Constants w.r.t float data just pass though\\n    shape = property(lambda self: self._value.shape)\\n    ndim  = property(lambda self: self._value.ndim)\\n    size  = property(lambda self: self._value.size)\\n    dtype = property(lambda self: self._value.dtype)\\n    T = property(lambda self: anp.transpose(self))\\n    def __len__(self): return len(self._value)\\n    def astype(self, *args, **kwargs): return anp._astype(self, *args, **kwargs)\\n\\n    def __neg__(self): return anp.negative(self)\\n    def __add__(self, other): return anp.add(     self, other)\\n    def __sub__(self, other): return anp.subtract(self, other)\\n    def __mul__(self, other): return anp.multiply(self, other)\\n    def __pow__(self, other): return anp.power   (self, other)\\n    def __div__(self, other): return anp.divide(  self, other)\\n    def __mod__(self, other): return anp.mod(     self, other)\\n    def __truediv__(self, other): return anp.true_divide(self, other)\\n    def __matmul__(self, other): return anp.matmul(self, other)\\n    def __radd__(self, other): return anp.add(     other, self)\\n    def __rsub__(self, other): return anp.subtract(other, self)\\n    def __rmul__(self, other): return anp.multiply(other, self)\\n    def __rpow__(self, other): return anp.power(   other, self)\\n    def __rdiv__(self, other): return anp.divide(  other, self)\\n    def __rmod__(self, other): return anp.mod(     other, self)\\n    def __rtruediv__(self, other): return anp.true_divide(other, self)\\n    def __rmatmul__(self, other): return anp.matmul(other, self)\\n    def __eq__(self, other): return anp.equal(self, other)\\n    def __ne__(self, other): return anp.not_equal(self, other)\\n    def __gt__(self, other): return anp.greater(self, other)\\n    def __ge__(self, other): return anp.greater_equal(self, other)\\n    def __lt__(self, other): return anp.less(self, other)\\n    def __le__(self, other): return anp.less_equal(self, other)\\n    def __abs__(self): return anp.abs(self)\\n    def __hash__(self): return id(self)',\n",
       " '_i48': 'box_y = ArrayBox(y._value, y)\\nbox_z = ArrayBox(z._value, z)\\nbox_y + 1',\n",
       " '_i49': 'class ArrayBox(Box): \\n    __nonzero__ = __bool__\\n\\n    def __add__(self, other): return onp.add(self, other)\\n    def __sub__(self, other): return onp.subtract(self, other)\\n    def __mul__(self,other): return onp.multiply(self, other)',\n",
       " '_i50': 'class ArrayBox(Box): \\n     def __bool__(self):\\n        return bool(self._value)\\n    __nonzero__ = __bool__\\n\\n    def __add__(self, other): return onp.add(self, other)\\n    def __sub__(self, other): return onp.subtract(self, other)\\n    def __mul__(self,other): return onp.multiply(self, other)',\n",
       " '_i52': 'class ArrayBox(Box): \\n     def __bool__(self):  return bool(self._value)\\n    __nonzero__ = __bool__\\n\\n    def __add__(self, other): return onp.add(self, other)\\n    def __sub__(self, other): return onp.subtract(self, other)\\n    def __mul__(self,other): return onp.multiply(self, other)',\n",
       " '_i54': 'class ArrayBox(Box): \\n    def __bool__(self):  return bool(self._value)\\n    __nonzero__ = __bool__\\n\\n    def __add__(self, other): return onp.add(self, other)\\n    def __sub__(self, other): return onp.subtract(self, other)\\n    def __mul__(self,other): return onp.multiply(self, other)',\n",
       " '_i55': 'box_y = ArrayBox(y._value, y)\\nbox_z = ArrayBox(z._value, z)\\nbox_y + 1',\n",
       " '_i56': 'class Test: \\n    def __add__(self,other): return onp.add(self,other)',\n",
       " 'Test': __main__.Test,\n",
       " '_i57': 't1,t2 = Test(), Test()',\n",
       " '_i58': 't1 + t2',\n",
       " '_i59': 'class Test: \\n    def __init__(self,value): self._value = value\\n    def __add__(self,other): return onp.add(self,other)',\n",
       " '_i60': 't1,t2 = Test(1), Test(2)',\n",
       " '_i61': 't1 + t2',\n",
       " '_i62': 'class Test: \\n    def __init__(self,value): self._value = value\\n    def __add__(self,other): return onp.add(self._value,other._value)',\n",
       " '_i63': 't1,t2 = Test(1), Test(2)',\n",
       " '_i64': 't1 + t2',\n",
       " '_64': 3,\n",
       " '_i65': 'class Test: \\n     # This class has no attributes.\\n    __slots__ = []\\n\\n    # Used by NumPy to determine which type gets returned when there are\\n    # multiple possibilities. Larger numbers == higher priority.\\n    __array_priority__ = 100.0\\n    def __add__(self,other): return onp.add(self._value,other._value)',\n",
       " '_i66': 'class Test: \\n     # This class has no attributes.\\n    __slots__ = []\\n\\n    # Used by NumPy to determine which type gets returned when there are\\n    # multiple possibilities. Larger numbers == higher priority.\\n    __array_priority__ = 100.0\\n    def __init__(self,value): self._value = value\\n    def __add__(self,other): return onp.add(self,other)',\n",
       " '_i67': 't1,t2 = Test(1), Test(2)',\n",
       " '_i68': 't1 + t2',\n",
       " '_68': 3,\n",
       " '_i69': 'class Test: \\n     # This class has no attributes.\\n    #__slots__ = []\\n\\n    # Used by NumPy to determine which type gets returned when there are\\n    # multiple possibilities. Larger numbers == higher priority.\\n    __array_priority__ = 100.0\\n    def __init__(self,value): self._value = value\\n    def __add__(self,other): return onp.add(self,other)',\n",
       " '_i70': 't1,t2 = Test(1), Test(2)',\n",
       " '_i71': 't1 + t2',\n",
       " '_i72': 'class Test(Base): \\n    __slots__ = []',\n",
       " '_i73': 'class Test(Base): \\n    __slots__ = []\\n    ',\n",
       " '_i74': 'class Base: \\n     # This class has no attributes.\\n    #__slots__ = []\\n\\n    # Used by NumPy to determine which type gets returned when there are\\n    # multiple possibilities. Larger numbers == higher priority.\\n    \\n    def __init__(self,value): self._value = value    ',\n",
       " 'Base': __main__.Base,\n",
       " '_i75': 'class Test(Base): \\n    __slots__ = []\\n    __array_priority__ = 100.0\\n    def __add__(self,other): return onp.add(self,other)',\n",
       " '_i76': 't1,t2 = Test(1), Test(2)',\n",
       " '_i77': 't1 + t2',\n",
       " '_i78': 'class Base: \\n     # This class has no attributes.\\n    #__slots__ = []\\n\\n    # Used by NumPy to determine which type gets returned when there are\\n    # multiple possibilities. Larger numbers == higher priority.\\n    \\n    def __init__(self,value): self._value = value   \\n        \\n    def __bool__(self):\\n        return bool(self._value)\\n    ',\n",
       " '_i79': 'class Test(Base): \\n    \\n    def __add__(self,other): return onp.add(self,other)',\n",
       " '_i80': 't1,t2 = Test(1), Test(2)',\n",
       " '_i81': 't1 + t2',\n",
       " '_i82': 'class Base: \\n     # This class has no attributes.\\n    #__slots__ = []\\n\\n    # Used by NumPy to determine which type gets returned when there are\\n    # multiple possibilities. Larger numbers == higher priority.\\n    \\n    def __init__(self,value): self._value = value   \\n        \\n    def __bool__(self):\\n        return bool(self._value)\\n    __nonzero__ = __bool__',\n",
       " '_i83': 'class Test(Base): \\n    \\n    def __add__(self,other): return onp.add(self,other)',\n",
       " '_i84': 't1,t2 = Test(1), Test(2)',\n",
       " '_i85': 't1 + t2',\n",
       " '_i86': 'class Base: \\n     # This class has no attributes.\\n    #__slots__ = []\\n\\n    # Used by NumPy to determine which type gets returned when there are\\n    # multiple possibilities. Larger numbers == higher priority.\\n    __array_priority__ = 90.0\\n\\n    def __init__(self,value): self._value = value   \\n        \\n    def __bool__(self):\\n        return bool(self._value)\\n    __nonzero__ = __bool__',\n",
       " '_i87': 'class Test(Base): \\n    __array_priority__ = 100.0\\n    def __add__(self,other): return onp.add(self,other)',\n",
       " '_i88': 't1,t2 = Test(1), Test(2)',\n",
       " '_i89': 't1 + t2',\n",
       " '_i90': 'class ArrayBox(Box): \\n    def __bool__(self):  return bool(self._value)\\n    def __add__(self, other): return onp.add(self, other)\\n    def __sub__(self, other): return onp.subtract(self, other)\\n    def __mul__(self,other): return onp.multiply(self, other)',\n",
       " '_i91': \"nondiff_methods = [\\n    'all',\\n    'any',\\n    'argmax',\\n    'argmin',\\n    'argpartition',\\n    'argsort',\\n    'nonzero',\\n    'searchsorted',\\n    'round']\\n\\ndiff_methods = [\\n    'clip',\\n    'compress',\\n    'cumprod',\\n    'cumsum',\\n    'diagonal',\\n    'max',\\n    'mean',\\n    'min',\\n    'prod',\\n    'ptp',\\n    'ravel',\\n    'repeat',\\n    'reshape',\\n    'squeeze',\\n    'std',\\n    'sum',\\n    'swapaxes',\\n    'take',\\n    'trace',\\n    'transpose',\\n    'var']\\nfor method_name in nondiff_methods + diff_methods:\\n    setattr(ArrayBox, method_name, anp.__dict__[method_name])\",\n",
       " 'nondiff_methods': ['all',\n",
       "  'any',\n",
       "  'argmax',\n",
       "  'argmin',\n",
       "  'argpartition',\n",
       "  'argsort',\n",
       "  'nonzero',\n",
       "  'searchsorted',\n",
       "  'round'],\n",
       " 'diff_methods': ['clip',\n",
       "  'compress',\n",
       "  'cumprod',\n",
       "  'cumsum',\n",
       "  'diagonal',\n",
       "  'max',\n",
       "  'mean',\n",
       "  'min',\n",
       "  'prod',\n",
       "  'ptp',\n",
       "  'ravel',\n",
       "  'repeat',\n",
       "  'reshape',\n",
       "  'squeeze',\n",
       "  'std',\n",
       "  'sum',\n",
       "  'swapaxes',\n",
       "  'take',\n",
       "  'trace',\n",
       "  'transpose',\n",
       "  'var'],\n",
       " 'method_name': 'var',\n",
       " '_i92': 'box_y = ArrayBox(y._value, y)\\nbox_z = ArrayBox(z._value, z)\\nbox_y + 1',\n",
       " '_i93': 'box_type_mappings = Box.type_mappings\\nbox_types = Box.types\\n\\n# If True, the value is Box.\\nisbox  = lambda x: type(x) in box_types  # almost 3X faster than isinstance(x, Box)\\n# Get value from a Box.\\ngetval = lambda x: getval(x._value) if isbox(x) else x\\n\\ndef new_box(value, node):\\n    \"\"\"Box an unboxed value.\\n    Args:\\n      value: unboxed value\\n      node: Node corresponding to this boxed value.\\n    Returns:\\n      Boxed value.\\n    \"\"\"\\n    try:\\n        return box_type_mappings[type(value)](value, node)\\n    except KeyError:\\n        raise TypeError(\"Can\\'t differentiate w.r.t. type {}\".format(type(value)))\\n        \\ndef find_top_boxed_args(args):\\n    \"\"\"Finds boxed arguments with largest trace_id.\\n    Equivalent to finding the largest trace_id of any argument, keeping args\\n    with the same, and dropping the remainder.\\n    Args:\\n      args: Arguments to function wrapped by primitive().\\n    Returns:\\n      top_boxes: List of (index, boxed argument). Arguments have same, largest\\n        trace_id.\\n      top_trace_id: trace_id of all elements in top_boxes.\\n    \"\"\"\\n    top_trace_id = -1\\n    top_boxes = []\\n    for argnum, arg in enumerate(args):\\n        if isbox(arg):\\n            if arg._trace_id > top_trace_id:\\n                top_boxes = [(argnum, arg)]\\n                top_trace_id = arg._trace_id\\n            elif arg._trace_id == top_trace_id:\\n                top_boxes.append((argnum, arg))\\n    return top_boxes, top_trace_id',\n",
       " 'box_types': {__main__.Box},\n",
       " 'isbox': <function __main__.<lambda>(x)>,\n",
       " 'getval': <function __main__.<lambda>(x)>,\n",
       " 'find_top_boxed_args': <function __main__.find_top_boxed_args(args)>,\n",
       " '_i94': 'def subvals(x, ivs):\\n    x_ = list(x)\\n    for i, v in ivs:\\n        x_[i] = v\\n    return tuple(x_)\\n\\ndef subval(x, i, v):\\n    x_ = list(x)\\n    x_[i] = v\\n    return tuple(x_)\\n\\ndef toposort(end_node):\\n    child_counts = {}\\n    stack = [end_node]\\n    while stack:\\n        node = stack.pop()\\n        if node in child_counts:\\n            child_counts[node] += 1\\n        else:\\n            child_counts[node] = 1\\n            stack.extend(node.parents)\\n\\n    childless_nodes = [end_node]\\n    while childless_nodes:\\n        node = childless_nodes.pop()\\n        yield node\\n        for parent in node.parents:\\n            if child_counts[parent] == 1:\\n                childless_nodes.append(parent)\\n            else:\\n                child_counts[parent] -= 1\\n\\ndef wraps(fun, namestr=\"{fun}\", docstr=\"{doc}\", **kwargs):\\n    def _wraps(f):\\n        try:\\n            f.__name__ = namestr.format(fun=get_name(fun), **kwargs)\\n            f.__doc__ = docstr.format(fun=get_name(fun), doc=get_doc(fun), **kwargs)\\n        finally:\\n            return f\\n    return _wraps\\n\\ndef wrap_nary_f(fun, op, argnum):\\n    namestr = \"{op}_of_{fun}_wrt_argnum_{argnum}\"\\n    docstr = \"\"\"\\\\\\n    {op} of function {fun} with respect to argument number {argnum}. Takes the\\n    same arguments as {fun} but returns the {op}.\\n    \"\"\"\\n    return wraps(fun, namestr, docstr, op=get_name(op), argnum=argnum)\\n\\nget_name = lambda f: getattr(f, \\'__name__\\', \\'[unknown name]\\')\\nget_doc  = lambda f: getattr(f, \\'__doc__\\' , \\'\\')',\n",
       " 'subvals': <function __main__.subvals(x, ivs)>,\n",
       " 'subval': <function __main__.subval(x, i, v)>,\n",
       " 'toposort': <function __main__.toposort(end_node)>,\n",
       " 'wraps': <function __main__.wraps(fun, namestr='{fun}', docstr='{doc}', **kwargs)>,\n",
       " 'wrap_nary_f': <function __main__.wrap_nary_f(fun, op, argnum)>,\n",
       " 'get_name': <function __main__.<lambda>(f)>,\n",
       " 'get_doc': <function __main__.<lambda>(f)>,\n",
       " '_i95': 'These are used throughout the program ',\n",
       " '_i96': 'def subvals(x, ivs):\\n    x_ = list(x)\\n    for i, v in ivs:\\n        x_[i] = v\\n    return tuple(x_)\\n\\ndef subval(x, i, v):\\n    x_ = list(x)\\n    x_[i] = v\\n    return tuple(x_)\\n\\ndef toposort(end_node):\\n    child_counts = {}\\n    stack = [end_node]\\n    while stack:\\n        node = stack.pop()\\n        if node in child_counts:\\n            child_counts[node] += 1\\n        else:\\n            child_counts[node] = 1\\n            stack.extend(node.parents)\\n\\n    childless_nodes = [end_node]\\n    while childless_nodes:\\n        node = childless_nodes.pop()\\n        yield node\\n        for parent in node.parents:\\n            if child_counts[parent] == 1:\\n                childless_nodes.append(parent)\\n            else:\\n                child_counts[parent] -= 1\\n\\ndef wraps(fun, namestr=\"{fun}\", docstr=\"{doc}\", **kwargs):\\n    def _wraps(f):\\n        try:\\n            f.__name__ = namestr.format(fun=get_name(fun), **kwargs)\\n            f.__doc__ = docstr.format(fun=get_name(fun), doc=get_doc(fun), **kwargs)\\n        finally:\\n            return f\\n    return _wraps\\n\\ndef wrap_nary_f(fun, op, argnum):\\n    namestr = \"{op}_of_{fun}_wrt_argnum_{argnum}\"\\n    docstr = \"\"\"\\\\\\n    {op} of function {fun} with respect to argument number {argnum}. Takes the\\n    same arguments as {fun} but returns the {op}.\\n    \"\"\"\\n    return wraps(fun, namestr, docstr, op=get_name(op), argnum=argnum)\\n\\nget_name = lambda f: getattr(f, \\'__name__\\', \\'[unknown name]\\')\\nget_doc  = lambda f: getattr(f, \\'__doc__\\' , \\'\\')',\n",
       " '_i97': 'def subvals(x, ivs):\\n    x_ = list(x)\\n    for i, v in ivs:\\n        x_[i] = v\\n    return tuple(x_)\\n\\ndef subval(x, i, v):\\n    x_ = list(x)\\n    x_[i] = v\\n    return tuple(x_)\\n\\n\\ndef toposort(end_node):\\n    child_counts = {}\\n    stack = [end_node]\\n    while stack:\\n        node = stack.pop()\\n        if node in child_counts:\\n            child_counts[node] += 1\\n        else:\\n            child_counts[node] = 1\\n            stack.extend(node.parents)\\n\\n    childless_nodes = [end_node]\\n    while childless_nodes:\\n        node = childless_nodes.pop()\\n        yield node\\n        for parent in node.parents:\\n            if child_counts[parent] == 1:\\n                childless_nodes.append(parent)\\n            else:\\n                child_counts[parent] -= 1\\n\\ndef wraps(fun, namestr=\"{fun}\", docstr=\"{doc}\", **kwargs):\\n    def _wraps(f):\\n        try:\\n            f.__name__ = namestr.format(fun=get_name(fun), **kwargs)\\n            f.__doc__ = docstr.format(fun=get_name(fun), doc=get_doc(fun), **kwargs)\\n        finally:\\n            return f\\n    return _wraps\\n\\ndef wrap_nary_f(fun, op, argnum):\\n    namestr = \"{op}_of_{fun}_wrt_argnum_{argnum}\"\\n    docstr = \"\"\"\\\\\\n    {op} of function {fun} with respect to argument number {argnum}. Takes the\\n    same arguments as {fun} but returns the {op}.\\n    \"\"\"\\n    return wraps(fun, namestr, docstr, op=get_name(op), argnum=argnum)\\n\\nget_name = lambda f: getattr(f, \\'__name__\\', \\'[unknown name]\\')\\nget_doc  = lambda f: getattr(f, \\'__doc__\\' , \\'\\')',\n",
       " '_i98': 'def subvals(x, ivs):\\n    x_ = list(x)\\n    for i, v in ivs:\\n        x_[i] = v\\n    return tuple(x_)\\n\\ndef subval(x, i, v):\\n    x_ = list(x)\\n    x_[i] = v\\n    return tuple(x_)\\n\\n# If True, the value is Box.\\nisbox  = lambda x: type(x) in box_types  # almost 3X faster than isinstance(x, Box)\\n# Get value from a Box.\\ngetval = lambda x: getval(x._value) if isbox(x) else x\\n\\ndef toposort(end_node):\\n    child_counts = {}\\n    stack = [end_node]\\n    while stack:\\n        node = stack.pop()\\n        if node in child_counts:\\n            child_counts[node] += 1\\n        else:\\n            child_counts[node] = 1\\n            stack.extend(node.parents)\\n\\n    childless_nodes = [end_node]\\n    while childless_nodes:\\n        node = childless_nodes.pop()\\n        yield node\\n        for parent in node.parents:\\n            if child_counts[parent] == 1:\\n                childless_nodes.append(parent)\\n            else:\\n                child_counts[parent] -= 1\\n\\ndef wraps(fun, namestr=\"{fun}\", docstr=\"{doc}\", **kwargs):\\n    def _wraps(f):\\n        try:\\n            f.__name__ = namestr.format(fun=get_name(fun), **kwargs)\\n            f.__doc__ = docstr.format(fun=get_name(fun), doc=get_doc(fun), **kwargs)\\n        finally:\\n            return f\\n    return _wraps\\n\\ndef wrap_nary_f(fun, op, argnum):\\n    namestr = \"{op}_of_{fun}_wrt_argnum_{argnum}\"\\n    docstr = \"\"\"\\\\\\n    {op} of function {fun} with respect to argument number {argnum}. Takes the\\n    same arguments as {fun} but returns the {op}.\\n    \"\"\"\\n    return wraps(fun, namestr, docstr, op=get_name(op), argnum=argnum)\\n\\nget_name = lambda f: getattr(f, \\'__name__\\', \\'[unknown name]\\')\\nget_doc  = lambda f: getattr(f, \\'__doc__\\' , \\'\\')',\n",
       " '_i99': 'class Box:\\n    # These belong to all members of class Box\\n    type_mappings = {} \\n    types = set()\\n    \\n    def __init__(self, value, node): \\n        self._value = value\\n        self._node = node \\n    \\n    @classmethod\\n    def register(cls, value_type): \\n        \"\"\"cls is Box if called by a Box object, ArrayBox if called with ArrayBox etc\"\"\"\\n        Box.types.add(cls)\\n        Box.type_mappings[value_type] = cls\\n        #Box.type_mappings[cls] = cls\\n    ',\n",
       " '_i100': 'class Box:\\n    # These belong to all members of class Box\\n    type_mappings = {} \\n    types = set()\\n    \\n    def __init__(self, value, node): \\n        self._value = value\\n        self._node = node \\n    \\n    @classmethod\\n    def register(cls, value_type): \\n        \"\"\"cls is Box if called by a Box object, ArrayBox if called with ArrayBox etc\"\"\"\\n        Box.types.add(cls)\\n        Box.type_mappings[value_type] = cls\\n        #Box.type_mappings[cls] = cls\\n    \\nbox_type_mappings = Box.type_mappings\\nbox_types = Box.types',\n",
       " '_i101': 'def subvals(x, ivs):\\n    \"\"\"Changes an iterable x to a tuple and replace the ivs[0]th value of x with ivs[1], for every tuple in ivs. \\nivs is a list of (int, value) pairs, hence the name \\n\\nFor example: \\nx = [0,1,2,3,4,5,6]\\nivs = [(0,\\'s1\\'), (4, \\'s2\\'), (5, \\'s3\\')]\\nsubvals(x, ivs)\\n# gives (\\'s1\\', 1, 2, 3, \\'s2\\', \\'s3\\', 6)\\n    \"\"\"\\n    x_ = list(x)\\n    for i, v in ivs:\\n        x_[i] = v\\n    return tuple(x_)\\n\\ndef subval(x, i, v):\\n    x_ = list(x)\\n    x_[i] = v\\n    return tuple(x_)\\n\\n# If True, the value is Box.\\nisbox  = lambda x: type(x) in box_types  # almost 3X faster than isinstance(x, Box)\\n# Get value from a Box.\\ngetval = lambda x: getval(x._value) if isbox(x) else x\\n\\ndef toposort(end_node):\\n    child_counts = {}\\n    stack = [end_node]\\n    while stack:\\n        node = stack.pop()\\n        if node in child_counts:\\n            child_counts[node] += 1\\n        else:\\n            child_counts[node] = 1\\n            stack.extend(node.parents)\\n\\n    childless_nodes = [end_node]\\n    while childless_nodes:\\n        node = childless_nodes.pop()\\n        yield node\\n        for parent in node.parents:\\n            if child_counts[parent] == 1:\\n                childless_nodes.append(parent)\\n            else:\\n                child_counts[parent] -= 1\\n\\ndef wraps(fun, namestr=\"{fun}\", docstr=\"{doc}\", **kwargs):\\n    def _wraps(f):\\n        try:\\n            f.__name__ = namestr.format(fun=get_name(fun), **kwargs)\\n            f.__doc__ = docstr.format(fun=get_name(fun), doc=get_doc(fun), **kwargs)\\n        finally:\\n            return f\\n    return _wraps\\n\\ndef wrap_nary_f(fun, op, argnum):\\n    namestr = \"{op}_of_{fun}_wrt_argnum_{argnum}\"\\n    docstr = \"\"\"\\\\\\n    {op} of function {fun} with respect to argument number {argnum}. Takes the\\n    same arguments as {fun} but returns the {op}.\\n    \"\"\"\\n    return wraps(fun, namestr, docstr, op=get_name(op), argnum=argnum)\\n\\nget_name = lambda f: getattr(f, \\'__name__\\', \\'[unknown name]\\')\\nget_doc  = lambda f: getattr(f, \\'__doc__\\' , \\'\\')',\n",
       " '_i102': 'def primitive(f_raw):\\n    \"\"\"Wraps a function so that its gradient (vjp) can be specified and its\\n    invocation can be recorded.\"\"\"\\n    def f_wrapped(*args, **kwargs):\\n        boxed_args = args\\n        if boxed_args:\\n            # Get nodes for each boxed argument.\\n            parents = tuple(box._node for _, box in boxed_args)\\n            \\n            # Note that we use a recursive call here in order to also augment\\n            # outer calls to trace() with lower trace_ids. See TraceStack\\'s\\n            # docstring for details.\\n            ans = f_wrapped(*argvals, **kwargs)\\n            # Create a new node\\n            node = Node(ans, f_wrapped, parents)\\n            return new_box(ans, trace_id, node)\\n        else:\\n            return f_raw(*args, **kwargs)\\n    return f_wrapped',\n",
       " 'primitive': <function __main__.primitive(f_raw)>,\n",
       " '_i103': 'def new_box(value, node):\\n    \"\"\"Box an unboxed value.\\n    Args:\\n      value: unboxed value\\n      node: Node corresponding to this boxed value.\\n    Returns:\\n      Boxed value.\\n    \"\"\"\\n    try:\\n        return box_type_mappings[type(value)](value, node)\\n    except KeyError:\\n        raise TypeError(\"Can\\'t differentiate w.r.t. type {}\".format(type(value)))',\n",
       " '_i104': 'def primitive(f_raw):\\n    \"\"\"Wraps a function so that its gradient (vjp) can be specified and its\\n    invocation can be recorded.\"\"\"\\n    def f_wrapped(*args, **kwargs):\\n        boxed_args = args\\n        if boxed_args:\\n            # Get nodes for each boxed argument.\\n            parents = tuple(box._node for _, box in boxed_args)\\n            \\n            # Note that we use a recursive call here in order to also augment\\n            # outer calls to trace() with lower trace_ids. See TraceStack\\'s\\n            # docstring for details.\\n            ans = f_wrapped(*argvals, **kwargs)\\n            # Create a new node\\n            node = Node(ans, f_wrapped, parents)\\n            return new_box(ans, trace_id, node)\\n        else:\\n            return f_raw(*args, **kwargs)\\n    return f_wrapped',\n",
       " '_i105': 'class Box:\\n    # These belong to all members of class Box\\n    type_mappings = {} \\n    types = set()\\n    \\n    def __init__(self, value, node): \\n        self._value = value\\n        self._node = node \\n    \\n    @classmethod\\n    def register(cls, value_type): \\n        \"\"\"cls is Box if called by a Box object, ArrayBox if called with ArrayBox etc\"\"\"\\n        Box.types.add(cls)\\n        Box.type_mappings[value_type] = cls\\n        #Box.type_mappings[cls] = cls\\n    \\nbox_type_mappings = Box.type_mappings\\nbox_types = Box.types',\n",
       " '_i106': 'def new_box(value, node):\\n    \"\"\"Box an unboxed value.\\n    Args:\\n      value: unboxed value\\n      node: Node corresponding to this boxed value.\\n    Returns:\\n      Boxed value.\\n    \"\"\"\\n    try:\\n        return box_type_mappings[type(value)](value, node)\\n    except KeyError:\\n        raise TypeError(\"Can\\'t differentiate w.r.t. type {}\".format(type(value)))',\n",
       " '_i107': 'def primitive(f_raw):\\n    \"\"\"Wraps a function so that its gradient (vjp) can be specified and its\\n    invocation can be recorded.\"\"\"\\n    def f_wrapped(*args, **kwargs):\\n        boxed_args = args\\n        if boxed_args:\\n            # Get nodes for each boxed argument.\\n            parents = tuple(box._node for _, box in boxed_args)\\n            \\n            # Note that we use a recursive call here in order to also augment\\n            # outer calls to trace() with lower trace_ids. See TraceStack\\'s\\n            # docstring for details.\\n            ans = f_wrapped(*argvals, **kwargs)\\n            # Create a new node\\n            node = Node(ans, f_wrapped, parents)\\n            return new_box(ans, node)\\n        else:\\n            return f_raw(*args, **kwargs)\\n    return f_wrapped',\n",
       " '_i108': 'primitive(np.add)',\n",
       " '_i109': 'primitive(onp.add)',\n",
       " '_109': <function __main__.primitive.<locals>.f_wrapped(*args, **kwargs)>,\n",
       " '_i110': 'new_add = primitive(onp.add)',\n",
       " 'new_add': <function __main__.primitive.<locals>.f_wrapped(*args, **kwargs)>,\n",
       " '_i111': 'new_add(1,4)',\n",
       " '_i112': 'onp.add',\n",
       " '_112': <ufunc 'add'>,\n",
       " '_i113': 'onp.add(13,4)',\n",
       " '_113': 17,\n",
       " '_i114': 'new_add(13,4)',\n",
       " '_i115': 'new_add(box_z,box_t1)',\n",
       " '_i116': \"box_z = Box(z._value, z)\\nbox_t1 = Box(t1._value, t1)\\nbox_t2 = Box(t2._value, t2)\\nbox_t3 = Box(t3._value, t3)\\nbox_y = Box(y._value, y)\\nbox_y.register('string_type')\",\n",
       " '_i117': 'new_add = primitive(onp.add)',\n",
       " '_i118': 'new_add(box_z,box_t1)',\n",
       " '_i119': '%debug',\n",
       " '_i120': 'def subvals(x, ivs):\\n\"\"\"\\n    Changes an iterable x to a tuple and replace the ivs[0]th value of x with ivs[1], for every tuple in ivs. \\nivs is a list of (int, value) pairs, hence the name \\n\\nFor example: \\nx = [0,1,2,3,4,5,6]\\nivs = [(0,\\'s1\\'), (4, \\'s2\\'), (5, \\'s3\\')]\\nsubvals(x, ivs)\\n# gives (\\'s1\\', 1, 2, 3, \\'s2\\', \\'s3\\', 6)\\n    \"\"\"\\n    x_ = list(x)\\n    for i, v in ivs:\\n        x_[i] = v\\n    return tuple(x_)\\n\\ndef subval(x, i, v):\\n    x_ = list(x)\\n    x_[i] = v\\n    return tuple(x_)\\n\\n# If True, the value is Box.\\nisbox  = lambda x: type(x) in box_types  # almost 3X faster than isinstance(x, Box)\\n# Get value from a Box.\\ngetval = lambda x: getval(x._value) if isbox(x) else x\\n\\ndef toposort(end_node):\\n    child_counts = {}\\n    stack = [end_node]\\n    while stack:\\n        node = stack.pop()\\n        if node in child_counts:\\n            child_counts[node] += 1\\n        else:\\n            child_counts[node] = 1\\n            stack.extend(node.parents)\\n\\n    childless_nodes = [end_node]\\n    while childless_nodes:\\n        node = childless_nodes.pop()\\n        yield node\\n        for parent in node.parents:\\n            if child_counts[parent] == 1:\\n                childless_nodes.append(parent)\\n            else:\\n                child_counts[parent] -= 1\\n\\ndef wraps(fun, namestr=\"{fun}\", docstr=\"{doc}\", **kwargs):\\n    def _wraps(f):\\n        try:\\n            f.__name__ = namestr.format(fun=get_name(fun), **kwargs)\\n            f.__doc__ = docstr.format(fun=get_name(fun), doc=get_doc(fun), **kwargs)\\n        finally:\\n            return f\\n    return _wraps\\n\\ndef wrap_nary_f(fun, op, argnum):\\n    namestr = \"{op}_of_{fun}_wrt_argnum_{argnum}\"\\n    docstr = \"\"\"\\\\\\n    {op} of function {fun} with respect to argument number {argnum}. Takes the\\n    same arguments as {fun} but returns the {op}.\\n    \"\"\"\\n    return wraps(fun, namestr, docstr, op=get_name(op), argnum=argnum)\\n\\nget_name = lambda f: getattr(f, \\'__name__\\', \\'[unknown name]\\')\\nget_doc  = lambda f: getattr(f, \\'__doc__\\' , \\'\\')',\n",
       " '_i121': 'def primitive(f_raw):\\n    \"\"\"Wraps a function so that its gradient (vjp) can be specified and its\\n    invocation can be recorded.\"\"\"\\n    def f_wrapped(*args, **kwargs):\\n        set_trace()\\n        boxed_args = args\\n        if boxed_args:\\n            # Get nodes for each boxed argument.\\n            parents = tuple(box._node for _, box in boxed_args)\\n            \\n            # Note that we use a recursive call here in order to also augment\\n            # outer calls to trace() with lower trace_ids. See TraceStack\\'s\\n            # docstring for details.\\n            ans = f_wrapped(*argvals, **kwargs)\\n            # Create a new node\\n            node = Node(ans, f_wrapped, parents)\\n            return new_box(ans, node)\\n        else:\\n            return f_raw(*args, **kwargs)\\n    return f_wrapped',\n",
       " '_i122': 'def primitive(f_raw):\\n    \"\"\"Wraps a function so that its gradient (vjp) can be specified and its\\n    invocation can be recorded.\"\"\"\\n    def f_wrapped(*args, **kwargs):\\n        set_trace()\\n        boxed_args = args\\n        if boxed_args:\\n            # Get nodes for each boxed argument.\\n            parents = tuple(box._node for _, box in boxed_args)\\n            \\n            # Note that we use a recursive call here in order to also augment\\n            # outer calls to trace() with lower trace_ids. See TraceStack\\'s\\n            # docstring for details.\\n            ans = f_wrapped(*argvals, **kwargs)\\n            # Create a new node\\n            node = Node(ans, f_wrapped, parents)\\n            return new_box(ans, node)\\n        else:\\n            return f_raw(*args, **kwargs)\\n    return f_wrapped',\n",
       " '_i123': \"box_z = Box(z._value, z)\\nbox_t1 = Box(t1._value, t1)\\nbox_t2 = Box(t2._value, t2)\\nbox_t3 = Box(t3._value, t3)\\nbox_y = Box(y._value, y)\\nbox_y.register('string_type')\",\n",
       " '_i124': 'new_add = primitive(onp.add)',\n",
       " '_i125': 'def new_box(value, node):\\n    \"\"\"Box an unboxed value.\\n    Args:\\n      value: unboxed value\\n      node: Node corresponding to this boxed value.\\n    Returns:\\n      Boxed value.\\n    \"\"\"\\n    try:\\n        return box_type_mappings[type(value)](value, node)\\n    except KeyError:\\n        raise TypeError(\"Can\\'t differentiate w.r.t. type {}\".format(type(value)))',\n",
       " '_i126': 'def primitive(f_raw):\\n    \"\"\"Wraps a function so that its gradient (vjp) can be specified and its\\n    invocation can be recorded.\"\"\"\\n    def f_wrapped(*args, **kwargs):\\n        set_trace()\\n        boxed_args = args\\n        if boxed_args:\\n            # Get nodes for each boxed argument.\\n            parents = tuple(box._node for _, box in boxed_args)\\n            \\n            # Note that we use a recursive call here in order to also augment\\n            # outer calls to trace() with lower trace_ids. See TraceStack\\'s\\n            # docstring for details.\\n            ans = f_wrapped(*argvals, **kwargs)\\n            # Create a new node\\n            node = Node(ans, f_wrapped, parents)\\n            return new_box(ans, node)\\n        else:\\n            return f_raw(*args, **kwargs)\\n    return f_wrapped',\n",
       " '_i127': \"box_z = Box(z._value, z)\\nbox_t1 = Box(t1._value, t1)\\nbox_t2 = Box(t2._value, t2)\\nbox_t3 = Box(t3._value, t3)\\nbox_y = Box(y._value, y)\\nbox_y.register('string_type')\",\n",
       " '_i128': 'new_add = primitive(onp.add)',\n",
       " '_i129': 'new_add(box_z,box_t1)',\n",
       " '_i130': 'def new_box(value, node):\\n    \"\"\"Box an unboxed value.\\n    Args:\\n      value: unboxed value\\n      node: Node corresponding to this boxed value.\\n    Returns:\\n      Boxed value.\\n    \"\"\"\\n    try:\\n        return box_type_mappings[type(value)](value, node)\\n    except KeyError:\\n        raise TypeError(\"Can\\'t differentiate w.r.t. type {}\".format(type(value)))',\n",
       " '_i131': 'def find_top_boxed_args(args):\\n    top_boxes = []\\n    for i,o in enumerate(args)\\n    top.boxes.append(i,o)\\n    \\n#     top_trace_id = -1\\n#     top_boxes = []\\n#     for argnum, arg in enumerate(args):\\n#         if isbox(arg):\\n#             if arg._trace_id > top_trace_id:\\n#                 top_boxes = [(argnum, arg)]\\n#                 top_trace_id = arg._trace_id\\n#             elif arg._trace_id == top_trace_id:\\n#                 top_boxes.append((argnum, arg))\\n    return top_boxes',\n",
       " '_i132': 'def find_top_boxed_args(args):\\n    top_boxes = []\\n    for i,o in enumerate(args):\\n        top.boxes.append(i,o)\\n    \\n#     top_trace_id = -1\\n#     top_boxes = []\\n#     for argnum, arg in enumerate(args):\\n#         if isbox(arg):\\n#             if arg._trace_id > top_trace_id:\\n#                 top_boxes = [(argnum, arg)]\\n#                 top_trace_id = arg._trace_id\\n#             elif arg._trace_id == top_trace_id:\\n#                 top_boxes.append((argnum, arg))\\n    return top_boxes',\n",
       " '_i133': 'def find_top_boxed_args(args):\\n    top_boxes = []\\n    for i,o in enumerate(args):\\n        top.boxes.append(i,o)\\n    \\n#     top_trace_id = -1\\n#     top_boxes = []\\n#     for argnum, arg in enumerate(args):\\n#         if isbox(arg):\\n#             if arg._trace_id > top_trace_id:\\n#                 top_boxes = [(argnum, arg)]\\n#                 top_trace_id = arg._trace_id\\n#             elif arg._trace_id == top_trace_id:\\n#                 top_boxes.append((argnum, arg))\\n    return top_boxes',\n",
       " '_i134': 'def primitive(f_raw):\\n    \"\"\"Wraps a function so that its gradient (vjp) can be specified and its\\n    invocation can be recorded.\"\"\"\\n    def f_wrapped(*args, **kwargs):\\n        set_trace()\\n        boxed_args = find_top_boxed_args(args)\\n        if boxed_args:\\n            # Get nodes for each boxed argument.\\n            parents = tuple(box._node for _, box in boxed_args)\\n            \\n            # Note that we use a recursive call here in order to also augment\\n            # outer calls to trace() with lower trace_ids. See TraceStack\\'s\\n            # docstring for details.\\n            ans = f_wrapped(*argvals, **kwargs)\\n            # Create a new node\\n            node = Node(ans, f_wrapped, parents)\\n            return new_box(ans, node)\\n        else:\\n            return f_raw(*args, **kwargs)\\n    return f_wrapped',\n",
       " '_i135': \"box_z = Box(z._value, z)\\nbox_t1 = Box(t1._value, t1)\\nbox_t2 = Box(t2._value, t2)\\nbox_t3 = Box(t3._value, t3)\\nbox_y = Box(y._value, y)\\nbox_y.register('string_type')\",\n",
       " '_i136': 'new_add = primitive(onp.add)',\n",
       " '_i137': 'new_add(box_z,box_t1)',\n",
       " '__exception__': (NameError, NameError(\"name 'top' is not defined\")),\n",
       " '_i138': 'def find_top_boxed_args(args):\\n    top_boxes = []\\n    for i,o in enumerate(args):\\n        top_boxes.append(i,o)\\n    \\n#     top_trace_id = -1\\n#     top_boxes = []\\n#     for argnum, arg in enumerate(args):\\n#         if isbox(arg):\\n#             if arg._trace_id > top_trace_id:\\n#                 top_boxes = [(argnum, arg)]\\n#                 top_trace_id = arg._trace_id\\n#             elif arg._trace_id == top_trace_id:\\n#                 top_boxes.append((argnum, arg))\\n    return top_boxes',\n",
       " '_i139': 'def primitive(f_raw):\\n    \"\"\"Wraps a function so that its gradient (vjp) can be specified and its\\n    invocation can be recorded.\"\"\"\\n    def f_wrapped(*args, **kwargs):\\n        set_trace()\\n        boxed_args = find_top_boxed_args(args)\\n        if boxed_args:\\n            # Get nodes for each boxed argument.\\n            parents = tuple(box._node for _, box in boxed_args)\\n            \\n            # Note that we use a recursive call here in order to also augment\\n            # outer calls to trace() with lower trace_ids. See TraceStack\\'s\\n            # docstring for details.\\n            ans = f_wrapped(*argvals, **kwargs)\\n            # Create a new node\\n            node = Node(ans, f_wrapped, parents)\\n            return new_box(ans, node)\\n        else:\\n            return f_raw(*args, **kwargs)\\n    return f_wrapped',\n",
       " '_i140': \"box_z = Box(z._value, z)\\nbox_t1 = Box(t1._value, t1)\\nbox_t2 = Box(t2._value, t2)\\nbox_t3 = Box(t3._value, t3)\\nbox_y = Box(y._value, y)\\nbox_y.register('string_type')\",\n",
       " '_i141': 'new_add = primitive(onp.add)',\n",
       " '_i142': 'new_add(box_z,box_t1)',\n",
       " '_i143': 'def primitive(f_raw):\\n    \"\"\"Wraps a function so that its gradient (vjp) can be specified and its\\n    invocation can be recorded.\"\"\"\\n    def f_wrapped(*args, **kwargs):\\n        set_trace()\\n        boxed_args = find_top_boxed_args(args)\\n        if boxed_args:\\n            # Get nodes for each boxed argument.\\n            parents = tuple(box._node for _, box in boxed_args)\\n            \\n            # Note that we use a recursive call here in order to also augment\\n            # outer calls to trace() with lower trace_ids. See TraceStack\\'s\\n            # docstring for details.\\n            ans = f_wrapped(*argvals, **kwargs)\\n            # Create a new node\\n            node = Node(ans, f_wrapped, parents)\\n            return new_box(ans, node)\\n        else:\\n            return f_raw(*args, **kwargs)\\n    return f_wrapped',\n",
       " '_i144': \"box_z = Box(z._value, z)\\nbox_t1 = Box(t1._value, t1)\\nbox_t2 = Box(t2._value, t2)\\nbox_t3 = Box(t3._value, t3)\\nbox_y = Box(y._value, y)\\nbox_y.register('string_type')\",\n",
       " '_i145': 'new_add = primitive(onp.add)',\n",
       " '_i146': 'new_add(box_z,box_t1)',\n",
       " '_i147': 'def find_top_boxed_args(args):\\n    top_boxes = []\\n    for i,o in enumerate(args):\\n        top_boxes.append((i,o))\\n    \\n#     top_trace_id = -1\\n#     top_boxes = []\\n#     for argnum, arg in enumerate(args):\\n#         if isbox(arg):\\n#             if arg._trace_id > top_trace_id:\\n#                 top_boxes = [(argnum, arg)]\\n#                 top_trace_id = arg._trace_id\\n#             elif arg._trace_id == top_trace_id:\\n#                 top_boxes.append((argnum, arg))\\n    return top_boxes',\n",
       " '_i148': 'def primitive(f_raw):\\n    \"\"\"Wraps a function so that its gradient (vjp) can be specified and its\\n    invocation can be recorded.\"\"\"\\n    def f_wrapped(*args, **kwargs):\\n        set_trace()\\n        boxed_args = find_top_boxed_args(args)\\n        if boxed_args:\\n            # Get nodes for each boxed argument.\\n            parents = tuple(box._node for _, box in boxed_args)\\n            \\n            # Note that we use a recursive call here in order to also augment\\n            # outer calls to trace() with lower trace_ids. See TraceStack\\'s\\n            # docstring for details.\\n            ans = f_wrapped(*argvals, **kwargs)\\n            # Create a new node\\n            node = Node(ans, f_wrapped, parents)\\n            return new_box(ans, node)\\n        else:\\n            return f_raw(*args, **kwargs)\\n    return f_wrapped',\n",
       " '_i149': \"box_z = Box(z._value, z)\\nbox_t1 = Box(t1._value, t1)\\nbox_t2 = Box(t2._value, t2)\\nbox_t3 = Box(t3._value, t3)\\nbox_y = Box(y._value, y)\\nbox_y.register('string_type')\",\n",
       " '_i150': 'new_add = primitive(onp.add)',\n",
       " '_i151': 'new_add(box_z,box_t1)',\n",
       " '_i152': 'val_z = 1.5 \\nz = Node(val_z, None, [])\\nval_t1 = np.negative(val_z)\\nt1 = Node(val_t1,np.negative, [z])\\nval_t2 = np.exp(val_t1)\\nt2 = Node(val_t2, np.exp, [t1])\\nval_t3 = np.add(val_t2, 1)\\nt3 = Node(val_t3, np.add, [t2])\\nval_y = np.reciprocal(val_t3)\\ny = Node(val_y, np.reciprocal, [t3])\\nprint(round(y._value,3)) # same answer as before',\n",
       " '_i153': \"import numpy as np\\nimport numpy as onp\\nimport autograd \\npath_assets = './assets/'\",\n",
       " '_i154': 'import numpy as np\\nval_z = 1.5 \\nz = Node(val_z, None, [])\\nval_t1 = np.negative(val_z)\\nt1 = Node(val_t1,np.negative, [z])\\nval_t2 = np.exp(val_t1)\\nt2 = Node(val_t2, np.exp, [t1])\\nval_t3 = np.add(val_t2, 1)\\nt3 = Node(val_t3, np.add, [t2])\\nval_y = np.reciprocal(val_t3)\\ny = Node(val_y, np.reciprocal, [t3])\\nprint(round(y._value,3)) # same answer as before\\ndel np',\n",
       " '_i155': 'def new_box(value, node):\\n    \"\"\"Box an unboxed value.\\n    Args:\\n      value: unboxed value\\n      node: Node corresponding to this boxed value.\\n    Returns:\\n      Boxed value.\\n    \"\"\"\\n    try:\\n        return box_type_mappings[type(value)](value, node)\\n    except KeyError:\\n        raise TypeError(\"Can\\'t differentiate w.r.t. type {}\".format(type(value)))',\n",
       " '_i156': 'def find_top_boxed_args(args):\\n    top_boxes = []\\n    for i,o in enumerate(args):\\n        top_boxes.append((i,o))\\n    \\n#     top_trace_id = -1\\n#     top_boxes = []\\n#     for argnum, arg in enumerate(args):\\n#         if isbox(arg):\\n#             if arg._trace_id > top_trace_id:\\n#                 top_boxes = [(argnum, arg)]\\n#                 top_trace_id = arg._trace_id\\n#             elif arg._trace_id == top_trace_id:\\n#                 top_boxes.append((argnum, arg))\\n    return top_boxes',\n",
       " '_i157': 'def primitive(f_raw):\\n    \"\"\"Wraps a function so that its gradient (vjp) can be specified and its\\n    invocation can be recorded.\"\"\"\\n    def f_wrapped(*args, **kwargs):\\n        set_trace()\\n        boxed_args = find_top_boxed_args(args)\\n        if boxed_args:\\n            # Get nodes for each boxed argument.\\n            parents = tuple(box._node for _, box in boxed_args)\\n            \\n            # Note that we use a recursive call here in order to also augment\\n            # outer calls to trace() with lower trace_ids. See TraceStack\\'s\\n            # docstring for details.\\n            ans = f_wrapped(*argvals, **kwargs)\\n            # Create a new node\\n            node = Node(ans, f_wrapped, parents)\\n            return new_box(ans, node)\\n        else:\\n            return f_raw(*args, **kwargs)\\n    return f_wrapped',\n",
       " '_i158': \"box_z = Box(z._value, z)\\nbox_t1 = Box(t1._value, t1)\\nbox_t2 = Box(t2._value, t2)\\nbox_t3 = Box(t3._value, t3)\\nbox_y = Box(y._value, y)\\nbox_y.register('string_type')\",\n",
       " '_i159': 'new_add = primitive(onp.add)',\n",
       " '_i160': 'new_add(box_z,box_t1)',\n",
       " '_i161': '# Non differentiable functions \\nnograd_functions = [\\n    _np.ndim, _np.shape, _np.iscomplexobj, _np.result_type, _np.zeros_like,\\n    _np.ones_like, _np.floor, _np.ceil, _np.round, _np.rint, _np.around,\\n    _np.fix, _np.trunc, _np.all, _np.any, _np.argmax, _np.argmin,\\n    _np.argpartition, _np.argsort, _np.argwhere, _np.nonzero, _np.flatnonzero,\\n    _np.count_nonzero, _np.searchsorted, _np.sign, _np.ndim, _np.shape,\\n    _np.floor_divide, _np.logical_and, _np.logical_or, _np.logical_not,\\n    _np.logical_xor, _np.isfinite, _np.isinf, _np.isnan, _np.isneginf,\\n    _np.isposinf, _np.allclose, _np.isclose, _np.array_equal, _np.array_equiv,\\n    _np.greater, _np.greater_equal, _np.less, _np.less_equal, _np.equal,\\n    _np.not_equal, _np.iscomplexobj, _np.iscomplex, _np.size, _np.isscalar,\\n    _np.isreal, _np.zeros_like, _np.ones_like, _np.result_type\\n]',\n",
       " '_i162': 'try:     del np\\nexcept:  pass \\nimport numpy as _np',\n",
       " '_np': <module 'numpy' from '/Users/tomroth/anaconda3/lib/python3.7/site-packages/numpy/__init__.py'>,\n",
       " '_i163': '# Non differentiable functions \\nnograd_functions = [\\n    _np.ndim, _np.shape, _np.iscomplexobj, _np.result_type, _np.zeros_like,\\n    _np.ones_like, _np.floor, _np.ceil, _np.round, _np.rint, _np.around,\\n    _np.fix, _np.trunc, _np.all, _np.any, _np.argmax, _np.argmin,\\n    _np.argpartition, _np.argsort, _np.argwhere, _np.nonzero, _np.flatnonzero,\\n    _np.count_nonzero, _np.searchsorted, _np.sign, _np.ndim, _np.shape,\\n    _np.floor_divide, _np.logical_and, _np.logical_or, _np.logical_not,\\n    _np.logical_xor, _np.isfinite, _np.isinf, _np.isnan, _np.isneginf,\\n    _np.isposinf, _np.allclose, _np.isclose, _np.array_equal, _np.array_equiv,\\n    _np.greater, _np.greater_equal, _np.less, _np.less_equal, _np.equal,\\n    _np.not_equal, _np.iscomplexobj, _np.iscomplex, _np.size, _np.isscalar,\\n    _np.isreal, _np.zeros_like, _np.ones_like, _np.result_type\\n]',\n",
       " 'nograd_functions': [<function numpy.ndim(a)>,\n",
       "  <function numpy.shape(a)>,\n",
       "  <function numpy.iscomplexobj(x)>,\n",
       "  <function numpy.result_type>,\n",
       "  <function numpy.zeros_like(a, dtype=None, order='K', subok=True)>,\n",
       "  <function numpy.ones_like(a, dtype=None, order='K', subok=True)>,\n",
       "  <ufunc 'floor'>,\n",
       "  <ufunc 'ceil'>,\n",
       "  <function numpy.round_(a, decimals=0, out=None)>,\n",
       "  <ufunc 'rint'>,\n",
       "  <function numpy.around(a, decimals=0, out=None)>,\n",
       "  <function numpy.fix(x, out=None)>,\n",
       "  <ufunc 'trunc'>,\n",
       "  <function numpy.all(a, axis=None, out=None, keepdims=<no value>)>,\n",
       "  <function numpy.any(a, axis=None, out=None, keepdims=<no value>)>,\n",
       "  <function numpy.argmax(a, axis=None, out=None)>,\n",
       "  <function numpy.argmin(a, axis=None, out=None)>,\n",
       "  <function numpy.argpartition(a, kth, axis=-1, kind='introselect', order=None)>,\n",
       "  <function numpy.argsort(a, axis=-1, kind='quicksort', order=None)>,\n",
       "  <function numpy.argwhere(a)>,\n",
       "  <function numpy.nonzero(a)>,\n",
       "  <function numpy.flatnonzero(a)>,\n",
       "  <function numpy.count_nonzero(a, axis=None)>,\n",
       "  <function numpy.searchsorted(a, v, side='left', sorter=None)>,\n",
       "  <ufunc 'sign'>,\n",
       "  <function numpy.ndim(a)>,\n",
       "  <function numpy.shape(a)>,\n",
       "  <ufunc 'floor_divide'>,\n",
       "  <ufunc 'logical_and'>,\n",
       "  <ufunc 'logical_or'>,\n",
       "  <ufunc 'logical_not'>,\n",
       "  <ufunc 'logical_xor'>,\n",
       "  <ufunc 'isfinite'>,\n",
       "  <ufunc 'isinf'>,\n",
       "  <ufunc 'isnan'>,\n",
       "  <function numpy.isneginf(x, out=None)>,\n",
       "  <function numpy.isposinf(x, out=None)>,\n",
       "  <function numpy.allclose(a, b, rtol=1e-05, atol=1e-08, equal_nan=False)>,\n",
       "  <function numpy.isclose(a, b, rtol=1e-05, atol=1e-08, equal_nan=False)>,\n",
       "  <function numpy.array_equal(a1, a2)>,\n",
       "  <function numpy.array_equiv(a1, a2)>,\n",
       "  <ufunc 'greater'>,\n",
       "  <ufunc 'greater_equal'>,\n",
       "  <ufunc 'less'>,\n",
       "  <ufunc 'less_equal'>,\n",
       "  <ufunc 'equal'>,\n",
       "  <ufunc 'not_equal'>,\n",
       "  <function numpy.iscomplexobj(x)>,\n",
       "  <function numpy.iscomplex(x)>,\n",
       "  <function numpy.size(a, axis=None)>,\n",
       "  <function numpy.isscalar(num)>,\n",
       "  <function numpy.isreal(x)>,\n",
       "  <function numpy.zeros_like(a, dtype=None, order='K', subok=True)>,\n",
       "  <function numpy.ones_like(a, dtype=None, order='K', subok=True)>,\n",
       "  <function numpy.result_type>],\n",
       " '_i164': 'try:     del np\\nexcept:  pass \\nimport numpy as _np, numpy as onp',\n",
       " '_i165': 'unchanged_types = {float, int, type(None), type}\\nint_types = {_np.int, _np.int8, _np.int16, _np.int32, _np.int64, _np.integer}\\nfunction_types = {_np.ufunc, types.FunctionType, types.BuiltinFunctionType}',\n",
       " 'unchanged_types': {NoneType, float, int, type},\n",
       " 'int_types': {int,\n",
       "  numpy.int16,\n",
       "  numpy.int32,\n",
       "  numpy.int64,\n",
       "  numpy.int8,\n",
       "  numpy.integer},\n",
       " '_i166': 'import type\\nunchanged_types = {float, int, type(None), type}\\nint_types = {_np.int, _np.int8, _np.int16, _np.int32, _np.int64, _np.integer}\\nfunction_types = {_np.ufunc, types.FunctionType, types.BuiltinFunctionType}',\n",
       " '_i167': 'import types\\nunchanged_types = {float, int, type(None), type}\\nint_types = {_np.int, _np.int8, _np.int16, _np.int32, _np.int64, _np.integer}\\nfunction_types = {_np.ufunc, types.FunctionType, types.BuiltinFunctionType}',\n",
       " 'types': <module 'types' from '/Users/tomroth/anaconda3/lib/python3.7/types.py'>,\n",
       " 'function_types': {builtin_function_or_method, function, numpy.ufunc},\n",
       " '_i168': 'globals()'}"
      ]
     },
     "execution_count": null,
     "metadata": {},
     "output_type": "execute_result"
    }
   ],
   "source": [
    "globals()"
   ]
  },
  {
   "cell_type": "markdown",
   "metadata": {},
   "source": [
    "#### Utility functions "
   ]
  },
  {
   "cell_type": "markdown",
   "metadata": {},
   "source": [
    "These are used throughout the program "
   ]
  },
  {
   "cell_type": "code",
   "execution_count": null,
   "metadata": {},
   "outputs": [
    {
     "ename": "IndentationError",
     "evalue": "expected an indented block (<ipython-input-120-90e1965a0d8d>, line 11)",
     "output_type": "error",
     "traceback": [
      "\u001b[0;36m  File \u001b[0;32m\"<ipython-input-120-90e1965a0d8d>\"\u001b[0;36m, line \u001b[0;32m11\u001b[0m\n\u001b[0;31m    \"\"\"\u001b[0m\n\u001b[0m       \n^\u001b[0m\n\u001b[0;31mIndentationError\u001b[0m\u001b[0;31m:\u001b[0m expected an indented block\n"
     ]
    }
   ],
   "source": [
    "def subvals(x, ivs):\n",
    "\"\"\"\n",
    "    Changes an iterable x to a tuple and replace the ivs[0]th value of x with ivs[1], for every tuple in ivs. \n",
    "ivs is a list of (int, value) pairs, hence the name \n",
    "\n",
    "For example: \n",
    "x = [0,1,2,3,4,5,6]\n",
    "ivs = [(0,'s1'), (4, 's2'), (5, 's3')]\n",
    "subvals(x, ivs)\n",
    "# gives ('s1', 1, 2, 3, 's2', 's3', 6)\n",
    "    \"\"\"\n",
    "    x_ = list(x)\n",
    "    for i, v in ivs:\n",
    "        x_[i] = v\n",
    "    return tuple(x_)\n",
    "\n",
    "def subval(x, i, v):\n",
    "    x_ = list(x)\n",
    "    x_[i] = v\n",
    "    return tuple(x_)\n",
    "\n",
    "# If True, the value is Box.\n",
    "isbox  = lambda x: type(x) in box_types  # almost 3X faster than isinstance(x, Box)\n",
    "# Get value from a Box.\n",
    "getval = lambda x: getval(x._value) if isbox(x) else x\n",
    "\n",
    "def toposort(end_node):\n",
    "    child_counts = {}\n",
    "    stack = [end_node]\n",
    "    while stack:\n",
    "        node = stack.pop()\n",
    "        if node in child_counts:\n",
    "            child_counts[node] += 1\n",
    "        else:\n",
    "            child_counts[node] = 1\n",
    "            stack.extend(node.parents)\n",
    "\n",
    "    childless_nodes = [end_node]\n",
    "    while childless_nodes:\n",
    "        node = childless_nodes.pop()\n",
    "        yield node\n",
    "        for parent in node.parents:\n",
    "            if child_counts[parent] == 1:\n",
    "                childless_nodes.append(parent)\n",
    "            else:\n",
    "                child_counts[parent] -= 1\n",
    "\n",
    "def wraps(fun, namestr=\"{fun}\", docstr=\"{doc}\", **kwargs):\n",
    "    def _wraps(f):\n",
    "        try:\n",
    "            f.__name__ = namestr.format(fun=get_name(fun), **kwargs)\n",
    "            f.__doc__ = docstr.format(fun=get_name(fun), doc=get_doc(fun), **kwargs)\n",
    "        finally:\n",
    "            return f\n",
    "    return _wraps\n",
    "\n",
    "def wrap_nary_f(fun, op, argnum):\n",
    "    namestr = \"{op}_of_{fun}_wrt_argnum_{argnum}\"\n",
    "    docstr = \"\"\"\\\n",
    "    {op} of function {fun} with respect to argument number {argnum}. Takes the\n",
    "    same arguments as {fun} but returns the {op}.\n",
    "    \"\"\"\n",
    "    return wraps(fun, namestr, docstr, op=get_name(op), argnum=argnum)\n",
    "\n",
    "get_name = lambda f: getattr(f, '__name__', '[unknown name]')\n",
    "get_doc  = lambda f: getattr(f, '__doc__' , '')"
   ]
  },
  {
   "cell_type": "markdown",
   "metadata": {},
   "source": [
    "### Boxes "
   ]
  },
  {
   "cell_type": "markdown",
   "metadata": {},
   "source": [
    "A Box is a class that wraps around a Node. Autograd package has several types of Box. Autodidact just has Box and ArrayBox. So that is what we will use here. "
   ]
  },
  {
   "cell_type": "code",
   "execution_count": null,
   "metadata": {},
   "outputs": [],
   "source": [
    "class Box:\n",
    "    # These belong to all members of class Box\n",
    "    type_mappings = {} \n",
    "    types = set()\n",
    "    \n",
    "    def __init__(self, value, node): \n",
    "        self._value = value\n",
    "        self._node = node \n",
    "        \n",
    "    \n",
    "    \n",
    "    @classmethod\n",
    "    def register(cls, value_type): \n",
    "        \"\"\"cls is Box if called by a Box object, ArrayBox if called with ArrayBox etc\"\"\"\n",
    "        Box.types.add(cls)\n",
    "        Box.type_mappings[value_type] = cls\n",
    "        #Box.type_mappings[cls] = cls\n",
    "    \n",
    "box_type_mappings = Box.type_mappings\n",
    "box_types = Box.types"
   ]
  },
  {
   "cell_type": "markdown",
   "metadata": {},
   "source": [
    "#### Functions with boxes "
   ]
  },
  {
   "cell_type": "code",
   "execution_count": null,
   "metadata": {},
   "outputs": [],
   "source": [
    "def new_box(value, node):\n",
    "    \"\"\"Box an unboxed value.\n",
    "    Args:\n",
    "      value: unboxed value\n",
    "      node: Node corresponding to this boxed value.\n",
    "    Returns:\n",
    "      Boxed value.\n",
    "    \"\"\"\n",
    "    try:\n",
    "        return box_type_mappings[type(value)](value, node)\n",
    "    except KeyError:\n",
    "        raise TypeError(\"Can't differentiate w.r.t. type {}\".format(type(value)))"
   ]
  },
  {
   "cell_type": "code",
   "execution_count": null,
   "metadata": {},
   "outputs": [],
   "source": [
    "def find_top_boxed_args(args):\n",
    "    top_boxes = []\n",
    "    for i,o in enumerate(args):\n",
    "        top_boxes.append((i,o))\n",
    "    \n",
    "#     top_trace_id = -1\n",
    "#     top_boxes = []\n",
    "#     for argnum, arg in enumerate(args):\n",
    "#         if isbox(arg):\n",
    "#             if arg._trace_id > top_trace_id:\n",
    "#                 top_boxes = [(argnum, arg)]\n",
    "#                 top_trace_id = arg._trace_id\n",
    "#             elif arg._trace_id == top_trace_id:\n",
    "#                 top_boxes.append((argnum, arg))\n",
    "    return top_boxes"
   ]
  },
  {
   "cell_type": "markdown",
   "metadata": {},
   "source": [
    "#### Primitives "
   ]
  },
  {
   "cell_type": "code",
   "execution_count": null,
   "metadata": {},
   "outputs": [],
   "source": [
    "def primitive(f_raw):\n",
    "    \"\"\"Wraps a function so that its gradient (vjp) can be specified and its\n",
    "    invocation can be recorded.\"\"\"\n",
    "    def f_wrapped(*args, **kwargs):\n",
    "        set_trace()\n",
    "        boxed_args = find_top_boxed_args(args)\n",
    "        if boxed_args:\n",
    "            # Get nodes for each boxed argument.\n",
    "            parents = tuple(box._node for _, box in boxed_args)\n",
    "            \n",
    "            # Note that we use a recursive call here in order to also augment\n",
    "            # outer calls to trace() with lower trace_ids. See TraceStack's\n",
    "            # docstring for details.\n",
    "            ans = f_wrapped(*argvals, **kwargs)\n",
    "            # Create a new node\n",
    "            node = Node(ans, f_wrapped, parents)\n",
    "            return new_box(ans, node)\n",
    "        else:\n",
    "            return f_raw(*args, **kwargs)\n",
    "    return f_wrapped\n"
   ]
  },
  {
   "cell_type": "markdown",
   "metadata": {},
   "source": [
    "Let's play with this for a bit "
   ]
  },
  {
   "cell_type": "code",
   "execution_count": null,
   "metadata": {},
   "outputs": [],
   "source": [
    "box_z = Box(z._value, z)\n",
    "box_t1 = Box(t1._value, t1)\n",
    "box_t2 = Box(t2._value, t2)\n",
    "box_t3 = Box(t3._value, t3)\n",
    "box_y = Box(y._value, y)\n",
    "box_y.register('string_type')"
   ]
  },
  {
   "cell_type": "code",
   "execution_count": null,
   "metadata": {},
   "outputs": [],
   "source": [
    "new_add = primitive(onp.add)"
   ]
  },
  {
   "cell_type": "code",
   "execution_count": null,
   "metadata": {},
   "outputs": [
    {
     "name": "stdout",
     "output_type": "stream",
     "text": [
      "> \u001b[0;32m<ipython-input-157-9695c471e093>\u001b[0m(6)\u001b[0;36mf_wrapped\u001b[0;34m()\u001b[0m\n",
      "\u001b[0;32m      4 \u001b[0;31m    \u001b[0;32mdef\u001b[0m \u001b[0mf_wrapped\u001b[0m\u001b[0;34m(\u001b[0m\u001b[0;34m*\u001b[0m\u001b[0margs\u001b[0m\u001b[0;34m,\u001b[0m \u001b[0;34m**\u001b[0m\u001b[0mkwargs\u001b[0m\u001b[0;34m)\u001b[0m\u001b[0;34m:\u001b[0m\u001b[0;34m\u001b[0m\u001b[0;34m\u001b[0m\u001b[0m\n",
      "\u001b[0m\u001b[0;32m      5 \u001b[0;31m        \u001b[0mset_trace\u001b[0m\u001b[0;34m(\u001b[0m\u001b[0;34m)\u001b[0m\u001b[0;34m\u001b[0m\u001b[0;34m\u001b[0m\u001b[0m\n",
      "\u001b[0m\u001b[0;32m----> 6 \u001b[0;31m        \u001b[0mboxed_args\u001b[0m \u001b[0;34m=\u001b[0m \u001b[0mfind_top_boxed_args\u001b[0m\u001b[0;34m(\u001b[0m\u001b[0margs\u001b[0m\u001b[0;34m)\u001b[0m\u001b[0;34m\u001b[0m\u001b[0;34m\u001b[0m\u001b[0m\n",
      "\u001b[0m\u001b[0;32m      7 \u001b[0;31m        \u001b[0;32mif\u001b[0m \u001b[0mboxed_args\u001b[0m\u001b[0;34m:\u001b[0m\u001b[0;34m\u001b[0m\u001b[0;34m\u001b[0m\u001b[0m\n",
      "\u001b[0m\u001b[0;32m      8 \u001b[0;31m            \u001b[0;31m# Get nodes for each boxed argument.\u001b[0m\u001b[0;34m\u001b[0m\u001b[0;34m\u001b[0m\u001b[0;34m\u001b[0m\u001b[0m\n",
      "\u001b[0m\n",
      "ipdb> n\n",
      "> \u001b[0;32m<ipython-input-157-9695c471e093>\u001b[0m(7)\u001b[0;36mf_wrapped\u001b[0;34m()\u001b[0m\n",
      "\u001b[0;32m      5 \u001b[0;31m        \u001b[0mset_trace\u001b[0m\u001b[0;34m(\u001b[0m\u001b[0;34m)\u001b[0m\u001b[0;34m\u001b[0m\u001b[0;34m\u001b[0m\u001b[0m\n",
      "\u001b[0m\u001b[0;32m      6 \u001b[0;31m        \u001b[0mboxed_args\u001b[0m \u001b[0;34m=\u001b[0m \u001b[0mfind_top_boxed_args\u001b[0m\u001b[0;34m(\u001b[0m\u001b[0margs\u001b[0m\u001b[0;34m)\u001b[0m\u001b[0;34m\u001b[0m\u001b[0;34m\u001b[0m\u001b[0m\n",
      "\u001b[0m\u001b[0;32m----> 7 \u001b[0;31m        \u001b[0;32mif\u001b[0m \u001b[0mboxed_args\u001b[0m\u001b[0;34m:\u001b[0m\u001b[0;34m\u001b[0m\u001b[0;34m\u001b[0m\u001b[0m\n",
      "\u001b[0m\u001b[0;32m      8 \u001b[0;31m            \u001b[0;31m# Get nodes for each boxed argument.\u001b[0m\u001b[0;34m\u001b[0m\u001b[0;34m\u001b[0m\u001b[0;34m\u001b[0m\u001b[0m\n",
      "\u001b[0m\u001b[0;32m      9 \u001b[0;31m            \u001b[0mparents\u001b[0m \u001b[0;34m=\u001b[0m \u001b[0mtuple\u001b[0m\u001b[0;34m(\u001b[0m\u001b[0mbox\u001b[0m\u001b[0;34m.\u001b[0m\u001b[0m_node\u001b[0m \u001b[0;32mfor\u001b[0m \u001b[0m_\u001b[0m\u001b[0;34m,\u001b[0m \u001b[0mbox\u001b[0m \u001b[0;32min\u001b[0m \u001b[0mboxed_args\u001b[0m\u001b[0;34m)\u001b[0m\u001b[0;34m\u001b[0m\u001b[0;34m\u001b[0m\u001b[0m\n",
      "\u001b[0m\n",
      "ipdb> n\n",
      "> \u001b[0;32m<ipython-input-157-9695c471e093>\u001b[0m(9)\u001b[0;36mf_wrapped\u001b[0;34m()\u001b[0m\n",
      "\u001b[0;32m      7 \u001b[0;31m        \u001b[0;32mif\u001b[0m \u001b[0mboxed_args\u001b[0m\u001b[0;34m:\u001b[0m\u001b[0;34m\u001b[0m\u001b[0;34m\u001b[0m\u001b[0m\n",
      "\u001b[0m\u001b[0;32m      8 \u001b[0;31m            \u001b[0;31m# Get nodes for each boxed argument.\u001b[0m\u001b[0;34m\u001b[0m\u001b[0;34m\u001b[0m\u001b[0;34m\u001b[0m\u001b[0m\n",
      "\u001b[0m\u001b[0;32m----> 9 \u001b[0;31m            \u001b[0mparents\u001b[0m \u001b[0;34m=\u001b[0m \u001b[0mtuple\u001b[0m\u001b[0;34m(\u001b[0m\u001b[0mbox\u001b[0m\u001b[0;34m.\u001b[0m\u001b[0m_node\u001b[0m \u001b[0;32mfor\u001b[0m \u001b[0m_\u001b[0m\u001b[0;34m,\u001b[0m \u001b[0mbox\u001b[0m \u001b[0;32min\u001b[0m \u001b[0mboxed_args\u001b[0m\u001b[0;34m)\u001b[0m\u001b[0;34m\u001b[0m\u001b[0;34m\u001b[0m\u001b[0m\n",
      "\u001b[0m\u001b[0;32m     10 \u001b[0;31m\u001b[0;34m\u001b[0m\u001b[0m\n",
      "\u001b[0m\u001b[0;32m     11 \u001b[0;31m            \u001b[0;31m# Note that we use a recursive call here in order to also augment\u001b[0m\u001b[0;34m\u001b[0m\u001b[0;34m\u001b[0m\u001b[0;34m\u001b[0m\u001b[0m\n",
      "\u001b[0m\n",
      "ipdb> n\n",
      "> \u001b[0;32m<ipython-input-157-9695c471e093>\u001b[0m(14)\u001b[0;36mf_wrapped\u001b[0;34m()\u001b[0m\n",
      "\u001b[0;32m     12 \u001b[0;31m            \u001b[0;31m# outer calls to trace() with lower trace_ids. See TraceStack's\u001b[0m\u001b[0;34m\u001b[0m\u001b[0;34m\u001b[0m\u001b[0;34m\u001b[0m\u001b[0m\n",
      "\u001b[0m\u001b[0;32m     13 \u001b[0;31m            \u001b[0;31m# docstring for details.\u001b[0m\u001b[0;34m\u001b[0m\u001b[0;34m\u001b[0m\u001b[0;34m\u001b[0m\u001b[0m\n",
      "\u001b[0m\u001b[0;32m---> 14 \u001b[0;31m            \u001b[0mans\u001b[0m \u001b[0;34m=\u001b[0m \u001b[0mf_wrapped\u001b[0m\u001b[0;34m(\u001b[0m\u001b[0;34m*\u001b[0m\u001b[0margvals\u001b[0m\u001b[0;34m,\u001b[0m \u001b[0;34m**\u001b[0m\u001b[0mkwargs\u001b[0m\u001b[0;34m)\u001b[0m\u001b[0;34m\u001b[0m\u001b[0;34m\u001b[0m\u001b[0m\n",
      "\u001b[0m\u001b[0;32m     15 \u001b[0;31m            \u001b[0;31m# Create a new node\u001b[0m\u001b[0;34m\u001b[0m\u001b[0;34m\u001b[0m\u001b[0;34m\u001b[0m\u001b[0m\n",
      "\u001b[0m\u001b[0;32m     16 \u001b[0;31m            \u001b[0mnode\u001b[0m \u001b[0;34m=\u001b[0m \u001b[0mNode\u001b[0m\u001b[0;34m(\u001b[0m\u001b[0mans\u001b[0m\u001b[0;34m,\u001b[0m \u001b[0mf_wrapped\u001b[0m\u001b[0;34m,\u001b[0m \u001b[0mparents\u001b[0m\u001b[0;34m)\u001b[0m\u001b[0;34m\u001b[0m\u001b[0;34m\u001b[0m\u001b[0m\n",
      "\u001b[0m\n",
      "ipdb> n\n",
      "NameError: name 'argvals' is not defined\n",
      "> \u001b[0;32m<ipython-input-157-9695c471e093>\u001b[0m(14)\u001b[0;36mf_wrapped\u001b[0;34m()\u001b[0m\n",
      "\u001b[0;32m     12 \u001b[0;31m            \u001b[0;31m# outer calls to trace() with lower trace_ids. See TraceStack's\u001b[0m\u001b[0;34m\u001b[0m\u001b[0;34m\u001b[0m\u001b[0;34m\u001b[0m\u001b[0m\n",
      "\u001b[0m\u001b[0;32m     13 \u001b[0;31m            \u001b[0;31m# docstring for details.\u001b[0m\u001b[0;34m\u001b[0m\u001b[0;34m\u001b[0m\u001b[0;34m\u001b[0m\u001b[0m\n",
      "\u001b[0m\u001b[0;32m---> 14 \u001b[0;31m            \u001b[0mans\u001b[0m \u001b[0;34m=\u001b[0m \u001b[0mf_wrapped\u001b[0m\u001b[0;34m(\u001b[0m\u001b[0;34m*\u001b[0m\u001b[0margvals\u001b[0m\u001b[0;34m,\u001b[0m \u001b[0;34m**\u001b[0m\u001b[0mkwargs\u001b[0m\u001b[0;34m)\u001b[0m\u001b[0;34m\u001b[0m\u001b[0;34m\u001b[0m\u001b[0m\n",
      "\u001b[0m\u001b[0;32m     15 \u001b[0;31m            \u001b[0;31m# Create a new node\u001b[0m\u001b[0;34m\u001b[0m\u001b[0;34m\u001b[0m\u001b[0;34m\u001b[0m\u001b[0m\n",
      "\u001b[0m\u001b[0;32m     16 \u001b[0;31m            \u001b[0mnode\u001b[0m \u001b[0;34m=\u001b[0m \u001b[0mNode\u001b[0m\u001b[0;34m(\u001b[0m\u001b[0mans\u001b[0m\u001b[0;34m,\u001b[0m \u001b[0mf_wrapped\u001b[0m\u001b[0;34m,\u001b[0m \u001b[0mparents\u001b[0m\u001b[0;34m)\u001b[0m\u001b[0;34m\u001b[0m\u001b[0;34m\u001b[0m\u001b[0m\n",
      "\u001b[0m\n",
      "ipdb> q\n"
     ]
    },
    {
     "ename": "BdbQuit",
     "evalue": "",
     "output_type": "error",
     "traceback": [
      "\u001b[0;31m---------------------------------------------------------------------------\u001b[0m",
      "\u001b[0;31mBdbQuit\u001b[0m                                   Traceback (most recent call last)",
      "\u001b[0;32m<ipython-input-160-2114ca7769d9>\u001b[0m in \u001b[0;36m<module>\u001b[0;34m\u001b[0m\n\u001b[0;32m----> 1\u001b[0;31m \u001b[0mnew_add\u001b[0m\u001b[0;34m(\u001b[0m\u001b[0mbox_z\u001b[0m\u001b[0;34m,\u001b[0m\u001b[0mbox_t1\u001b[0m\u001b[0;34m)\u001b[0m\u001b[0;34m\u001b[0m\u001b[0;34m\u001b[0m\u001b[0m\n\u001b[0m",
      "\u001b[0;32m<ipython-input-157-9695c471e093>\u001b[0m in \u001b[0;36mf_wrapped\u001b[0;34m(*args, **kwargs)\u001b[0m\n\u001b[1;32m     12\u001b[0m             \u001b[0;31m# outer calls to trace() with lower trace_ids. See TraceStack's\u001b[0m\u001b[0;34m\u001b[0m\u001b[0;34m\u001b[0m\u001b[0;34m\u001b[0m\u001b[0m\n\u001b[1;32m     13\u001b[0m             \u001b[0;31m# docstring for details.\u001b[0m\u001b[0;34m\u001b[0m\u001b[0;34m\u001b[0m\u001b[0;34m\u001b[0m\u001b[0m\n\u001b[0;32m---> 14\u001b[0;31m             \u001b[0mans\u001b[0m \u001b[0;34m=\u001b[0m \u001b[0mf_wrapped\u001b[0m\u001b[0;34m(\u001b[0m\u001b[0;34m*\u001b[0m\u001b[0margvals\u001b[0m\u001b[0;34m,\u001b[0m \u001b[0;34m**\u001b[0m\u001b[0mkwargs\u001b[0m\u001b[0;34m)\u001b[0m\u001b[0;34m\u001b[0m\u001b[0;34m\u001b[0m\u001b[0m\n\u001b[0m\u001b[1;32m     15\u001b[0m             \u001b[0;31m# Create a new node\u001b[0m\u001b[0;34m\u001b[0m\u001b[0;34m\u001b[0m\u001b[0;34m\u001b[0m\u001b[0m\n\u001b[1;32m     16\u001b[0m             \u001b[0mnode\u001b[0m \u001b[0;34m=\u001b[0m \u001b[0mNode\u001b[0m\u001b[0;34m(\u001b[0m\u001b[0mans\u001b[0m\u001b[0;34m,\u001b[0m \u001b[0mf_wrapped\u001b[0m\u001b[0;34m,\u001b[0m \u001b[0mparents\u001b[0m\u001b[0;34m)\u001b[0m\u001b[0;34m\u001b[0m\u001b[0;34m\u001b[0m\u001b[0m\n",
      "\u001b[0;32m~/anaconda3/lib/python3.7/bdb.py\u001b[0m in \u001b[0;36mtrace_dispatch\u001b[0;34m(self, frame, event, arg)\u001b[0m\n\u001b[1;32m     92\u001b[0m             \u001b[0;32mreturn\u001b[0m \u001b[0mself\u001b[0m\u001b[0;34m.\u001b[0m\u001b[0mdispatch_return\u001b[0m\u001b[0;34m(\u001b[0m\u001b[0mframe\u001b[0m\u001b[0;34m,\u001b[0m \u001b[0marg\u001b[0m\u001b[0;34m)\u001b[0m\u001b[0;34m\u001b[0m\u001b[0;34m\u001b[0m\u001b[0m\n\u001b[1;32m     93\u001b[0m         \u001b[0;32mif\u001b[0m \u001b[0mevent\u001b[0m \u001b[0;34m==\u001b[0m \u001b[0;34m'exception'\u001b[0m\u001b[0;34m:\u001b[0m\u001b[0;34m\u001b[0m\u001b[0;34m\u001b[0m\u001b[0m\n\u001b[0;32m---> 94\u001b[0;31m             \u001b[0;32mreturn\u001b[0m \u001b[0mself\u001b[0m\u001b[0;34m.\u001b[0m\u001b[0mdispatch_exception\u001b[0m\u001b[0;34m(\u001b[0m\u001b[0mframe\u001b[0m\u001b[0;34m,\u001b[0m \u001b[0marg\u001b[0m\u001b[0;34m)\u001b[0m\u001b[0;34m\u001b[0m\u001b[0;34m\u001b[0m\u001b[0m\n\u001b[0m\u001b[1;32m     95\u001b[0m         \u001b[0;32mif\u001b[0m \u001b[0mevent\u001b[0m \u001b[0;34m==\u001b[0m \u001b[0;34m'c_call'\u001b[0m\u001b[0;34m:\u001b[0m\u001b[0;34m\u001b[0m\u001b[0;34m\u001b[0m\u001b[0m\n\u001b[1;32m     96\u001b[0m             \u001b[0;32mreturn\u001b[0m \u001b[0mself\u001b[0m\u001b[0;34m.\u001b[0m\u001b[0mtrace_dispatch\u001b[0m\u001b[0;34m\u001b[0m\u001b[0;34m\u001b[0m\u001b[0m\n",
      "\u001b[0;32m~/anaconda3/lib/python3.7/bdb.py\u001b[0m in \u001b[0;36mdispatch_exception\u001b[0;34m(self, frame, arg)\u001b[0m\n\u001b[1;32m    172\u001b[0m                     and arg[0] is StopIteration and arg[2] is None):\n\u001b[1;32m    173\u001b[0m                 \u001b[0mself\u001b[0m\u001b[0;34m.\u001b[0m\u001b[0muser_exception\u001b[0m\u001b[0;34m(\u001b[0m\u001b[0mframe\u001b[0m\u001b[0;34m,\u001b[0m \u001b[0marg\u001b[0m\u001b[0;34m)\u001b[0m\u001b[0;34m\u001b[0m\u001b[0;34m\u001b[0m\u001b[0m\n\u001b[0;32m--> 174\u001b[0;31m                 \u001b[0;32mif\u001b[0m \u001b[0mself\u001b[0m\u001b[0;34m.\u001b[0m\u001b[0mquitting\u001b[0m\u001b[0;34m:\u001b[0m \u001b[0;32mraise\u001b[0m \u001b[0mBdbQuit\u001b[0m\u001b[0;34m\u001b[0m\u001b[0;34m\u001b[0m\u001b[0m\n\u001b[0m\u001b[1;32m    175\u001b[0m         \u001b[0;31m# Stop at the StopIteration or GeneratorExit exception when the user\u001b[0m\u001b[0;34m\u001b[0m\u001b[0;34m\u001b[0m\u001b[0;34m\u001b[0m\u001b[0m\n\u001b[1;32m    176\u001b[0m         \u001b[0;31m# has set stopframe in a generator by issuing a return command, or a\u001b[0m\u001b[0;34m\u001b[0m\u001b[0;34m\u001b[0m\u001b[0;34m\u001b[0m\u001b[0m\n",
      "\u001b[0;31mBdbQuit\u001b[0m: "
     ]
    }
   ],
   "source": [
    "new_add(box_z,box_t1)"
   ]
  },
  {
   "cell_type": "code",
   "execution_count": null,
   "metadata": {},
   "outputs": [
    {
     "name": "stdout",
     "output_type": "stream",
     "text": [
      "> \u001b[0;32m<ipython-input-107-3f5577b96125>\u001b[0m(8)\u001b[0;36m<genexpr>\u001b[0;34m()\u001b[0m\n",
      "\u001b[0;32m      6 \u001b[0;31m        \u001b[0;32mif\u001b[0m \u001b[0mboxed_args\u001b[0m\u001b[0;34m:\u001b[0m\u001b[0;34m\u001b[0m\u001b[0;34m\u001b[0m\u001b[0m\n",
      "\u001b[0m\u001b[0;32m      7 \u001b[0;31m            \u001b[0;31m# Get nodes for each boxed argument.\u001b[0m\u001b[0;34m\u001b[0m\u001b[0;34m\u001b[0m\u001b[0;34m\u001b[0m\u001b[0m\n",
      "\u001b[0m\u001b[0;32m----> 8 \u001b[0;31m            \u001b[0mparents\u001b[0m \u001b[0;34m=\u001b[0m \u001b[0mtuple\u001b[0m\u001b[0;34m(\u001b[0m\u001b[0mbox\u001b[0m\u001b[0;34m.\u001b[0m\u001b[0m_node\u001b[0m \u001b[0;32mfor\u001b[0m \u001b[0m_\u001b[0m\u001b[0;34m,\u001b[0m \u001b[0mbox\u001b[0m \u001b[0;32min\u001b[0m \u001b[0mboxed_args\u001b[0m\u001b[0;34m)\u001b[0m\u001b[0;34m\u001b[0m\u001b[0;34m\u001b[0m\u001b[0m\n",
      "\u001b[0m\u001b[0;32m      9 \u001b[0;31m\u001b[0;34m\u001b[0m\u001b[0m\n",
      "\u001b[0m\u001b[0;32m     10 \u001b[0;31m            \u001b[0;31m# Note that we use a recursive call here in order to also augment\u001b[0m\u001b[0;34m\u001b[0m\u001b[0;34m\u001b[0m\u001b[0;34m\u001b[0m\u001b[0m\n",
      "\u001b[0m\n",
      "ipdb> boxed_args\n",
      "*** NameError: name 'boxed_args' is not defined\n",
      "ipdb> locals\n",
      "<built-in function locals>\n",
      "ipdb> locals()\n",
      "{'.0': <tuple_iterator object at 0x10cd88748>}\n",
      "ipdb> boxed_args\n",
      "*** NameError: name 'boxed_args' is not defined\n",
      "ipdb> q\n"
     ]
    }
   ],
   "source": [
    "%debug"
   ]
  },
  {
   "cell_type": "markdown",
   "metadata": {},
   "source": [
    "Nothing interesting so far. "
   ]
  },
  {
   "cell_type": "markdown",
   "metadata": {},
   "source": [
    "How do we create a box? We could use the constructor. But there is also this other function defined for us called `new_box`. "
   ]
  },
  {
   "cell_type": "markdown",
   "metadata": {},
   "source": [
    "This won't work yet because we haven't added any box type mappings yet. If we add something to the type_mappings, it means we can differentiate with respect to that thing. "
   ]
  },
  {
   "cell_type": "code",
   "execution_count": null,
   "metadata": {},
   "outputs": [
    {
     "name": "stdout",
     "output_type": "stream",
     "text": [
      "doesn't work yet\n"
     ]
    }
   ],
   "source": [
    "try: new_box(1.5, z)\n",
    "except: print(\"doesn't work yet\")"
   ]
  },
  {
   "cell_type": "markdown",
   "metadata": {},
   "source": [
    "#### The ArrayBox "
   ]
  },
  {
   "cell_type": "markdown",
   "metadata": {},
   "source": [
    "An ArrayBox is the same thing as *numpy.ndarray*, except it will not use functions from the original numpy `onp`, but rather it will use the new functions we created in `anp`. It inherits from `Box`. "
   ]
  },
  {
   "cell_type": "markdown",
   "metadata": {},
   "source": [
    "The ArrayBox is where we define all our operations. When I'm trying to streamline things, I'll try to condense Box and ArrayBox into one thing. I don't think you need two classes for these for a simple prototype. "
   ]
  },
  {
   "cell_type": "markdown",
   "metadata": {},
   "source": [
    "Now we haven't defined any of the `anp` functions yet, so this won't work. So let's just use `onp` ones and see if we can get something working. "
   ]
  },
  {
   "cell_type": "code",
   "execution_count": null,
   "metadata": {},
   "outputs": [],
   "source": [
    "class ArrayBox(Box): \n",
    "    def __bool__(self):  return bool(self._value)\n",
    "    def __add__(self, other): return onp.add(self, other)\n",
    "    def __sub__(self, other): return onp.subtract(self, other)\n",
    "    def __mul__(self,other): return onp.multiply(self, other)"
   ]
  },
  {
   "cell_type": "code",
   "execution_count": null,
   "metadata": {},
   "outputs": [],
   "source": [
    "nondiff_methods = [\n",
    "    'all',\n",
    "    'any',\n",
    "    'argmax',\n",
    "    'argmin',\n",
    "    'argpartition',\n",
    "    'argsort',\n",
    "    'nonzero',\n",
    "    'searchsorted',\n",
    "    'round']\n",
    "\n",
    "diff_methods = [\n",
    "    'clip',\n",
    "    'compress',\n",
    "    'cumprod',\n",
    "    'cumsum',\n",
    "    'diagonal',\n",
    "    'max',\n",
    "    'mean',\n",
    "    'min',\n",
    "    'prod',\n",
    "    'ptp',\n",
    "    'ravel',\n",
    "    'repeat',\n",
    "    'reshape',\n",
    "    'squeeze',\n",
    "    'std',\n",
    "    'sum',\n",
    "    'swapaxes',\n",
    "    'take',\n",
    "    'trace',\n",
    "    'transpose',\n",
    "    'var']\n",
    "for method_name in nondiff_methods + diff_methods:\n",
    "    setattr(ArrayBox, method_name, anp.__dict__[method_name])"
   ]
  },
  {
   "cell_type": "code",
   "execution_count": null,
   "metadata": {},
   "outputs": [
    {
     "ename": "RecursionError",
     "evalue": "maximum recursion depth exceeded while calling a Python object",
     "output_type": "error",
     "traceback": [
      "\u001b[0;31m---------------------------------------------------------------------------\u001b[0m",
      "\u001b[0;31mRecursionError\u001b[0m                            Traceback (most recent call last)",
      "\u001b[0;32m<ipython-input-92-8588bfce76dd>\u001b[0m in \u001b[0;36m<module>\u001b[0;34m\u001b[0m\n\u001b[1;32m      1\u001b[0m \u001b[0mbox_y\u001b[0m \u001b[0;34m=\u001b[0m \u001b[0mArrayBox\u001b[0m\u001b[0;34m(\u001b[0m\u001b[0my\u001b[0m\u001b[0;34m.\u001b[0m\u001b[0m_value\u001b[0m\u001b[0;34m,\u001b[0m \u001b[0my\u001b[0m\u001b[0;34m)\u001b[0m\u001b[0;34m\u001b[0m\u001b[0;34m\u001b[0m\u001b[0m\n\u001b[1;32m      2\u001b[0m \u001b[0mbox_z\u001b[0m \u001b[0;34m=\u001b[0m \u001b[0mArrayBox\u001b[0m\u001b[0;34m(\u001b[0m\u001b[0mz\u001b[0m\u001b[0;34m.\u001b[0m\u001b[0m_value\u001b[0m\u001b[0;34m,\u001b[0m \u001b[0mz\u001b[0m\u001b[0;34m)\u001b[0m\u001b[0;34m\u001b[0m\u001b[0;34m\u001b[0m\u001b[0m\n\u001b[0;32m----> 3\u001b[0;31m \u001b[0mbox_y\u001b[0m \u001b[0;34m+\u001b[0m \u001b[0;36m1\u001b[0m\u001b[0;34m\u001b[0m\u001b[0;34m\u001b[0m\u001b[0m\n\u001b[0m",
      "\u001b[0;32m<ipython-input-90-470f5cb5716f>\u001b[0m in \u001b[0;36m__add__\u001b[0;34m(self, other)\u001b[0m\n\u001b[1;32m      1\u001b[0m \u001b[0;32mclass\u001b[0m \u001b[0mArrayBox\u001b[0m\u001b[0;34m(\u001b[0m\u001b[0mBox\u001b[0m\u001b[0;34m)\u001b[0m\u001b[0;34m:\u001b[0m\u001b[0;34m\u001b[0m\u001b[0;34m\u001b[0m\u001b[0m\n\u001b[1;32m      2\u001b[0m     \u001b[0;32mdef\u001b[0m \u001b[0m__bool__\u001b[0m\u001b[0;34m(\u001b[0m\u001b[0mself\u001b[0m\u001b[0;34m)\u001b[0m\u001b[0;34m:\u001b[0m  \u001b[0;32mreturn\u001b[0m \u001b[0mbool\u001b[0m\u001b[0;34m(\u001b[0m\u001b[0mself\u001b[0m\u001b[0;34m.\u001b[0m\u001b[0m_value\u001b[0m\u001b[0;34m)\u001b[0m\u001b[0;34m\u001b[0m\u001b[0;34m\u001b[0m\u001b[0m\n\u001b[0;32m----> 3\u001b[0;31m     \u001b[0;32mdef\u001b[0m \u001b[0m__add__\u001b[0m\u001b[0;34m(\u001b[0m\u001b[0mself\u001b[0m\u001b[0;34m,\u001b[0m \u001b[0mother\u001b[0m\u001b[0;34m)\u001b[0m\u001b[0;34m:\u001b[0m \u001b[0;32mreturn\u001b[0m \u001b[0monp\u001b[0m\u001b[0;34m.\u001b[0m\u001b[0madd\u001b[0m\u001b[0;34m(\u001b[0m\u001b[0mself\u001b[0m\u001b[0;34m,\u001b[0m \u001b[0mother\u001b[0m\u001b[0;34m)\u001b[0m\u001b[0;34m\u001b[0m\u001b[0;34m\u001b[0m\u001b[0m\n\u001b[0m\u001b[1;32m      4\u001b[0m     \u001b[0;32mdef\u001b[0m \u001b[0m__sub__\u001b[0m\u001b[0;34m(\u001b[0m\u001b[0mself\u001b[0m\u001b[0;34m,\u001b[0m \u001b[0mother\u001b[0m\u001b[0;34m)\u001b[0m\u001b[0;34m:\u001b[0m \u001b[0;32mreturn\u001b[0m \u001b[0monp\u001b[0m\u001b[0;34m.\u001b[0m\u001b[0msubtract\u001b[0m\u001b[0;34m(\u001b[0m\u001b[0mself\u001b[0m\u001b[0;34m,\u001b[0m \u001b[0mother\u001b[0m\u001b[0;34m)\u001b[0m\u001b[0;34m\u001b[0m\u001b[0;34m\u001b[0m\u001b[0m\n\u001b[1;32m      5\u001b[0m     \u001b[0;32mdef\u001b[0m \u001b[0m__mul__\u001b[0m\u001b[0;34m(\u001b[0m\u001b[0mself\u001b[0m\u001b[0;34m,\u001b[0m\u001b[0mother\u001b[0m\u001b[0;34m)\u001b[0m\u001b[0;34m:\u001b[0m \u001b[0;32mreturn\u001b[0m \u001b[0monp\u001b[0m\u001b[0;34m.\u001b[0m\u001b[0mmultiply\u001b[0m\u001b[0;34m(\u001b[0m\u001b[0mself\u001b[0m\u001b[0;34m,\u001b[0m \u001b[0mother\u001b[0m\u001b[0;34m)\u001b[0m\u001b[0;34m\u001b[0m\u001b[0;34m\u001b[0m\u001b[0m\n",
      "... last 1 frames repeated, from the frame below ...\n",
      "\u001b[0;32m<ipython-input-90-470f5cb5716f>\u001b[0m in \u001b[0;36m__add__\u001b[0;34m(self, other)\u001b[0m\n\u001b[1;32m      1\u001b[0m \u001b[0;32mclass\u001b[0m \u001b[0mArrayBox\u001b[0m\u001b[0;34m(\u001b[0m\u001b[0mBox\u001b[0m\u001b[0;34m)\u001b[0m\u001b[0;34m:\u001b[0m\u001b[0;34m\u001b[0m\u001b[0;34m\u001b[0m\u001b[0m\n\u001b[1;32m      2\u001b[0m     \u001b[0;32mdef\u001b[0m \u001b[0m__bool__\u001b[0m\u001b[0;34m(\u001b[0m\u001b[0mself\u001b[0m\u001b[0;34m)\u001b[0m\u001b[0;34m:\u001b[0m  \u001b[0;32mreturn\u001b[0m \u001b[0mbool\u001b[0m\u001b[0;34m(\u001b[0m\u001b[0mself\u001b[0m\u001b[0;34m.\u001b[0m\u001b[0m_value\u001b[0m\u001b[0;34m)\u001b[0m\u001b[0;34m\u001b[0m\u001b[0;34m\u001b[0m\u001b[0m\n\u001b[0;32m----> 3\u001b[0;31m     \u001b[0;32mdef\u001b[0m \u001b[0m__add__\u001b[0m\u001b[0;34m(\u001b[0m\u001b[0mself\u001b[0m\u001b[0;34m,\u001b[0m \u001b[0mother\u001b[0m\u001b[0;34m)\u001b[0m\u001b[0;34m:\u001b[0m \u001b[0;32mreturn\u001b[0m \u001b[0monp\u001b[0m\u001b[0;34m.\u001b[0m\u001b[0madd\u001b[0m\u001b[0;34m(\u001b[0m\u001b[0mself\u001b[0m\u001b[0;34m,\u001b[0m \u001b[0mother\u001b[0m\u001b[0;34m)\u001b[0m\u001b[0;34m\u001b[0m\u001b[0;34m\u001b[0m\u001b[0m\n\u001b[0m\u001b[1;32m      4\u001b[0m     \u001b[0;32mdef\u001b[0m \u001b[0m__sub__\u001b[0m\u001b[0;34m(\u001b[0m\u001b[0mself\u001b[0m\u001b[0;34m,\u001b[0m \u001b[0mother\u001b[0m\u001b[0;34m)\u001b[0m\u001b[0;34m:\u001b[0m \u001b[0;32mreturn\u001b[0m \u001b[0monp\u001b[0m\u001b[0;34m.\u001b[0m\u001b[0msubtract\u001b[0m\u001b[0;34m(\u001b[0m\u001b[0mself\u001b[0m\u001b[0;34m,\u001b[0m \u001b[0mother\u001b[0m\u001b[0;34m)\u001b[0m\u001b[0;34m\u001b[0m\u001b[0;34m\u001b[0m\u001b[0m\n\u001b[1;32m      5\u001b[0m     \u001b[0;32mdef\u001b[0m \u001b[0m__mul__\u001b[0m\u001b[0;34m(\u001b[0m\u001b[0mself\u001b[0m\u001b[0;34m,\u001b[0m\u001b[0mother\u001b[0m\u001b[0;34m)\u001b[0m\u001b[0;34m:\u001b[0m \u001b[0;32mreturn\u001b[0m \u001b[0monp\u001b[0m\u001b[0;34m.\u001b[0m\u001b[0mmultiply\u001b[0m\u001b[0;34m(\u001b[0m\u001b[0mself\u001b[0m\u001b[0;34m,\u001b[0m \u001b[0mother\u001b[0m\u001b[0;34m)\u001b[0m\u001b[0;34m\u001b[0m\u001b[0;34m\u001b[0m\u001b[0m\n",
      "\u001b[0;31mRecursionError\u001b[0m: maximum recursion depth exceeded while calling a Python object"
     ]
    }
   ],
   "source": [
    "box_y = ArrayBox(y._value, y)\n",
    "box_z = ArrayBox(z._value, z)\n",
    "box_y + 1"
   ]
  },
  {
   "cell_type": "code",
   "execution_count": null,
   "metadata": {},
   "outputs": [],
   "source": [
    "class Base: \n",
    "\n",
    "    def __init__(self,value): self._value = value   \n",
    "        \n",
    "    def __bool__(self):\n",
    "        return bool(self._value)\n",
    "    __nonzero__ = __bool__"
   ]
  },
  {
   "cell_type": "code",
   "execution_count": null,
   "metadata": {},
   "outputs": [],
   "source": [
    "class Test(Base): \n",
    "    \n",
    "    def __add__(self,other): return onp.add(self,other)"
   ]
  },
  {
   "cell_type": "code",
   "execution_count": null,
   "metadata": {},
   "outputs": [],
   "source": [
    "t1,t2 = Test(1), Test(2)"
   ]
  },
  {
   "cell_type": "code",
   "execution_count": null,
   "metadata": {},
   "outputs": [
    {
     "ename": "RecursionError",
     "evalue": "maximum recursion depth exceeded while calling a Python object",
     "output_type": "error",
     "traceback": [
      "\u001b[0;31m---------------------------------------------------------------------------\u001b[0m",
      "\u001b[0;31mRecursionError\u001b[0m                            Traceback (most recent call last)",
      "\u001b[0;32m<ipython-input-89-9ac58c83af08>\u001b[0m in \u001b[0;36m<module>\u001b[0;34m\u001b[0m\n\u001b[0;32m----> 1\u001b[0;31m \u001b[0mt1\u001b[0m \u001b[0;34m+\u001b[0m \u001b[0mt2\u001b[0m\u001b[0;34m\u001b[0m\u001b[0;34m\u001b[0m\u001b[0m\n\u001b[0m",
      "\u001b[0;32m<ipython-input-87-077a11ea7e6b>\u001b[0m in \u001b[0;36m__add__\u001b[0;34m(self, other)\u001b[0m\n\u001b[1;32m      1\u001b[0m \u001b[0;32mclass\u001b[0m \u001b[0mTest\u001b[0m\u001b[0;34m(\u001b[0m\u001b[0mBase\u001b[0m\u001b[0;34m)\u001b[0m\u001b[0;34m:\u001b[0m\u001b[0;34m\u001b[0m\u001b[0;34m\u001b[0m\u001b[0m\n\u001b[1;32m      2\u001b[0m     \u001b[0m__array_priority__\u001b[0m \u001b[0;34m=\u001b[0m \u001b[0;36m100.0\u001b[0m\u001b[0;34m\u001b[0m\u001b[0;34m\u001b[0m\u001b[0m\n\u001b[0;32m----> 3\u001b[0;31m     \u001b[0;32mdef\u001b[0m \u001b[0m__add__\u001b[0m\u001b[0;34m(\u001b[0m\u001b[0mself\u001b[0m\u001b[0;34m,\u001b[0m\u001b[0mother\u001b[0m\u001b[0;34m)\u001b[0m\u001b[0;34m:\u001b[0m \u001b[0;32mreturn\u001b[0m \u001b[0monp\u001b[0m\u001b[0;34m.\u001b[0m\u001b[0madd\u001b[0m\u001b[0;34m(\u001b[0m\u001b[0mself\u001b[0m\u001b[0;34m,\u001b[0m\u001b[0mother\u001b[0m\u001b[0;34m)\u001b[0m\u001b[0;34m\u001b[0m\u001b[0;34m\u001b[0m\u001b[0m\n\u001b[0m",
      "... last 1 frames repeated, from the frame below ...\n",
      "\u001b[0;32m<ipython-input-87-077a11ea7e6b>\u001b[0m in \u001b[0;36m__add__\u001b[0;34m(self, other)\u001b[0m\n\u001b[1;32m      1\u001b[0m \u001b[0;32mclass\u001b[0m \u001b[0mTest\u001b[0m\u001b[0;34m(\u001b[0m\u001b[0mBase\u001b[0m\u001b[0;34m)\u001b[0m\u001b[0;34m:\u001b[0m\u001b[0;34m\u001b[0m\u001b[0;34m\u001b[0m\u001b[0m\n\u001b[1;32m      2\u001b[0m     \u001b[0m__array_priority__\u001b[0m \u001b[0;34m=\u001b[0m \u001b[0;36m100.0\u001b[0m\u001b[0;34m\u001b[0m\u001b[0;34m\u001b[0m\u001b[0m\n\u001b[0;32m----> 3\u001b[0;31m     \u001b[0;32mdef\u001b[0m \u001b[0m__add__\u001b[0m\u001b[0;34m(\u001b[0m\u001b[0mself\u001b[0m\u001b[0;34m,\u001b[0m\u001b[0mother\u001b[0m\u001b[0;34m)\u001b[0m\u001b[0;34m:\u001b[0m \u001b[0;32mreturn\u001b[0m \u001b[0monp\u001b[0m\u001b[0;34m.\u001b[0m\u001b[0madd\u001b[0m\u001b[0;34m(\u001b[0m\u001b[0mself\u001b[0m\u001b[0;34m,\u001b[0m\u001b[0mother\u001b[0m\u001b[0;34m)\u001b[0m\u001b[0;34m\u001b[0m\u001b[0;34m\u001b[0m\u001b[0m\n\u001b[0m",
      "\u001b[0;31mRecursionError\u001b[0m: maximum recursion depth exceeded while calling a Python object"
     ]
    }
   ],
   "source": [
    "t1 + t2"
   ]
  },
  {
   "cell_type": "code",
   "execution_count": null,
   "metadata": {},
   "outputs": [],
   "source": [
    "import numpy as anp\n",
    "class ArrayBox(Box):\n",
    "    \"\"\"Box for np.ndarray.\n",
    "    Anything you can do with an np.ndarray, you can do with an ArrayBox.\n",
    "    \"\"\"\n",
    "    #@primitive\n",
    "   # def __getitem__(A, idx): return A[idx]\n",
    "\n",
    "    # Constants w.r.t float data just pass though\n",
    "    shape = property(lambda self: self._value.shape)\n",
    "    ndim  = property(lambda self: self._value.ndim)\n",
    "    size  = property(lambda self: self._value.size)\n",
    "    dtype = property(lambda self: self._value.dtype)\n",
    "    T = property(lambda self: anp.transpose(self))\n",
    "    def __len__(self): return len(self._value)\n",
    "    def astype(self, *args, **kwargs): return anp._astype(self, *args, **kwargs)\n",
    "\n",
    "    def __neg__(self): return anp.negative(self)\n",
    "    def __add__(self, other): return anp.add(     self, other)\n",
    "    def __sub__(self, other): return anp.subtract(self, other)\n",
    "    def __mul__(self, other): return anp.multiply(self, other)\n",
    "    def __pow__(self, other): return anp.power   (self, other)\n",
    "    def __div__(self, other): return anp.divide(  self, other)\n",
    "    def __mod__(self, other): return anp.mod(     self, other)\n",
    "    def __truediv__(self, other): return anp.true_divide(self, other)\n",
    "    def __matmul__(self, other): return anp.matmul(self, other)\n",
    "    def __radd__(self, other): return anp.add(     other, self)\n",
    "    def __rsub__(self, other): return anp.subtract(other, self)\n",
    "    def __rmul__(self, other): return anp.multiply(other, self)\n",
    "    def __rpow__(self, other): return anp.power(   other, self)\n",
    "    def __rdiv__(self, other): return anp.divide(  other, self)\n",
    "    def __rmod__(self, other): return anp.mod(     other, self)\n",
    "    def __rtruediv__(self, other): return anp.true_divide(other, self)\n",
    "    def __rmatmul__(self, other): return anp.matmul(other, self)\n",
    "    def __eq__(self, other): return anp.equal(self, other)\n",
    "    def __ne__(self, other): return anp.not_equal(self, other)\n",
    "    def __gt__(self, other): return anp.greater(self, other)\n",
    "    def __ge__(self, other): return anp.greater_equal(self, other)\n",
    "    def __lt__(self, other): return anp.less(self, other)\n",
    "    def __le__(self, other): return anp.less_equal(self, other)\n",
    "    def __abs__(self): return anp.abs(self)\n",
    "    def __hash__(self): return id(self)"
   ]
  },
  {
   "cell_type": "code",
   "execution_count": null,
   "metadata": {},
   "outputs": [
    {
     "ename": "NameError",
     "evalue": "name 'np' is not defined",
     "output_type": "error",
     "traceback": [
      "\u001b[0;31m---------------------------------------------------------------------------\u001b[0m",
      "\u001b[0;31mNameError\u001b[0m                                 Traceback (most recent call last)",
      "\u001b[0;32m<ipython-input-46-f20c957bd6d6>\u001b[0m in \u001b[0;36m<module>\u001b[0;34m\u001b[0m\n\u001b[1;32m     43\u001b[0m \u001b[0;34m\u001b[0m\u001b[0m\n\u001b[1;32m     44\u001b[0m \u001b[0;31m# Register ArrayBox as the type to use when boxing np.ndarray and scalar values.\u001b[0m\u001b[0;34m\u001b[0m\u001b[0;34m\u001b[0m\u001b[0;34m\u001b[0m\u001b[0m\n\u001b[0;32m---> 45\u001b[0;31m \u001b[0mArrayBox\u001b[0m\u001b[0;34m.\u001b[0m\u001b[0mregister\u001b[0m\u001b[0;34m(\u001b[0m\u001b[0mnp\u001b[0m\u001b[0;34m.\u001b[0m\u001b[0mndarray\u001b[0m\u001b[0;34m)\u001b[0m\u001b[0;34m\u001b[0m\u001b[0;34m\u001b[0m\u001b[0m\n\u001b[0m\u001b[1;32m     46\u001b[0m for type_ in [float, np.float64, np.float32, np.float16,\n\u001b[1;32m     47\u001b[0m               complex, np.complex64, np.complex128]:\n",
      "\u001b[0;31mNameError\u001b[0m: name 'np' is not defined"
     ]
    }
   ],
   "source": [
    "# Register ArrayBox as the type to use when boxing np.ndarray and scalar values.\n",
    "ArrayBox.register(np.ndarray)\n",
    "for type_ in [float, np.float64, np.float32, np.float16,\n",
    "              complex, np.complex64, np.complex128]:\n",
    "    ArrayBox.register(type_)"
   ]
  },
  {
   "cell_type": "code",
   "execution_count": null,
   "metadata": {},
   "outputs": [],
   "source": [
    "b1._node"
   ]
  },
  {
   "cell_type": "markdown",
   "metadata": {},
   "source": [
    "#### Primitives "
   ]
  },
  {
   "cell_type": "code",
   "execution_count": null,
   "metadata": {},
   "outputs": [],
   "source": [
    "def primitive(f_raw):\n",
    "    \"\"\"Wraps a function so that its gradient (vjp) can be specified and its\n",
    "    invocation can be recorded.\"\"\"\n",
    "    @wraps(f_raw)\n",
    "    def f_wrapped(*args, **kwargs):\n",
    "        # Fetch boxed arguments with largest trace_id.  This ensures that the\n",
    "        # computational graph being constructed only consists of other nodes\n",
    "        # from the same call to trace().\n",
    "        boxed_args, trace_id = find_top_boxed_args(args)\n",
    "        if boxed_args:\n",
    "            # Replace some elements of args with corresponding unboxed values.\n",
    "            argvals = subvals(args, [(argnum, box._value) for argnum, box in boxed_args])\n",
    "            # Get nodes for each boxed argument.\n",
    "            parents = tuple(box._node for _, box in boxed_args)\n",
    "\n",
    "            # Get argument indices for each boxed argument.\n",
    "            argnums = tuple(argnum for argnum, _ in boxed_args)\n",
    "\n",
    "            # Calculate result of applying original numpy function.\n",
    "            #\n",
    "            # Note that we use a recursive call here in order to also augment\n",
    "            # outer calls to trace() with lower trace_ids. See TraceStack's\n",
    "            # docstring for details.\n",
    "            ans = f_wrapped(*argvals, **kwargs)\n",
    "\n",
    "            # Create a new node\n",
    "            node = Node(ans, f_wrapped, argvals, kwargs, argnums, parents)\n",
    "            return new_box(ans, trace_id, node)\n",
    "        else:\n",
    "            return f_raw(*args, **kwargs)\n",
    "    return f_wrapped"
   ]
  },
  {
   "cell_type": "code",
   "execution_count": null,
   "metadata": {},
   "outputs": [],
   "source": []
  },
  {
   "cell_type": "markdown",
   "metadata": {},
   "source": [
    "### Wrapping Nodes in Boxes "
   ]
  },
  {
   "cell_type": "code",
   "execution_count": null,
   "metadata": {},
   "outputs": [],
   "source": []
  },
  {
   "cell_type": "code",
   "execution_count": null,
   "metadata": {},
   "outputs": [],
   "source": []
  },
  {
   "cell_type": "markdown",
   "metadata": {},
   "source": [
    "Boxes are used to indicate the variable you are differentiating with respect to "
   ]
  },
  {
   "cell_type": "code",
   "execution_count": null,
   "metadata": {},
   "outputs": [],
   "source": []
  },
  {
   "cell_type": "code",
   "execution_count": null,
   "metadata": {},
   "outputs": [],
   "source": []
  },
  {
   "cell_type": "code",
   "execution_count": null,
   "metadata": {},
   "outputs": [],
   "source": []
  },
  {
   "cell_type": "markdown",
   "metadata": {},
   "source": [
    "### Making VJPs"
   ]
  },
  {
   "cell_type": "code",
   "execution_count": null,
   "metadata": {},
   "outputs": [],
   "source": []
  },
  {
   "cell_type": "markdown",
   "metadata": {},
   "source": [
    "### Backwards pass"
   ]
  },
  {
   "cell_type": "code",
   "execution_count": null,
   "metadata": {},
   "outputs": [],
   "source": []
  },
  {
   "cell_type": "code",
   "execution_count": null,
   "metadata": {},
   "outputs": [],
   "source": []
  },
  {
   "cell_type": "code",
   "execution_count": null,
   "metadata": {},
   "outputs": [],
   "source": []
  },
  {
   "cell_type": "code",
   "execution_count": null,
   "metadata": {},
   "outputs": [],
   "source": []
  },
  {
   "cell_type": "code",
   "execution_count": null,
   "metadata": {},
   "outputs": [],
   "source": []
  },
  {
   "cell_type": "code",
   "execution_count": null,
   "metadata": {},
   "outputs": [],
   "source": []
  },
  {
   "cell_type": "code",
   "execution_count": null,
   "metadata": {},
   "outputs": [],
   "source": []
  },
  {
   "cell_type": "code",
   "execution_count": null,
   "metadata": {},
   "outputs": [],
   "source": []
  },
  {
   "cell_type": "code",
   "execution_count": null,
   "metadata": {},
   "outputs": [],
   "source": []
  },
  {
   "cell_type": "code",
   "execution_count": null,
   "metadata": {},
   "outputs": [],
   "source": []
  },
  {
   "cell_type": "code",
   "execution_count": null,
   "metadata": {},
   "outputs": [],
   "source": []
  },
  {
   "cell_type": "code",
   "execution_count": null,
   "metadata": {},
   "outputs": [],
   "source": []
  },
  {
   "cell_type": "code",
   "execution_count": null,
   "metadata": {},
   "outputs": [],
   "source": []
  },
  {
   "cell_type": "markdown",
   "metadata": {},
   "source": [
    "### Resources"
   ]
  },
  {
   "cell_type": "markdown",
   "metadata": {},
   "source": [
    "I used the following resources to put this document together. "
   ]
  },
  {
   "cell_type": "markdown",
   "metadata": {},
   "source": [
    "Lecture slides by Roger Grosse: https://www.cs.toronto.edu/~rgrosse/courses/csc321_2018/slides/lec10.pdf"
   ]
  },
  {
   "cell_type": "code",
   "execution_count": null,
   "metadata": {},
   "outputs": [],
   "source": []
  },
  {
   "cell_type": "code",
   "execution_count": null,
   "metadata": {},
   "outputs": [],
   "source": [
    "#hide\n",
    "from nbdev.export import notebook2script\n",
    "notebook2script()"
   ]
  }
 ],
 "metadata": {
  "kernelspec": {
   "display_name": "Python 3",
   "language": "python",
   "name": "python3"
  }
 },
 "nbformat": 4,
 "nbformat_minor": 2
}
