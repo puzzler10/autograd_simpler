{
 "cells": [
  {
   "cell_type": "code",
   "execution_count": null,
   "metadata": {},
   "outputs": [],
   "source": [
    "#hide \n",
    "from IPython.core.debugger import set_trace"
   ]
  },
  {
   "cell_type": "markdown",
   "metadata": {},
   "source": [
    "### Decorators without arguments"
   ]
  },
  {
   "cell_type": "markdown",
   "metadata": {},
   "source": [
    "Higher order functions, or functions that return functions, can be used as decorators in Python.Decorators behave differently depending on if they have arguments or not. First let's look at how decorators without arguments work. "
   ]
  },
  {
   "cell_type": "markdown",
   "metadata": {},
   "source": [
    "In other words: "
   ]
  },
  {
   "cell_type": "markdown",
   "metadata": {},
   "source": [
    "```\n",
    "@some_decorator\n",
    "def add(x,y): return x + y \n",
    "```\n",
    "is the same thing as \n",
    "```\n",
    "def add(x,y): return x + y\n",
    "add = some_decorator(add)\n",
    "```"
   ]
  },
  {
   "cell_type": "markdown",
   "metadata": {},
   "source": [
    "You call the function `some_decorator` on `add` and you assign the answer back to `add`.  "
   ]
  },
  {
   "cell_type": "markdown",
   "metadata": {},
   "source": [
    "The structure of decorators looks like this "
   ]
  },
  {
   "cell_type": "code",
   "execution_count": null,
   "metadata": {},
   "outputs": [],
   "source": [
    "def some_decorator(f): \n",
    "    def inner(*args, **kwargs): \n",
    "        return f(*args, **kwargs)\n",
    "    return inner"
   ]
  },
  {
   "cell_type": "markdown",
   "metadata": {},
   "source": [
    "where `some_decorator` is the decorator, `f` is the function that is decorated (i.e. `add` from above), `*args` and `**kwargs` are arguments to `f`, and `inner` is the return value from `some_decorator(add)` that gets assigned back to `add`. "
   ]
  },
  {
   "cell_type": "markdown",
   "metadata": {},
   "source": [
    "The outside layer executes once when you decorate the function. The inner layer executes every time you call the function. So if you decorate `add` with `some_decorator`, every time you call `add` the `inner` function will run. "
   ]
  },
  {
   "cell_type": "markdown",
   "metadata": {},
   "source": [
    "![](./assets/double_layer_function.jpeg)"
   ]
  },
  {
   "cell_type": "markdown",
   "metadata": {},
   "source": [
    "Below we have a function `changedoc`, and examples of how it can be used both as a decorator and by itself. "
   ]
  },
  {
   "cell_type": "code",
   "execution_count": null,
   "metadata": {},
   "outputs": [
    {
     "data": {
      "text/plain": [
       "'a new doc'"
      ]
     },
     "execution_count": null,
     "metadata": {},
     "output_type": "execute_result"
    }
   ],
   "source": [
    "# changedoc is a function that changes documentation string of another function. \n",
    "def changedoc(f1): \n",
    "    f1.__doc__ = \"a new doc\"\n",
    "    return f1\n",
    "\n",
    "# Testing changedoc on some functions. \n",
    "# This one we use without a decorator. \n",
    "def somefun(x): return x+1\n",
    "somefun = changedoc(somefun)\n",
    "somefun.__doc__  # returns \"a new doc\"\n",
    "\n",
    "@changedoc\n",
    "def anotherfun(x): return x+2\n",
    "anotherfun.__doc__  # returns \"a new doc\""
   ]
  },
  {
   "cell_type": "markdown",
   "metadata": {},
   "source": [
    "#### Add a predefined string to the end of a function "
   ]
  },
  {
   "cell_type": "markdown",
   "metadata": {},
   "source": [
    "Here is another example. This decorator adds the word \"hello\" to the end of a function. The `*args` and `**kwargs` bit inside `inner` is useful because it holds any arguments you pass to `f`. \n",
    "\n",
    "A quick note. Printing `locals()` in a function call is useful for trying to debug decorators. You can see exactly what variables are present. "
   ]
  },
  {
   "cell_type": "code",
   "execution_count": null,
   "metadata": {},
   "outputs": [
    {
     "name": "stdout",
     "output_type": "stream",
     "text": [
      "Variables present:  {'args': (), 'kwargs': {}, 'f': <function print_alphabet at 0x10c1c81e0>}\n",
      "abcdefghijklmnopqrstuvwxyz_hello\n",
      "Variables present:  {'args': (), 'kwargs': {}, 'f': <function print_alphabet at 0x10c285488>}\n",
      "abcdefghijklmnopqrstuvwxyz_hello\n",
      "Variables present:  {'args': ('deception ',), 'kwargs': {'n': 6}, 'f': <function repeat_x at 0x10c285f28>}\n",
      "deception deception deception deception deception deception _hello\n",
      "Variables present:  {'args': ('deception ',), 'kwargs': {'n': 6}, 'f': <function repeat_x at 0x10c2a3378>}\n",
      "deception deception deception deception deception deception _hello\n"
     ]
    }
   ],
   "source": [
    "def add_hello(f): \n",
    "    def inner(*args, **kwargs): \n",
    "        print(\"Variables present: \" , locals())\n",
    "        return f(*args, **kwargs) + \"_hello\" \n",
    "    return inner\n",
    "\n",
    "# Without decorator \n",
    "def print_alphabet(): return \"abcdefghijklmnopqrstuvwxyz\"\n",
    "f_temp = add_hello(print_alphabet)\n",
    "print(f_temp())\n",
    "\n",
    "# With decorator\n",
    "@add_hello\n",
    "def print_alphabet(): return \"abcdefghijklmnopqrstuvwxyz\"\n",
    "print(print_alphabet())\n",
    "\n",
    "# Without decorator, and using args, kwargs\n",
    "def repeat_x(x, n=4):    return x*n\n",
    "f_temp = add_hello(repeat_x)\n",
    "print(f_temp(\"deception \", n=6))\n",
    "\n",
    "# With decorator, and using args, kwargs \n",
    "@add_hello\n",
    "def repeat_x(x, n=4):    return x*n\n",
    "print(repeat_x(\"deception \", n=6))"
   ]
  },
  {
   "cell_type": "markdown",
   "metadata": {},
   "source": [
    "You can see how the decorator syntax is a bit cleaner than explicitly calling the function. But sometimes it isn't intuitive what a decorator is doing, so be careful. "
   ]
  },
  {
   "cell_type": "markdown",
   "metadata": {},
   "source": [
    "#### Time a function "
   ]
  },
  {
   "cell_type": "markdown",
   "metadata": {},
   "source": [
    "Here is a decorator used for timing functions. The function `add_stuff` goes into the `f` argument for `time_it`. The arguments `x` and `y` in `add_stuff` are caught by `*args` in `wrapper` and are accessed in a tuple in the `args` variable. "
   ]
  },
  {
   "cell_type": "code",
   "execution_count": null,
   "metadata": {},
   "outputs": [
    {
     "name": "stdout",
     "output_type": "stream",
     "text": [
      "add_stuff takes 1.9073486328125e-06 seconds.\n"
     ]
    },
    {
     "data": {
      "text/plain": [
       "3"
      ]
     },
     "execution_count": null,
     "metadata": {},
     "output_type": "execute_result"
    }
   ],
   "source": [
    "import time \n",
    "def time_it(f): \n",
    "    def inner(*args): \n",
    "        t = time.time()\n",
    "        result = f(*args)\n",
    "        print (f.__name__ + \" takes \" +  str(time.time() - t) + \" seconds.\")\n",
    "        return result \n",
    "    return inner\n",
    "\n",
    "@time_it\n",
    "def add_stuff(x,y): return x+y\n",
    "add_stuff(1,2)"
   ]
  },
  {
   "cell_type": "markdown",
   "metadata": {},
   "source": [
    "#### Log the internal state of a function "
   ]
  },
  {
   "cell_type": "markdown",
   "metadata": {},
   "source": [
    "Here is one for logging. Pretend the `print` statements actually writes to a file, and you get the idea. "
   ]
  },
  {
   "cell_type": "code",
   "execution_count": null,
   "metadata": {},
   "outputs": [
    {
     "name": "stdout",
     "output_type": "stream",
     "text": [
      "write 1 4 3 to file\n"
     ]
    },
    {
     "data": {
      "text/plain": [
       "8"
      ]
     },
     "execution_count": null,
     "metadata": {},
     "output_type": "execute_result"
    }
   ],
   "source": [
    "def add_logs(f): \n",
    "    def inner(*args, **kwargs): \n",
    "        # insert real logging code here \n",
    "        print('write', *args, \"to file\")\n",
    "        return f(*args, **kwargs)\n",
    "    return inner    \n",
    "\n",
    "@add_logs\n",
    "def add_things(x,y,z): return x+y+z\n",
    "add_things(1,4,3)"
   ]
  },
  {
   "cell_type": "markdown",
   "metadata": {},
   "source": [
    "#### Set a time limit on how often a function can be called "
   ]
  },
  {
   "cell_type": "markdown",
   "metadata": {},
   "source": [
    "Say we wanted a function to be called no more than once every minute. We can do this with decorators too. "
   ]
  },
  {
   "cell_type": "code",
   "execution_count": null,
   "metadata": {},
   "outputs": [],
   "source": [
    "def once_per_min(f): \n",
    "    calltime = 0 \n",
    "    def inner(*args, **kwargs): \n",
    "        nonlocal calltime\n",
    "        gap = time.time() - calltime\n",
    "        if gap < 60: \n",
    "            msg = \"You're calling this function too often. Try again in \" + \\\n",
    "                          str(60 - gap) + \" seconds.\"\n",
    "            raise Exception(msg)\n",
    "        calltime = time.time()\n",
    "        return f(*args, **kwargs)\n",
    "    return inner"
   ]
  },
  {
   "cell_type": "code",
   "execution_count": null,
   "metadata": {},
   "outputs": [],
   "source": [
    "@once_per_min\n",
    "def add_stuff(x,y,z): return x+y+z"
   ]
  },
  {
   "cell_type": "code",
   "execution_count": null,
   "metadata": {},
   "outputs": [
    {
     "data": {
      "text/plain": [
       "6"
      ]
     },
     "execution_count": null,
     "metadata": {},
     "output_type": "execute_result"
    }
   ],
   "source": [
    "add_stuff(1,2,3)"
   ]
  },
  {
   "cell_type": "code",
   "execution_count": null,
   "metadata": {},
   "outputs": [],
   "source": [
    "#add_stuff(1,2,3)"
   ]
  },
  {
   "cell_type": "markdown",
   "metadata": {},
   "source": [
    "#### Make a function print out useful debugging information "
   ]
  },
  {
   "cell_type": "code",
   "execution_count": null,
   "metadata": {},
   "outputs": [],
   "source": [
    "import inspect\n",
    "def debug_this(f): \n",
    "    def inner(*args, **kwargs): \n",
    "        print(\"Arguments of f:\", *args)\n",
    "        print(\"Keyword arguments of f:\", **kwargs)\n",
    "        print(\"Result of f:\", f(*args, **kwargs))\n",
    "        print(\"f.__dict__:\", f.__dict__)\n",
    "        print(\"Source of f: \\n####\\n\", inspect.getsource(f), \"####\")\n",
    "        return f(*args, **kwargs)\n",
    "    return inner"
   ]
  },
  {
   "cell_type": "code",
   "execution_count": null,
   "metadata": {},
   "outputs": [],
   "source": [
    "@debug_this\n",
    "def somefun(a,b,c): \n",
    "    \"\"\"This function is a bit complex but doesn't do anything interesting\"\"\"\n",
    "    d = a + b \n",
    "    e = b + c \n",
    "    f = 10\n",
    "    for x in (a,b,c,d,e): \n",
    "        f += x \n",
    "    return f "
   ]
  },
  {
   "cell_type": "code",
   "execution_count": null,
   "metadata": {},
   "outputs": [
    {
     "name": "stdout",
     "output_type": "stream",
     "text": [
      "Arguments of f: 1 2 4\n",
      "Keyword arguments of f:\n",
      "Result of f: 26\n",
      "f.__dict__: {}\n",
      "Source of f: \n",
      "####\n",
      " @debug_this\n",
      "def somefun(a,b,c): \n",
      "    \"\"\"This function is a bit complex but doesn't do anything interesting\"\"\"\n",
      "    d = a + b \n",
      "    e = b + c \n",
      "    f = 10\n",
      "    for x in (a,b,c,d,e): \n",
      "        f += x \n",
      "    return f \n",
      " ####\n"
     ]
    },
    {
     "data": {
      "text/plain": [
       "26"
      ]
     },
     "execution_count": null,
     "metadata": {},
     "output_type": "execute_result"
    }
   ],
   "source": [
    "somefun(1,2,4)"
   ]
  },
  {
   "cell_type": "code",
   "execution_count": null,
   "metadata": {},
   "outputs": [
    {
     "data": {
      "text/plain": [
       "<module '__main__'>"
      ]
     },
     "execution_count": null,
     "metadata": {},
     "output_type": "execute_result"
    }
   ],
   "source": [
    "inspect.getmodule(somefun)"
   ]
  },
  {
   "cell_type": "markdown",
   "metadata": {},
   "source": [
    "### Decorators with arguments "
   ]
  },
  {
   "cell_type": "markdown",
   "metadata": {},
   "source": [
    "Decorators can be used with arguments. But the structure of these decorators is different. They need three layers, not two."
   ]
  },
  {
   "cell_type": "code",
   "execution_count": null,
   "metadata": {},
   "outputs": [],
   "source": [
    "def some_decorator(n): \n",
    "    def middle(f): \n",
    "        def inner(*args, **kwargs): \n",
    "            return f(*args, **kwargs)\n",
    "        return inner  \n",
    "    return middle "
   ]
  },
  {
   "cell_type": "markdown",
   "metadata": {},
   "source": [
    "The outer layer is the name of the decorator, here `once_per_n`. The parameter to the decorator is also the parameter of the outer layer, which here I've called `n`. The outer layer executes once, when you provide an argument to the decorator. \n",
    "The middle layer has as parameter `f`, the decorated function. This middle layer executes once, when we decorate the function. \n",
    "The inner layer has as arguments `*args` and `**kwargs`, the arguments to the decorated function `f`. This inner layer is executed any time that the decorated function `f` is called. "
   ]
  },
  {
   "cell_type": "markdown",
   "metadata": {},
   "source": [
    "Thanks to Reuven Lerner for this diagram: "
   ]
  },
  {
   "cell_type": "markdown",
   "metadata": {},
   "source": [
    "![](./assets/triple_layer_function.jpeg)"
   ]
  },
  {
   "cell_type": "markdown",
   "metadata": {},
   "source": [
    "#### Stop a function running more than every n seconds "
   ]
  },
  {
   "cell_type": "markdown",
   "metadata": {},
   "source": [
    "Let's say we had a decorator `@once_per_n`. Say it works like the `@once_per_min` decorator above, except it stopped functions running every `n` seconds (instead of every minute) where `n` is some argument we give to the decorator. \n",
    "Then\n",
    "\n",
    "```\n",
    "@once_per_n(5)\n",
    "def add(x,y): return x+y\n",
    "```\n",
    "is the same as \n",
    "```\n",
    "add = once_per_n(5)(add)\n",
    "```"
   ]
  },
  {
   "cell_type": "markdown",
   "metadata": {},
   "source": [
    "The `once_per_n(5)`function also returns a function, that is then called on `add`. So what does the structure of `@once_per_n` look like? "
   ]
  },
  {
   "cell_type": "code",
   "execution_count": null,
   "metadata": {},
   "outputs": [],
   "source": [
    "def once_per_n(n): \n",
    "    def middle(f):\n",
    "        calltime = 0 \n",
    "        def inner(*args, **kwargs): \n",
    "            nonlocal calltime; \n",
    "            gap = time.time() - calltime \n",
    "            if gap < n: \n",
    "                msg = \"You're calling this function too often. Try again in \" + \\\n",
    "                          str(n - gap) + \" seconds.\"\n",
    "                raise Exception(msg)\n",
    "            calltime = time.time()\n",
    "            return f(*args, **kwargs)\n",
    "        return inner  \n",
    "    return middle "
   ]
  },
  {
   "cell_type": "code",
   "execution_count": null,
   "metadata": {},
   "outputs": [],
   "source": [
    "@once_per_n(5)\n",
    "def add(x,y): return x+y"
   ]
  },
  {
   "cell_type": "code",
   "execution_count": null,
   "metadata": {},
   "outputs": [
    {
     "data": {
      "text/plain": [
       "6"
      ]
     },
     "execution_count": null,
     "metadata": {},
     "output_type": "execute_result"
    }
   ],
   "source": [
    "add(5,1)"
   ]
  },
  {
   "cell_type": "code",
   "execution_count": null,
   "metadata": {},
   "outputs": [],
   "source": [
    "#add(65,15)"
   ]
  },
  {
   "cell_type": "markdown",
   "metadata": {},
   "source": [
    "Let's see some applications of this. "
   ]
  },
  {
   "cell_type": "markdown",
   "metadata": {},
   "source": [
    "#### Add any string to the output of a function "
   ]
  },
  {
   "cell_type": "markdown",
   "metadata": {},
   "source": [
    "Unlike before, we can pass any string we like as a parameter to the decorator, and add that string to the end of a function  "
   ]
  },
  {
   "cell_type": "code",
   "execution_count": null,
   "metadata": {},
   "outputs": [],
   "source": [
    "# A decorator to add a word to the output of a function \n",
    "def add_word(word): \n",
    "    def middle(f): \n",
    "        def inner(*args, **kwargs):\n",
    "            return f(*args, **kwargs) + word\n",
    "        return inner\n",
    "    return middle "
   ]
  },
  {
   "cell_type": "code",
   "execution_count": null,
   "metadata": {},
   "outputs": [
    {
     "name": "stdout",
     "output_type": "stream",
     "text": [
      "abcdefghijklmnopqrstuvwxyz_hello\n",
      "deception deception deception deception oh boy!!!\n"
     ]
    }
   ],
   "source": [
    "@add_word(\"_hello\")\n",
    "def alphabet(): return 'abcdefghijklmnopqrstuvwxyz'\n",
    "print(alphabet())\n",
    "\n",
    "@add_word(\"oh boy!!!\")\n",
    "def repeat_x(x, n=2): return x*n \n",
    "print(repeat_x(\"deception \", n=4))"
   ]
  },
  {
   "cell_type": "markdown",
   "metadata": {},
   "source": [
    "#### Make a numerical function return modulo n"
   ]
  },
  {
   "cell_type": "code",
   "execution_count": null,
   "metadata": {},
   "outputs": [
    {
     "name": "stdout",
     "output_type": "stream",
     "text": [
      "6 0 1\n"
     ]
    }
   ],
   "source": [
    "def mod_n(n): \n",
    "    def middle(f): \n",
    "        def inner(*args, **kwargs):\n",
    "            return f(*args, **kwargs) % n\n",
    "        return inner \n",
    "    return middle \n",
    "\n",
    "\n",
    "@mod_n(7)\n",
    "def add(x,y): return x + y\n",
    "print(add(5,1), add(5,2), add(5,3))"
   ]
  },
  {
   "cell_type": "markdown",
   "metadata": {},
   "source": [
    "#### Run tests when a function is defined"
   ]
  },
  {
   "cell_type": "markdown",
   "metadata": {},
   "source": [
    "This example runs some unit tests against a function the first time you define it. This is useful to see if you make a mistake or not. Also if you change something in definition of the function, the tests will run automatically. "
   ]
  },
  {
   "cell_type": "code",
   "execution_count": null,
   "metadata": {},
   "outputs": [
    {
     "name": "stdout",
     "output_type": "stream",
     "text": [
      "Test 1 2 4 passed.\n",
      "Test 1 2 7 passed.\n",
      "Test 10 0 0 passed.\n",
      "Test -10 10 10 passed.\n",
      "Test 4 0 7 passed.\n",
      "Test 1 3 4 passed.\n",
      "Test 1 3 5 passed.\n",
      "Test 0 0 0 passed.\n",
      "Test 0 0 1 passed.\n"
     ]
    }
   ],
   "source": [
    "def run_tests(tests): \n",
    "    def middle(f): \n",
    "        for params, result in tests: \n",
    "            if f(*params) == result: print(\"Test\", *params, \"passed.\")\n",
    "            else:                    print(\"Test\", *params, \"failed.\")\n",
    "        def inner(*args, **kwargs):\n",
    "            return f(*args, **kwargs)\n",
    "        return inner \n",
    "    return middle \n",
    "\n",
    "tests_eq_10 = [\n",
    "    [(1,2,4), False],\n",
    "    [(1,2,7), True],\n",
    "    [(10,0,0),True], \n",
    "    [(-10,10,10),True],\n",
    "    [(4,0,7), False]\n",
    "]\n",
    "@run_tests(tests_eq_10)\n",
    "def adds_to_ten(x,y,z): return True if x+y+z==10 else False \n",
    "\n",
    "tests_odd = [\n",
    "    [(1,3,4), False], \n",
    "    [(1,3,5), True], \n",
    "    [(0,0,0), False], \n",
    "    [(0,0,1), True]\n",
    "]\n",
    "@run_tests(tests_odd)\n",
    "def adds_to_odd(x,y,z): return (x+y+z)%2==1"
   ]
  },
  {
   "cell_type": "markdown",
   "metadata": {},
   "source": [
    "#### Inherit documentation from another function"
   ]
  },
  {
   "cell_type": "markdown",
   "metadata": {},
   "source": [
    "Making a function inherit documentation from another function is a useful task that can be done with decorators. In this example our decorator is `copy_docs`, the function with documentation we want to copy `f_with_docs`, and the decorated function `f`. \n",
    "\n",
    "Note that there is no `inner` function below, because we don't need to ever execute `f`. We are just copying across documentation and leaving it otherwise unchanged. "
   ]
  },
  {
   "cell_type": "code",
   "execution_count": null,
   "metadata": {},
   "outputs": [
    {
     "name": "stdout",
     "output_type": "stream",
     "text": [
      "add(x1, x2, /, out=None, *, where=True, casting='same_kind', order='K', dtype=None, subok=True[, signature, extobj])\n",
      "\n",
      "Add arguments element-wise.\n",
      "\n",
      "Parameters\n",
      "----------\n",
      "x1, x2 : array_like\n",
      "    The arrays to be added.  If ``x1.shape != x2.shape``, they must be\n",
      "    broadcastable to a common shape (whi\n"
     ]
    }
   ],
   "source": [
    "def copy_docs(f_with_docs):\n",
    "    def middle(f):\n",
    "        f.__doc__  = f_with_docs.__doc__\n",
    "        f.__name__ = f_with_docs.__name__\n",
    "        return f\n",
    "    return middle\n",
    "\n",
    "import numpy as np\n",
    "@copy_docs(np.add)\n",
    "def add(x,y): return x+y\n",
    "print(add.__doc__[0:300])  # same documentation as numpy add function "
   ]
  },
  {
   "cell_type": "code",
   "execution_count": null,
   "metadata": {},
   "outputs": [],
   "source": []
  },
  {
   "cell_type": "code",
   "execution_count": null,
   "metadata": {},
   "outputs": [],
   "source": []
  },
  {
   "cell_type": "markdown",
   "metadata": {},
   "source": [
    "### References / Further Reading"
   ]
  },
  {
   "cell_type": "markdown",
   "metadata": {},
   "source": [
    "* Reuven Lerner's talk: [Slides](https://speakerdeck.com/pycon2019/reuven-m-lerner-practical-decorators) and [Talk](https://www.youtube.com/watch?v=MjHpMCIvwsY&feature=youtu.be)\n",
    "* [Common uses of Python Decorators](https://stackoverflow.com/questions/489720/what-are-some-common-uses-for-python-decorators)\n",
    "* [Decorators with Parameters](https://stackoverflow.com/questions/5929107/decorators-with-parameters)"
   ]
  },
  {
   "cell_type": "code",
   "execution_count": null,
   "metadata": {},
   "outputs": [],
   "source": []
  },
  {
   "cell_type": "code",
   "execution_count": null,
   "metadata": {},
   "outputs": [],
   "source": []
  }
 ],
 "metadata": {
  "kernelspec": {
   "display_name": "Python 3",
   "language": "python",
   "name": "python3"
  }
 },
 "nbformat": 4,
 "nbformat_minor": 2
}
