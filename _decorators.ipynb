{
 "cells": [
  {
   "cell_type": "code",
   "execution_count": null,
   "metadata": {},
   "outputs": [],
   "source": [
    "#hide \n",
    "from IPython.core.debugger import set_trace"
   ]
  },
  {
   "cell_type": "markdown",
   "metadata": {},
   "source": [
    "### Decorators without arguments"
   ]
  },
  {
   "cell_type": "markdown",
   "metadata": {},
   "source": [
    "#### Introduction "
   ]
  },
  {
   "cell_type": "markdown",
   "metadata": {},
   "source": [
    "Higher order functions, or functions that return functions, can be used as decorators in Python. Decorators modify functions. They can also modify classes, but in this post I'll just give examples with functions. "
   ]
  },
  {
   "cell_type": "markdown",
   "metadata": {},
   "source": [
    "Decorators are just a way to simplify syntax. Here's an example of a decorator at work. "
   ]
  },
  {
   "cell_type": "markdown",
   "metadata": {},
   "source": [
    "```\n",
    "@some_decorator\n",
    "def add(x,y): return x + y \n",
    "```\n",
    "is the same thing as \n",
    "```\n",
    "def add(x,y): return x + y\n",
    "add = some_decorator(add)\n",
    "```"
   ]
  },
  {
   "cell_type": "markdown",
   "metadata": {},
   "source": [
    "Without the decorator, we'd call `some_decorator` on `add` and assign the answer back to `add`. Decorators let you do this with less boilerplate. "
   ]
  },
  {
   "cell_type": "markdown",
   "metadata": {},
   "source": [
    "Decorators with arguments behave quite differently to decorators without arguments. Let's look at the simpler case first: decorators without arguments. "
   ]
  },
  {
   "cell_type": "markdown",
   "metadata": {},
   "source": [
    "Here is the basic structure of decorators without arguments:  "
   ]
  },
  {
   "cell_type": "code",
   "execution_count": null,
   "metadata": {},
   "outputs": [],
   "source": [
    "def some_decorator(f): \n",
    "    def inner(*args, **kwargs): \n",
    "        return f(*args, **kwargs)\n",
    "    return inner"
   ]
  },
  {
   "cell_type": "markdown",
   "metadata": {},
   "source": [
    "where \n",
    "* `some_decorator` is the decorator\n",
    "* `f` is the function that is decorated (e.g. `add` from above)\n",
    "* `*args` and `**kwargs` are arguments to `f`\n",
    "* `inner` is the return value from `some_decorator(add)` that gets assigned back to `add`. "
   ]
  },
  {
   "cell_type": "markdown",
   "metadata": {},
   "source": [
    "The outside layer under `some_decorator` executes once when you decorate the function, and the inner layer executes every time you call the function. So if you decorate `add` with `some_decorator`, when you define the function the outer loop `some_decorator` will run, and  every time you call `add` the `inner` function will run. "
   ]
  },
  {
   "cell_type": "markdown",
   "metadata": {},
   "source": [
    "Here's a nice diagram ([credit](https://speakerdeck.com/pycon2019/reuven-m-lerner-practical-decorators))\n",
    "![](./assets/double_layer_function.jpeg)"
   ]
  },
  {
   "cell_type": "markdown",
   "metadata": {},
   "source": [
    "Let's look at some examples. "
   ]
  },
  {
   "cell_type": "markdown",
   "metadata": {},
   "source": [
    "#### Set documentation of a function to a specific string "
   ]
  },
  {
   "cell_type": "markdown",
   "metadata": {},
   "source": [
    "Below we have a function `changedoc`, a function that changes documentation string of another function. Let's see how to use it both as a decorator and by itself. "
   ]
  },
  {
   "cell_type": "code",
   "execution_count": null,
   "metadata": {},
   "outputs": [
    {
     "data": {
      "text/plain": [
       "'a new doc'"
      ]
     },
     "execution_count": null,
     "metadata": {},
     "output_type": "execute_result"
    }
   ],
   "source": [
    "def changedoc(f1): \n",
    "    f1.__doc__ = \"a new doc\"\n",
    "    return f1\n",
    "\n",
    "# Here is changedoc used not as a decorator\n",
    "def somefun(x): return x+1\n",
    "somefun = changedoc(somefun)\n",
    "somefun.__doc__  # returns \"a new doc\"\n",
    "\n",
    "# Here is changedoc as a decorator - a bit neater\n",
    "@changedoc\n",
    "def anotherfun(x): return x+2\n",
    "anotherfun.__doc__  # returns \"a new doc\""
   ]
  },
  {
   "cell_type": "markdown",
   "metadata": {},
   "source": [
    "#### Add a specific string to the end of a function "
   ]
  },
  {
   "cell_type": "markdown",
   "metadata": {},
   "source": [
    "Here is another example. The decorator `add_hello` adds the word \"hello\" to the end of a function. I'll show examples of how to use this both as a decorator, and not as a decorator. "
   ]
  },
  {
   "cell_type": "markdown",
   "metadata": {},
   "source": [
    "We use `*args` and `**kwargs` as parameters in the `inner` function. This is useful because it holds arguments and keyword arguments you pass to `f`. This lets you run the function `f` through `f(*args, **kwargs). "
   ]
  },
  {
   "cell_type": "markdown",
   "metadata": {},
   "source": [
    "A quick note. I find printing `locals()` in a function call is useful for trying to debug decorators because you can see exactly what variables are present. I've included some of this output from `locals()` to help understand what's going on. "
   ]
  },
  {
   "cell_type": "code",
   "execution_count": null,
   "metadata": {},
   "outputs": [
    {
     "name": "stdout",
     "output_type": "stream",
     "text": [
      "Variables present:  {'args': (), 'kwargs': {}, 'f': <function print_alphabet at 0x110533400>}\n",
      "abcdefghijklmnopqrstuvwxyz_hello\n",
      "Variables present:  {'args': (), 'kwargs': {}, 'f': <function print_alphabet at 0x1105338c8>}\n",
      "abcdefghijklmnopqrstuvwxyz_hello\n",
      "Variables present:  {'args': ('deception ',), 'kwargs': {'n': 6}, 'f': <function repeat_x at 0x110533d08>}\n",
      "deception deception deception deception deception deception _hello\n",
      "Variables present:  {'args': ('deception ',), 'kwargs': {'n': 6}, 'f': <function repeat_x at 0x1105420d0>}\n",
      "deception deception deception deception deception deception _hello\n"
     ]
    }
   ],
   "source": [
    "def add_hello(f): \n",
    "    def inner(*args, **kwargs): \n",
    "        print(\"Variables present: \" , locals())\n",
    "        return f(*args, **kwargs) + \"_hello\" \n",
    "    return inner\n",
    "\n",
    "# Without decorator \n",
    "def print_alphabet(): return \"abcdefghijklmnopqrstuvwxyz\"\n",
    "f_temp = add_hello(print_alphabet)\n",
    "print(f_temp())\n",
    "\n",
    "# With decorator\n",
    "@add_hello\n",
    "def print_alphabet(): return \"abcdefghijklmnopqrstuvwxyz\"\n",
    "print(print_alphabet())\n",
    "\n",
    "# Without decorator, and using args, kwargs\n",
    "def repeat_x(x, n=4):    return x*n\n",
    "f_temp = add_hello(repeat_x)\n",
    "print(f_temp(\"deception \", n=6))\n",
    "\n",
    "# With decorator, and using args, kwargs \n",
    "@add_hello\n",
    "def repeat_x(x, n=4):    return x*n\n",
    "print(repeat_x(\"deception \", n=6))"
   ]
  },
  {
   "cell_type": "markdown",
   "metadata": {},
   "source": [
    "#### Time how long a function runs for"
   ]
  },
  {
   "cell_type": "markdown",
   "metadata": {},
   "source": [
    "The decorator `time_it` below is a decorator used for timing functions. "
   ]
  },
  {
   "cell_type": "markdown",
   "metadata": {},
   "source": [
    "To recap what's going on: \n",
    "* The decorated function `add_stuff` goes into the `f` argument for `time_it`. \n",
    "* The arguments `x` and `y` in `add_stuff` are caught by `*args` in `wrapper` and are accessed in a tuple in the `args` variable. If we specified `x` or `y` by keyword arguments, these would be caught by `**kwargs` instead of `*args`. "
   ]
  },
  {
   "cell_type": "code",
   "execution_count": null,
   "metadata": {},
   "outputs": [
    {
     "name": "stdout",
     "output_type": "stream",
     "text": [
      "add_stuff takes 2.86102294921875e-06 seconds.\n"
     ]
    },
    {
     "data": {
      "text/plain": [
       "3"
      ]
     },
     "execution_count": null,
     "metadata": {},
     "output_type": "execute_result"
    }
   ],
   "source": [
    "import time \n",
    "def time_it(f): \n",
    "    def inner(*args, **kwargs): \n",
    "        t = time.time()\n",
    "        result = f(*args, **kwargs)\n",
    "        print (f.__name__ + \" takes \" +  str(time.time() - t) + \" seconds.\")\n",
    "        return result \n",
    "    return inner\n",
    "\n",
    "@time_it\n",
    "def add_stuff(x,y): return x+y\n",
    "add_stuff(1,2)"
   ]
  },
  {
   "cell_type": "markdown",
   "metadata": {},
   "source": [
    "#### Log the internal state of a function "
   ]
  },
  {
   "cell_type": "markdown",
   "metadata": {},
   "source": [
    "Here is a decorator used for logging. Pretend the `print` statement actually writes to a file, and you get the idea. "
   ]
  },
  {
   "cell_type": "code",
   "execution_count": null,
   "metadata": {},
   "outputs": [
    {
     "name": "stdout",
     "output_type": "stream",
     "text": [
      "write 1 4 3 to file\n"
     ]
    },
    {
     "data": {
      "text/plain": [
       "8"
      ]
     },
     "execution_count": null,
     "metadata": {},
     "output_type": "execute_result"
    }
   ],
   "source": [
    "def add_logs(f): \n",
    "    def inner(*args, **kwargs): \n",
    "        # insert real logging code here \n",
    "        print('write', *args, \"to file\")\n",
    "        return f(*args, **kwargs)\n",
    "    return inner    \n",
    "\n",
    "@add_logs\n",
    "def add_things(x,y,z): return x+y+z\n",
    "add_things(1,4,3)"
   ]
  },
  {
   "cell_type": "markdown",
   "metadata": {},
   "source": [
    "#### Set a time limit on how often a function can be called "
   ]
  },
  {
   "cell_type": "markdown",
   "metadata": {},
   "source": [
    "Say we wanted a function to be called no more than once every minute. We could get this result by using a decorator, called `once_per_min` below. "
   ]
  },
  {
   "cell_type": "markdown",
   "metadata": {},
   "source": [
    "Inside the `inner` function, we have to use the python keyword `nonlocal` to access the variable `calltime` defined out of its scope. We can't use `global` because `calltime` isn't a global variable. "
   ]
  },
  {
   "cell_type": "code",
   "execution_count": null,
   "metadata": {},
   "outputs": [],
   "source": [
    "def once_per_min(f): \n",
    "    calltime = 0 \n",
    "    def inner(*args, **kwargs): \n",
    "        nonlocal calltime\n",
    "        gap = time.time() - calltime\n",
    "        if gap < 60: \n",
    "            msg = \"You're calling this function too often. Try again in \" + \\\n",
    "                          str(60 - gap) + \" seconds.\"\n",
    "            raise Exception(msg)\n",
    "        calltime = time.time()\n",
    "        return f(*args, **kwargs)\n",
    "    return inner"
   ]
  },
  {
   "cell_type": "code",
   "execution_count": null,
   "metadata": {},
   "outputs": [],
   "source": [
    "@once_per_min\n",
    "def add_stuff(x,y,z): return x+y+z"
   ]
  },
  {
   "cell_type": "code",
   "execution_count": null,
   "metadata": {},
   "outputs": [
    {
     "data": {
      "text/plain": [
       "6"
      ]
     },
     "execution_count": null,
     "metadata": {},
     "output_type": "execute_result"
    }
   ],
   "source": [
    "add_stuff(1,2,3)"
   ]
  },
  {
   "cell_type": "code",
   "execution_count": null,
   "metadata": {},
   "outputs": [
    {
     "ename": "Exception",
     "evalue": "You're calling this function too often. Try again in 59.97848320007324 seconds.",
     "output_type": "error",
     "traceback": [
      "\u001b[0;31m---------------------------------------------------------------------------\u001b[0m",
      "\u001b[0;31mException\u001b[0m                                 Traceback (most recent call last)",
      "\u001b[0;32m<ipython-input-10-5f783a66ca97>\u001b[0m in \u001b[0;36m<module>\u001b[0;34m\u001b[0m\n\u001b[1;32m      1\u001b[0m \u001b[0;31m# if we try again too quickly, it gives an error\u001b[0m\u001b[0;34m\u001b[0m\u001b[0;34m\u001b[0m\u001b[0;34m\u001b[0m\u001b[0m\n\u001b[0;32m----> 2\u001b[0;31m \u001b[0madd_stuff\u001b[0m\u001b[0;34m(\u001b[0m\u001b[0;36m1\u001b[0m\u001b[0;34m,\u001b[0m\u001b[0;36m2\u001b[0m\u001b[0;34m,\u001b[0m\u001b[0;36m3\u001b[0m\u001b[0;34m)\u001b[0m\u001b[0;34m\u001b[0m\u001b[0;34m\u001b[0m\u001b[0m\n\u001b[0m",
      "\u001b[0;32m<ipython-input-7-4d8a29e52b68>\u001b[0m in \u001b[0;36minner\u001b[0;34m(*args, **kwargs)\u001b[0m\n\u001b[1;32m      7\u001b[0m             \u001b[0mmsg\u001b[0m \u001b[0;34m=\u001b[0m \u001b[0;34m\"You're calling this function too often. Try again in \"\u001b[0m \u001b[0;34m+\u001b[0m\u001b[0;31m \u001b[0m\u001b[0;31m\\\u001b[0m\u001b[0;34m\u001b[0m\u001b[0;34m\u001b[0m\u001b[0m\n\u001b[1;32m      8\u001b[0m                           \u001b[0mstr\u001b[0m\u001b[0;34m(\u001b[0m\u001b[0;36m60\u001b[0m \u001b[0;34m-\u001b[0m \u001b[0mgap\u001b[0m\u001b[0;34m)\u001b[0m \u001b[0;34m+\u001b[0m \u001b[0;34m\" seconds.\"\u001b[0m\u001b[0;34m\u001b[0m\u001b[0;34m\u001b[0m\u001b[0m\n\u001b[0;32m----> 9\u001b[0;31m             \u001b[0;32mraise\u001b[0m \u001b[0mException\u001b[0m\u001b[0;34m(\u001b[0m\u001b[0mmsg\u001b[0m\u001b[0;34m)\u001b[0m\u001b[0;34m\u001b[0m\u001b[0;34m\u001b[0m\u001b[0m\n\u001b[0m\u001b[1;32m     10\u001b[0m         \u001b[0mcalltime\u001b[0m \u001b[0;34m=\u001b[0m \u001b[0mtime\u001b[0m\u001b[0;34m.\u001b[0m\u001b[0mtime\u001b[0m\u001b[0;34m(\u001b[0m\u001b[0;34m)\u001b[0m\u001b[0;34m\u001b[0m\u001b[0;34m\u001b[0m\u001b[0m\n\u001b[1;32m     11\u001b[0m         \u001b[0;32mreturn\u001b[0m \u001b[0mf\u001b[0m\u001b[0;34m(\u001b[0m\u001b[0;34m*\u001b[0m\u001b[0margs\u001b[0m\u001b[0;34m,\u001b[0m \u001b[0;34m**\u001b[0m\u001b[0mkwargs\u001b[0m\u001b[0;34m)\u001b[0m\u001b[0;34m\u001b[0m\u001b[0;34m\u001b[0m\u001b[0m\n",
      "\u001b[0;31mException\u001b[0m: You're calling this function too often. Try again in 59.97848320007324 seconds."
     ]
    }
   ],
   "source": [
    "# if we try again too quickly, it gives an error\n",
    "add_stuff(1,2,3)"
   ]
  },
  {
   "cell_type": "markdown",
   "metadata": {},
   "source": [
    "#### Make a function print out useful debugging information "
   ]
  },
  {
   "cell_type": "markdown",
   "metadata": {},
   "source": [
    "The decorator `debug_this` provides some useful information about a function it decorates. "
   ]
  },
  {
   "cell_type": "code",
   "execution_count": null,
   "metadata": {},
   "outputs": [],
   "source": [
    "import inspect, time\n",
    "def debug_this(f): \n",
    "    def inner(*args, **kwargs): \n",
    "        print(\"[trace] Arguments of f:\", args)\n",
    "        print(\"[trace] Keyword arguments of f:\", kwargs)\n",
    "        print(\"[trace] f.__dict__:\", f.__dict__)\n",
    "        print(\"[trace] f.__name__:\", f.__name__)\n",
    "        # Uncomment if you want source code of function \n",
    "        # print(\"[trace] Source of f: \\n####\\n\", inspect.getsource(f), \"####\")\n",
    "        print(\"[trace] Starting execution of f\")\n",
    "        t1 = time.time()\n",
    "        result = f(*args, **kwargs)\n",
    "        t2 = time.time()\n",
    "        print(\"[trace] Finished execution of f\")\n",
    "        print(\"[trace] f took\", t2-t1,\"seconds to run.\")\n",
    "        print(\"[trace] f returned: \", result)\n",
    "        return result\n",
    "    return inner"
   ]
  },
  {
   "cell_type": "code",
   "execution_count": null,
   "metadata": {},
   "outputs": [],
   "source": [
    "@debug_this\n",
    "def somefun(a,b,c): \n",
    "    \"\"\"This function is a bit complex but doesn't do anything interesting\"\"\"\n",
    "    d = a + b \n",
    "    e = b + c \n",
    "    f = 10\n",
    "    for x in (a,b,c,d,e): \n",
    "        f += x \n",
    "    return f "
   ]
  },
  {
   "cell_type": "code",
   "execution_count": null,
   "metadata": {},
   "outputs": [
    {
     "name": "stdout",
     "output_type": "stream",
     "text": [
      "[trace] Arguments of f: (1, 2, 4)\n",
      "[trace] Keyword arguments of f: {}\n",
      "[trace] f.__dict__: {}\n",
      "[trace] f.__name__: somefun\n",
      "[trace] Starting execution of f\n",
      "[trace] Finished execution of f\n",
      "[trace] f took 3.814697265625e-06 seconds to run.\n",
      "[trace] f returned:  26\n"
     ]
    },
    {
     "data": {
      "text/plain": [
       "26"
      ]
     },
     "execution_count": null,
     "metadata": {},
     "output_type": "execute_result"
    }
   ],
   "source": [
    "somefun(1,2,4)"
   ]
  },
  {
   "cell_type": "markdown",
   "metadata": {},
   "source": [
    "#### Cache the results of a function"
   ]
  },
  {
   "cell_type": "markdown",
   "metadata": {},
   "source": [
    "This can be useful if a function takes a while to run. The fancy name for this is *memoization*."
   ]
  },
  {
   "cell_type": "markdown",
   "metadata": {},
   "source": [
    "We'll use a dict as the cache, but we have to be careful how we implement the decorator. The obvious approach of using `*args` as a key to the cache dict won't work, since it doesn't catch keyword arguments, and `args` might contain unhashable types like lists or sets. To get around this, we pickle the arguments and keyword arguments to create a bytestring, and then use this bytestring as the key to the cache. "
   ]
  },
  {
   "cell_type": "code",
   "execution_count": null,
   "metadata": {},
   "outputs": [],
   "source": [
    "import pickle\n",
    "def cache_this(f):\n",
    "    cache = dict()\n",
    "    def inner(*args, **kwargs):\n",
    "        bs = (pickle.dumps(args), pickle.dumps(kwargs))\n",
    "        if bs not in cache:\n",
    "            print(\"caching result\")\n",
    "            cache[bs] = f(*args, **kwargs)\n",
    "        else: \n",
    "            print(\"using cached result\")\n",
    "        return cache[bs]\n",
    "    return inner"
   ]
  },
  {
   "cell_type": "code",
   "execution_count": null,
   "metadata": {},
   "outputs": [
    {
     "name": "stdout",
     "output_type": "stream",
     "text": [
      "caching result\n"
     ]
    },
    {
     "data": {
      "text/plain": [
       "8"
      ]
     },
     "execution_count": null,
     "metadata": {},
     "output_type": "execute_result"
    }
   ],
   "source": [
    "import time \n",
    "import numpy as np\n",
    "@cache_this\n",
    "def add_iterable(x): \n",
    "    \"\"\"some long-running function with non-hashable arguments\"\"\"\n",
    "    time.sleep(2)\n",
    "    return np.sum(list(x))\n",
    "add_iterable([1,2,5])    "
   ]
  },
  {
   "cell_type": "code",
   "execution_count": null,
   "metadata": {},
   "outputs": [
    {
     "name": "stdout",
     "output_type": "stream",
     "text": [
      "using cached result\n"
     ]
    },
    {
     "data": {
      "text/plain": [
       "8"
      ]
     },
     "execution_count": null,
     "metadata": {},
     "output_type": "execute_result"
    }
   ],
   "source": [
    "add_iterable([1,2,5])    "
   ]
  },
  {
   "cell_type": "markdown",
   "metadata": {},
   "source": [
    "### Decorators with arguments "
   ]
  },
  {
   "cell_type": "markdown",
   "metadata": {},
   "source": [
    "All the above decorators had no arguments. Decorators can be used with arguments, and it is sometimes very useful to do so. "
   ]
  },
  {
   "cell_type": "markdown",
   "metadata": {},
   "source": [
    "But the structure of these decorators is different. They need three nested layers, not two. In  other words, we need to include a 'middle` function. "
   ]
  },
  {
   "cell_type": "code",
   "execution_count": null,
   "metadata": {},
   "outputs": [],
   "source": [
    "def some_decorator(n): \n",
    "    def middle(f): \n",
    "        def inner(*args, **kwargs): \n",
    "            return f(*args, **kwargs)\n",
    "        return inner  \n",
    "    return middle "
   ]
  },
  {
   "cell_type": "markdown",
   "metadata": {},
   "source": [
    "What's going on? \n",
    "\n",
    "* The outer layer `some_decorator` is the name of the decorator, here `once_per_n`. The parameter to the decorator is also the parameter of the outer layer, which here I've called `n`. The outer layer executes once, when you provide an argument to the decorator. \n",
    "* The middle layer `middle` has as parameter `f`, the decorated function. This middle layer executes once, when we decorate the function. \n",
    "* The inner layer `inner` has as arguments `*args` and `**kwargs`, the arguments to the decorated function `f`. This inner layer is executed any time the decorated function `f` is called. "
   ]
  },
  {
   "cell_type": "markdown",
   "metadata": {},
   "source": [
    "Another nice diagram ([credit](https://speakerdeck.com/pycon2019/reuven-m-lerner-practical-decorators))"
   ]
  },
  {
   "cell_type": "markdown",
   "metadata": {},
   "source": [
    "![](./assets/triple_layer_function.jpeg)"
   ]
  },
  {
   "cell_type": "markdown",
   "metadata": {},
   "source": [
    "Let's see some applications. "
   ]
  },
  {
   "cell_type": "markdown",
   "metadata": {},
   "source": [
    "#### Stop a function running more than every n seconds "
   ]
  },
  {
   "cell_type": "markdown",
   "metadata": {},
   "source": [
    "If we modified the `@once_per_min` decorator to take an argument `n`, we could specify the length of time. Instead of an upper limit of one function call every minute, we could have one function call every `n` seconds. "
   ]
  },
  {
   "cell_type": "markdown",
   "metadata": {},
   "source": [
    "Say we created a `once_per_n` decorator. Here's how it would act on functions. It holds that \n",
    "```\n",
    "@once_per_n(5)\n",
    "def add(x,y): return x+y\n",
    "```\n",
    "is the same as \n",
    "```\n",
    "add = once_per_n(5)(add)\n",
    "```"
   ]
  },
  {
   "cell_type": "markdown",
   "metadata": {},
   "source": [
    "The `once_per_n(5)`function also returns a function, that is then called on `add`. "
   ]
  },
  {
   "cell_type": "markdown",
   "metadata": {},
   "source": [
    "Here is code for the `once_per_n` decorator. It's similar to before, but we have a `middle` layer as well. "
   ]
  },
  {
   "cell_type": "code",
   "execution_count": null,
   "metadata": {},
   "outputs": [],
   "source": [
    "def once_per_n(n): \n",
    "    def middle(f):\n",
    "        calltime = 0 \n",
    "        def inner(*args, **kwargs): \n",
    "            nonlocal calltime; \n",
    "            gap = time.time() - calltime \n",
    "            if gap < n: \n",
    "                msg = \"You're calling this function too often. Try again in \" + \\\n",
    "                          str(n - gap) + \" seconds.\"\n",
    "                raise Exception(msg)\n",
    "            calltime = time.time()\n",
    "            return f(*args, **kwargs)\n",
    "        return inner  \n",
    "    return middle "
   ]
  },
  {
   "cell_type": "code",
   "execution_count": null,
   "metadata": {},
   "outputs": [
    {
     "data": {
      "text/plain": [
       "6"
      ]
     },
     "execution_count": null,
     "metadata": {},
     "output_type": "execute_result"
    }
   ],
   "source": [
    "@once_per_n(5)\n",
    "def add(x,y): return x+y\n",
    "add(5,1)"
   ]
  },
  {
   "cell_type": "code",
   "execution_count": null,
   "metadata": {},
   "outputs": [
    {
     "ename": "Exception",
     "evalue": "You're calling this function too often. Try again in 4.640860080718994 seconds.",
     "output_type": "error",
     "traceback": [
      "\u001b[0;31m---------------------------------------------------------------------------\u001b[0m",
      "\u001b[0;31mException\u001b[0m                                 Traceback (most recent call last)",
      "\u001b[0;32m<ipython-input-24-aa3cda8aca6c>\u001b[0m in \u001b[0;36m<module>\u001b[0;34m\u001b[0m\n\u001b[1;32m      1\u001b[0m \u001b[0;31m# don't call this too quickly!\u001b[0m\u001b[0;34m\u001b[0m\u001b[0;34m\u001b[0m\u001b[0;34m\u001b[0m\u001b[0m\n\u001b[0;32m----> 2\u001b[0;31m \u001b[0madd\u001b[0m\u001b[0;34m(\u001b[0m\u001b[0;36m65\u001b[0m\u001b[0;34m,\u001b[0m\u001b[0;36m15\u001b[0m\u001b[0;34m)\u001b[0m\u001b[0;34m\u001b[0m\u001b[0;34m\u001b[0m\u001b[0m\n\u001b[0m",
      "\u001b[0;32m<ipython-input-22-03225049070e>\u001b[0m in \u001b[0;36minner\u001b[0;34m(*args, **kwargs)\u001b[0m\n\u001b[1;32m      8\u001b[0m                 \u001b[0mmsg\u001b[0m \u001b[0;34m=\u001b[0m \u001b[0;34m\"You're calling this function too often. Try again in \"\u001b[0m \u001b[0;34m+\u001b[0m\u001b[0;31m \u001b[0m\u001b[0;31m\\\u001b[0m\u001b[0;34m\u001b[0m\u001b[0;34m\u001b[0m\u001b[0m\n\u001b[1;32m      9\u001b[0m                           \u001b[0mstr\u001b[0m\u001b[0;34m(\u001b[0m\u001b[0mn\u001b[0m \u001b[0;34m-\u001b[0m \u001b[0mgap\u001b[0m\u001b[0;34m)\u001b[0m \u001b[0;34m+\u001b[0m \u001b[0;34m\" seconds.\"\u001b[0m\u001b[0;34m\u001b[0m\u001b[0;34m\u001b[0m\u001b[0m\n\u001b[0;32m---> 10\u001b[0;31m                 \u001b[0;32mraise\u001b[0m \u001b[0mException\u001b[0m\u001b[0;34m(\u001b[0m\u001b[0mmsg\u001b[0m\u001b[0;34m)\u001b[0m\u001b[0;34m\u001b[0m\u001b[0;34m\u001b[0m\u001b[0m\n\u001b[0m\u001b[1;32m     11\u001b[0m             \u001b[0mcalltime\u001b[0m \u001b[0;34m=\u001b[0m \u001b[0mtime\u001b[0m\u001b[0;34m.\u001b[0m\u001b[0mtime\u001b[0m\u001b[0;34m(\u001b[0m\u001b[0;34m)\u001b[0m\u001b[0;34m\u001b[0m\u001b[0;34m\u001b[0m\u001b[0m\n\u001b[1;32m     12\u001b[0m             \u001b[0;32mreturn\u001b[0m \u001b[0mf\u001b[0m\u001b[0;34m(\u001b[0m\u001b[0;34m*\u001b[0m\u001b[0margs\u001b[0m\u001b[0;34m,\u001b[0m \u001b[0;34m**\u001b[0m\u001b[0mkwargs\u001b[0m\u001b[0;34m)\u001b[0m\u001b[0;34m\u001b[0m\u001b[0;34m\u001b[0m\u001b[0m\n",
      "\u001b[0;31mException\u001b[0m: You're calling this function too often. Try again in 4.640860080718994 seconds."
     ]
    }
   ],
   "source": [
    "# don't call this too quickly!\n",
    "add(65,15)"
   ]
  },
  {
   "cell_type": "markdown",
   "metadata": {},
   "source": [
    "#### Add any string to the output of a function "
   ]
  },
  {
   "cell_type": "markdown",
   "metadata": {},
   "source": [
    "Before we had a `@add_hello` decorator to add the word `hello` to the end of any function. But if we made this decorator take an argument, we can add any string we like. Call this new decorator `add_word`. "
   ]
  },
  {
   "cell_type": "code",
   "execution_count": null,
   "metadata": {},
   "outputs": [],
   "source": [
    "# A decorator to add a word to the output of a function \n",
    "def add_word(word): \n",
    "    def middle(f): \n",
    "        def inner(*args, **kwargs):\n",
    "            return f(*args, **kwargs) + word\n",
    "        return inner\n",
    "    return middle "
   ]
  },
  {
   "cell_type": "code",
   "execution_count": null,
   "metadata": {},
   "outputs": [
    {
     "name": "stdout",
     "output_type": "stream",
     "text": [
      "abcdefghijklmnopqrstuvwxyz_hello\n",
      "deception deception deception deception oh boy!!!\n"
     ]
    }
   ],
   "source": [
    "@add_word(\"_hello\")\n",
    "def alphabet(): return 'abcdefghijklmnopqrstuvwxyz'\n",
    "print(alphabet())\n",
    "\n",
    "@add_word(\"oh boy!!!\")\n",
    "def repeat_x(x, n=2): return x*n \n",
    "print(repeat_x(\"deception \", n=4))"
   ]
  },
  {
   "cell_type": "markdown",
   "metadata": {},
   "source": [
    "#### Make a numerical function return modulo n"
   ]
  },
  {
   "cell_type": "markdown",
   "metadata": {},
   "source": [
    "In this example the decorator `mod_n` modifies a function returning a number to return that number modulo `n`. "
   ]
  },
  {
   "cell_type": "code",
   "execution_count": null,
   "metadata": {},
   "outputs": [
    {
     "name": "stdout",
     "output_type": "stream",
     "text": [
      "6 0 1\n"
     ]
    }
   ],
   "source": [
    "def mod_n(n): \n",
    "    def middle(f): \n",
    "        def inner(*args, **kwargs):\n",
    "            return f(*args, **kwargs) % n\n",
    "        return inner \n",
    "    return middle \n",
    "\n",
    "\n",
    "@mod_n(7) \n",
    "def add(x,y): return x + y\n",
    "print(add(5,1), add(5,2), add(5,3))"
   ]
  },
  {
   "cell_type": "markdown",
   "metadata": {},
   "source": [
    "#### Run tests when a function is defined"
   ]
  },
  {
   "cell_type": "markdown",
   "metadata": {},
   "source": [
    "Decorators can be useful for unit testing. Here `run_tests` runs tests against a function the first time it is defined. "
   ]
  },
  {
   "cell_type": "markdown",
   "metadata": {},
   "source": [
    "This is useful to test for mistakes in the function definition, right as you write it. Also if you change something later in definition of the function, the tests will run automatically, and you'll see if the function output has changed or not. "
   ]
  },
  {
   "cell_type": "code",
   "execution_count": null,
   "metadata": {},
   "outputs": [
    {
     "name": "stdout",
     "output_type": "stream",
     "text": [
      "Test 1 2 4 passed.\n",
      "Test 1 2 7 passed.\n",
      "Test 10 0 0 passed.\n",
      "Test -10 10 10 passed.\n",
      "Test 4 0 7 passed.\n",
      "Test 1 3 4 passed.\n",
      "Test 1 3 5 passed.\n",
      "Test 0 0 0 passed.\n",
      "Test 0 0 1 passed.\n"
     ]
    }
   ],
   "source": [
    "def run_tests(tests): \n",
    "    def middle(f): \n",
    "        for params, result in tests: \n",
    "            if f(*params) == result: print(\"Test\", *params, \"passed.\")\n",
    "            else:                    print(\"Test\", *params, \"failed.\")\n",
    "        def inner(*args, **kwargs):\n",
    "            return f(*args, **kwargs)\n",
    "        return inner \n",
    "    return middle \n",
    "\n",
    "# test cases for adds_to_ten below \n",
    "tests_eq_10 = [\n",
    "    [(1,2,4), False],\n",
    "    [(1,2,7), True],\n",
    "    [(10,0,0),True], \n",
    "    [(-10,10,10),True],\n",
    "    [(4,0,7), False]\n",
    "]\n",
    "@run_tests(tests_eq_10)\n",
    "def adds_to_ten(x,y,z): return True if x+y+z==10 else False \n",
    "\n",
    "# test cases for adds_to_odd below \n",
    "tests_odd = [\n",
    "    [(1,3,4), False], \n",
    "    [(1,3,5), True], \n",
    "    [(0,0,0), False], \n",
    "    [(0,0,1), True]\n",
    "]\n",
    "@run_tests(tests_odd)\n",
    "def adds_to_odd(x,y,z): return (x+y+z)%2==1"
   ]
  },
  {
   "cell_type": "markdown",
   "metadata": {},
   "source": [
    "#### Inherit documentation from another function"
   ]
  },
  {
   "cell_type": "markdown",
   "metadata": {},
   "source": [
    "Making a function inherit documentation from another function is a useful job for decorators. In this example our decorator is `copy_docs`, the function with documentation we want to copy `f_with_docs`, and the decorated function `f`. \n",
    "\n",
    "Note that there is no `inner` function below, because we don't need to ever execute `f`. We are just copying across documentation and leaving it otherwise unchanged. "
   ]
  },
  {
   "cell_type": "code",
   "execution_count": null,
   "metadata": {},
   "outputs": [
    {
     "name": "stdout",
     "output_type": "stream",
     "text": [
      "add(x1, x2, /, out=None, *, where=True, casting='same_kind', order='K', dtype=None, subok=True[, signature, extobj])\n",
      "\n",
      "Add arguments element-wise.\n",
      "\n",
      "Parameters\n",
      "----------\n",
      "x1, x2 : array_like\n",
      "    The arrays to be added.  If ``x1.shape != x2.shape``, they must be\n",
      "    broadcastable to a common shape (whi\n"
     ]
    }
   ],
   "source": [
    "def copy_docs(f_with_docs):\n",
    "    def middle(f):\n",
    "        f.__doc__  = f_with_docs.__doc__\n",
    "        f.__name__ = f_with_docs.__name__\n",
    "        return f\n",
    "    return middle\n",
    "\n",
    "import numpy as np\n",
    "@copy_docs(np.add)\n",
    "def add(x,y): return x+y\n",
    "print(add.__doc__[0:300])  # same documentation as numpy add function "
   ]
  },
  {
   "cell_type": "markdown",
   "metadata": {},
   "source": [
    "Decorators tend to lose the documentation and attributes of the original function, and it can be a problem If you apply a decorator to a function, the decorated function won't keep its `__name__` and `__doc__` attributes: they'll be replaced with the name and docstring of something like `middle` or `inner` above. Also lost is information about the arguments of the function, so if you look at the help docs the arguments will be something like `(*args, **kwargs)`, instead of the original arguments. There are some other things that are also lost. "
   ]
  },
  {
   "cell_type": "markdown",
   "metadata": {},
   "source": [
    "A solution to this common problem is `functools.wraps`, a decorator from `functools` that is used to maintain the name, docstring, and other things of the original function. "
   ]
  },
  {
   "cell_type": "markdown",
   "metadata": {},
   "source": [
    "Use `functools.wraps` in the decorator definitions. Let's demonstrate it with the modulo example again."
   ]
  },
  {
   "cell_type": "code",
   "execution_count": null,
   "metadata": {},
   "outputs": [],
   "source": [
    "from functools import wraps \n",
    "def modulo_n(n): \n",
    "    def middle(f): \n",
    "        @wraps(f)# adding @wraps here keeps info about f\n",
    "        def inner(*args, **kwargs): \n",
    "            return f(*args, **kwargs) % n \n",
    "        return inner \n",
    "    return middle \n",
    "\n",
    "\n",
    "# some function with documentation \n",
    "@modulo_n(5)\n",
    "def add(x,y): \n",
    "    \"\"\"Adds two numbers, x and y, to make a third number, and then return it. \"\"\"\n",
    "    return x+y "
   ]
  },
  {
   "cell_type": "code",
   "execution_count": null,
   "metadata": {},
   "outputs": [
    {
     "data": {
      "text/plain": [
       "'Adds two numbers, x and y, to make a third number, and then return it. '"
      ]
     },
     "execution_count": null,
     "metadata": {},
     "output_type": "execute_result"
    }
   ],
   "source": [
    "add(5,54)\n",
    "add.__doc__  # docstring retained "
   ]
  },
  {
   "cell_type": "markdown",
   "metadata": {},
   "source": [
    "You can also use `@wraps` to directly transfer documentation from one function to another: "
   ]
  },
  {
   "cell_type": "code",
   "execution_count": null,
   "metadata": {},
   "outputs": [
    {
     "name": "stdout",
     "output_type": "stream",
     "text": [
      "add(x1, x2, /, out=None, *, where=True, casting='same_kind', order='K', dtype=None, subok=True[, signature, extobj])\n",
      "\n",
      "Add arguments element-wise.\n",
      "\n",
      "Parameters\n",
      "----------\n",
      "x1, x2 : array_like\n",
      "    The arrays to be added.  If ``x1.shape != x2.shape``, they must be\n",
      "    broadcastable to a common shape (whi\n"
     ]
    }
   ],
   "source": [
    "@wraps(np.add)\n",
    "def add(x,y): return x+y\n",
    "print(add.__doc__[0:300])  # same documentation as numpy add function "
   ]
  },
  {
   "cell_type": "markdown",
   "metadata": {},
   "source": [
    "### Decorators as classes "
   ]
  },
  {
   "cell_type": "markdown",
   "metadata": {},
   "source": [
    "You don't have to write a decorator as a function. You can also write it as a class: it just has to implement the `__call__` method, meaning that the class is callable. \n",
    "\n",
    "Here is the basic structure. Say we were decorating a function called `add`. \n",
    "* The decorated function gets passed in as the parameter `f` to `__init__`, which assigns it to `self.f` so that other methods can also access it. \n",
    "* `f` is called in `__call__` and `__call__` also gets passed the `*args` and `**kwargs` of the `f` too. \n",
    "* `__init__` gets called when the decorated function `add` is defined, but not when it is run. \n",
    "* `__call__` gets called when the decorated function `add` is run, but not when it was defined. "
   ]
  },
  {
   "cell_type": "markdown",
   "metadata": {},
   "source": [
    "This below example works but doesn't do anything. Look at the printed output to see the control flow of the decorator. "
   ]
  },
  {
   "cell_type": "code",
   "execution_count": null,
   "metadata": {},
   "outputs": [
    {
     "name": "stdout",
     "output_type": "stream",
     "text": [
      "in init statement\n"
     ]
    }
   ],
   "source": [
    "class some_decorator: \n",
    "    def __init__(self, f): \n",
    "        print('in init statement')\n",
    "        self.f = f \n",
    "    \n",
    "    def __call__(self, *args, **kwargs):\n",
    "        print('in call statement')\n",
    "        return self.f(*args, **kwargs)\n",
    "    \n",
    "@some_decorator\n",
    "def add(x,y):  return x+y    "
   ]
  },
  {
   "cell_type": "code",
   "execution_count": null,
   "metadata": {},
   "outputs": [
    {
     "name": "stdout",
     "output_type": "stream",
     "text": [
      "in call statement\n"
     ]
    },
    {
     "data": {
      "text/plain": [
       "6"
      ]
     },
     "execution_count": null,
     "metadata": {},
     "output_type": "execute_result"
    }
   ],
   "source": [
    "add(1,5)"
   ]
  },
  {
   "cell_type": "markdown",
   "metadata": {},
   "source": [
    "Here is the same decorator in function form. Note that the outer layer is basically the same as `__init__` and the inner layer same as `__call__`. "
   ]
  },
  {
   "cell_type": "code",
   "execution_count": null,
   "metadata": {},
   "outputs": [
    {
     "name": "stdout",
     "output_type": "stream",
     "text": [
      "equivalent of __init__ statement\n"
     ]
    }
   ],
   "source": [
    "def some_decorator2(f): \n",
    "    print('equivalent of __init__ statement')\n",
    "    def inner(*args, **kwargs): \n",
    "        print('equivalent of __call__ statement')\n",
    "        return f(*args, **kwargs)\n",
    "    return inner\n",
    "\n",
    "@some_decorator2\n",
    "def add(x,y):  return x+y    "
   ]
  },
  {
   "cell_type": "code",
   "execution_count": null,
   "metadata": {},
   "outputs": [
    {
     "name": "stdout",
     "output_type": "stream",
     "text": [
      "equivalent of __call__ statement\n"
     ]
    },
    {
     "data": {
      "text/plain": [
       "5"
      ]
     },
     "execution_count": null,
     "metadata": {},
     "output_type": "execute_result"
    }
   ],
   "source": [
    "add(1,4)"
   ]
  },
  {
   "cell_type": "markdown",
   "metadata": {},
   "source": [
    "What about decorators with arguments? Let's implement class-style `@once_per_n`, the \"wait n seconds between function calls\" decorator from above. "
   ]
  },
  {
   "cell_type": "markdown",
   "metadata": {},
   "source": [
    "A few differences. \n",
    "* The `__init__` function now takes parameters from the decorator. `__init__` is called when the decorated function is defined. \n",
    "* The `_call__` function is now nested, and `f` is now an argument to `__call__`. This `__call__` function now gets called when the decorated function is defined , not when it is run. \n",
    "* The function that runs every time the decorated function is called is now in `inner`. Whenever the decorated function is run, `inner` is executed."
   ]
  },
  {
   "cell_type": "markdown",
   "metadata": {},
   "source": [
    "I've kept in a few logging messages to make it a bit easier to see what happens. "
   ]
  },
  {
   "cell_type": "code",
   "execution_count": null,
   "metadata": {},
   "outputs": [
    {
     "name": "stdout",
     "output_type": "stream",
     "text": [
      "inside init\n",
      "inside call \n"
     ]
    }
   ],
   "source": [
    "import time \n",
    "class once_per_n: \n",
    "    def __init__(self, n): \n",
    "        self.n = n\n",
    "        print(\"inside init\")\n",
    "        \n",
    "    def __call__(self, f):\n",
    "        self.calltime = 0 \n",
    "        print(\"inside call \")\n",
    "        def inner(*args, **kwargs):\n",
    "            print(\"inside inner\")\n",
    "            gap = time.time() - self.calltime \n",
    "            if gap < self.n:\n",
    "                msg = \"You're calling this function too often. Try again in \" + \\\n",
    "                              str(self.n - gap) + \" seconds.\"\n",
    "                raise Exception(msg)\n",
    "            self.calltime = time.time()       \n",
    "            return f(*args, **kwargs)\n",
    "        return inner \n",
    "\n",
    "@once_per_n(6)\n",
    "def add(x,y): return x+y"
   ]
  },
  {
   "cell_type": "code",
   "execution_count": null,
   "metadata": {},
   "outputs": [
    {
     "name": "stdout",
     "output_type": "stream",
     "text": [
      "inside inner\n",
      "inside inner\n"
     ]
    },
    {
     "ename": "Exception",
     "evalue": "You're calling this function too often. Try again in 5.999936103820801 seconds.",
     "output_type": "error",
     "traceback": [
      "\u001b[0;31m---------------------------------------------------------------------------\u001b[0m",
      "\u001b[0;31mException\u001b[0m                                 Traceback (most recent call last)",
      "\u001b[0;32m<ipython-input-38-e20425f72f86>\u001b[0m in \u001b[0;36m<module>\u001b[0;34m\u001b[0m\n\u001b[1;32m      1\u001b[0m \u001b[0madd\u001b[0m\u001b[0;34m(\u001b[0m\u001b[0;36m5\u001b[0m\u001b[0;34m,\u001b[0m\u001b[0;36m5\u001b[0m\u001b[0;34m)\u001b[0m\u001b[0;34m\u001b[0m\u001b[0;34m\u001b[0m\u001b[0m\n\u001b[0;32m----> 2\u001b[0;31m \u001b[0madd\u001b[0m\u001b[0;34m(\u001b[0m\u001b[0;36m5\u001b[0m\u001b[0;34m,\u001b[0m\u001b[0;36m5\u001b[0m\u001b[0;34m)\u001b[0m \u001b[0;31m# will be run too frequently\u001b[0m\u001b[0;34m\u001b[0m\u001b[0;34m\u001b[0m\u001b[0m\n\u001b[0m",
      "\u001b[0;32m<ipython-input-37-a151d7e46213>\u001b[0m in \u001b[0;36minner\u001b[0;34m(*args, **kwargs)\u001b[0m\n\u001b[1;32m     14\u001b[0m                 \u001b[0mmsg\u001b[0m \u001b[0;34m=\u001b[0m \u001b[0;34m\"You're calling this function too often. Try again in \"\u001b[0m \u001b[0;34m+\u001b[0m\u001b[0;31m \u001b[0m\u001b[0;31m\\\u001b[0m\u001b[0;34m\u001b[0m\u001b[0;34m\u001b[0m\u001b[0m\n\u001b[1;32m     15\u001b[0m                               \u001b[0mstr\u001b[0m\u001b[0;34m(\u001b[0m\u001b[0mself\u001b[0m\u001b[0;34m.\u001b[0m\u001b[0mn\u001b[0m \u001b[0;34m-\u001b[0m \u001b[0mgap\u001b[0m\u001b[0;34m)\u001b[0m \u001b[0;34m+\u001b[0m \u001b[0;34m\" seconds.\"\u001b[0m\u001b[0;34m\u001b[0m\u001b[0;34m\u001b[0m\u001b[0m\n\u001b[0;32m---> 16\u001b[0;31m                 \u001b[0;32mraise\u001b[0m \u001b[0mException\u001b[0m\u001b[0;34m(\u001b[0m\u001b[0mmsg\u001b[0m\u001b[0;34m)\u001b[0m\u001b[0;34m\u001b[0m\u001b[0;34m\u001b[0m\u001b[0m\n\u001b[0m\u001b[1;32m     17\u001b[0m             \u001b[0mself\u001b[0m\u001b[0;34m.\u001b[0m\u001b[0mcalltime\u001b[0m \u001b[0;34m=\u001b[0m \u001b[0mtime\u001b[0m\u001b[0;34m.\u001b[0m\u001b[0mtime\u001b[0m\u001b[0;34m(\u001b[0m\u001b[0;34m)\u001b[0m\u001b[0;34m\u001b[0m\u001b[0;34m\u001b[0m\u001b[0m\n\u001b[1;32m     18\u001b[0m             \u001b[0;32mreturn\u001b[0m \u001b[0mf\u001b[0m\u001b[0;34m(\u001b[0m\u001b[0;34m*\u001b[0m\u001b[0margs\u001b[0m\u001b[0;34m,\u001b[0m \u001b[0;34m**\u001b[0m\u001b[0mkwargs\u001b[0m\u001b[0;34m)\u001b[0m\u001b[0;34m\u001b[0m\u001b[0;34m\u001b[0m\u001b[0m\n",
      "\u001b[0;31mException\u001b[0m: You're calling this function too often. Try again in 5.999936103820801 seconds."
     ]
    }
   ],
   "source": [
    "add(5,5)\n",
    "add(5,5) # will be run too frequently "
   ]
  },
  {
   "cell_type": "markdown",
   "metadata": {},
   "source": [
    "Let's compare the class-style decorator above to the function-style decorator below. Some points:\n",
    "* The outer layer `once_per_n` corresponds with  `__init__` above. Both take decorator parameters. \n",
    "* The `middle` below corresponds with the outer layer of `__call__` above \n",
    "* we don't have to use the `nonlocal` keyword because we can store values in `self`, like `self.calltime`\n",
    "* `inner` function is pretty similar across versions \n"
   ]
  },
  {
   "cell_type": "code",
   "execution_count": null,
   "metadata": {},
   "outputs": [],
   "source": [
    "def once_per_n(n): \n",
    "    def middle(f):\n",
    "        calltime = 0 \n",
    "        def inner(*args, **kwargs): \n",
    "            nonlocal calltime; \n",
    "            gap = time.time() - calltime \n",
    "            if gap < n: \n",
    "                msg = \"You're calling this function too often. Try again in \" + \\\n",
    "                          str(n - gap) + \" seconds.\"\n",
    "                raise Exception(msg)\n",
    "            calltime = time.time()\n",
    "            return f(*args, **kwargs)\n",
    "        return inner  \n",
    "    return middle "
   ]
  },
  {
   "cell_type": "markdown",
   "metadata": {},
   "source": [
    "### References / Further Reading"
   ]
  },
  {
   "cell_type": "markdown",
   "metadata": {},
   "source": [
    "* Reuven Lerner's talk: [Slides](https://speakerdeck.com/pycon2019/reuven-m-lerner-practical-decorators) and [Talk](https://www.youtube.com/watch?v=MjHpMCIvwsY&feature=youtu.be)\n",
    "* [Common uses of Python Decorators](https://stackoverflow.com/questions/489720/what-are-some-common-uses-for-python-decorators)\n",
    "* [Decorators with Parameters](https://stackoverflow.com/questions/5929107/decorators-with-parameters)\n",
    "* [Bruce Eckel: Introduction to Python Decorators I](https://www.artima.com/weblogs/viewpost.jsp?thread=240808) and [II](https://www.artima.com/weblogs/viewpost.jsp?thread=240845#decorator-functions-with-decorator-arguments)\n",
    "* [Python Decorator Library: A big list of decorator examples](https://wiki.python.org/moin/PythonDecoratorLibrary)"
   ]
  }
 ],
 "metadata": {
  "kernelspec": {
   "display_name": "Python 3",
   "language": "python",
   "name": "python3"
  }
 },
 "nbformat": 4,
 "nbformat_minor": 2
}
