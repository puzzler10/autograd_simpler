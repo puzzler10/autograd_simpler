{
 "cells": [
  {
   "cell_type": "markdown",
   "metadata": {},
   "source": [
    "## Setup "
   ]
  },
  {
   "cell_type": "code",
   "execution_count": null,
   "metadata": {},
   "outputs": [],
   "source": [
    "#hide\n",
    "from nbdev.showdoc import *\n",
    "%load_ext autoreload\n",
    "%autoreload 2\n",
    "from IPython.core.debugger import set_trace\n",
    "from IPython.display import Markdown as md\n",
    "import inspect \n",
    "\n",
    "import numpy as _np, numpy as np \n",
    "path_assets = './assets/'"
   ]
  },
  {
   "cell_type": "markdown",
   "metadata": {},
   "source": [
    "This is the second post in a series on computational graphs. If you haven't already, read the [last post](https://tomroth.com.au/compgraph1/) first, where we \n",
    "* looked at computational graphs and their use in autodiff packages.\n",
    "* looked at the autodiff problem and the structure of the `grad` function in `autograd`\n",
    "* showed how Python breaks down expressions to create computational graphs\n",
    "* created a simple graph manually using a simplified `Node` class "
   ]
  },
  {
   "cell_type": "markdown",
   "metadata": {},
   "source": [
    "How do we automatically create a computational graph for a function? We could create it manually last time, but we'll need to be able to do it automatically for any function. That's what we cover here. "
   ]
  },
  {
   "cell_type": "markdown",
   "metadata": {},
   "source": [
    "As a running example we'll use this logistic function:"
   ]
  },
  {
   "cell_type": "code",
   "execution_count": null,
   "metadata": {},
   "outputs": [],
   "source": [
    "def logistic(z):  return 1 / (1 + np.exp(-z))"
   ]
  },
  {
   "cell_type": "markdown",
   "metadata": {},
   "source": [
    "## Primitives "
   ]
  },
  {
   "cell_type": "markdown",
   "metadata": {},
   "source": [
    "Loosely speaking, a *primitive* is a basic operation, like $+, \\times,  /, \\exp$ or $\\log$ . We want to create a function for each primitive that adds them to a computation graph whenever they are called. Something like this: "
   ]
  },
  {
   "cell_type": "code",
   "execution_count": null,
   "metadata": {},
   "outputs": [],
   "source": [
    "def add_new(x,y): \n",
    "    # add to computation graph \n",
    "    print('Add to graph!')\n",
    "    return x+y"
   ]
  },
  {
   "cell_type": "markdown",
   "metadata": {},
   "source": [
    "\n",
    "The `numpy` package implements well-tested functions for each primitive, like `np.add`, `np.multiply` or `np.exp`. Because `numpy` goes to all the work of creating reliable, tested primitives, it'd be great to reuse their work instead of creating our functions from scratch. So that's what we'll do. "
   ]
  },
  {
   "cell_type": "markdown",
   "metadata": {},
   "source": [
    "We create a function `primitive` that  \n",
    "* takes a function `f` as an input (which will be a `numpy` function) \n",
    "* returns the same function `f`, except we add `f` to our computation graph as a `Node`. "
   ]
  },
  {
   "cell_type": "markdown",
   "metadata": {},
   "source": [
    "Here's the basic structure of `primitive`, just with placeholder code for the computational-graph adding bit. "
   ]
  },
  {
   "cell_type": "code",
   "execution_count": null,
   "metadata": {},
   "outputs": [],
   "source": [
    "def primitive(f): \n",
    "    def inner(*args, **kwargs): \n",
    "        \"\"\"This is a nested function\"\"\"\n",
    "        # add to graph\n",
    "        print(\"add to graph!\")\n",
    "        return f(*args, **kwargs)\n",
    "    return inner"
   ]
  },
  {
   "cell_type": "markdown",
   "metadata": {},
   "source": [
    "Use it like this. "
   ]
  },
  {
   "cell_type": "code",
   "execution_count": null,
   "metadata": {},
   "outputs": [
    {
     "name": "stdout",
     "output_type": "stream",
     "text": [
      "add to graph!\n",
      "4\n"
     ]
    }
   ],
   "source": [
    "mult_new = primitive(np.multiply)  # \n",
    "print(mult_new(1,4))"
   ]
  },
  {
   "cell_type": "markdown",
   "metadata": {},
   "source": [
    "Since `primitive` is a function that returns a function, we can also use it as a decorator. I've written this [other post on decorators](https://tomroth.com.au/decorators/) if you want to know more. "
   ]
  },
  {
   "cell_type": "code",
   "execution_count": null,
   "metadata": {},
   "outputs": [
    {
     "name": "stdout",
     "output_type": "stream",
     "text": [
      "add to graph!\n",
      "4\n"
     ]
    }
   ],
   "source": [
    "# another way to use it \n",
    "@primitive \n",
    "def mult_new2(*args, **kwargs): return np.multiply(*args, **kwargs)\n",
    "print(mult_new2(1,4))"
   ]
  },
  {
   "cell_type": "markdown",
   "metadata": {},
   "source": [
    "A problem with this as it stands is that we lose all the metadata of the `numpy` function we wrap in `primitive`, like its documentation and name. It won't get copied over. Instead this new function has the metadata of the nested function `inner` inside `primitive`. "
   ]
  },
  {
   "cell_type": "code",
   "execution_count": null,
   "metadata": {},
   "outputs": [
    {
     "name": "stdout",
     "output_type": "stream",
     "text": [
      "Name of new function: inner\n",
      "Doc of new function: This is a nested function\n"
     ]
    }
   ],
   "source": [
    "print(\"Name of new function:\", mult_new.__name__)\n",
    "print(\"Doc of new function:\", mult_new.__doc__)"
   ]
  },
  {
   "cell_type": "markdown",
   "metadata": {},
   "source": [
    "We obviously don't want this, but we can get around it by adding the `@wraps(f)` decorator from the `functools` package above `inner` inside the `primitive` definition. This copies over the name, docs, and some other things from the numpy function to our version. Now we don't lose all the documentation. "
   ]
  },
  {
   "cell_type": "code",
   "execution_count": null,
   "metadata": {},
   "outputs": [
    {
     "name": "stdout",
     "output_type": "stream",
     "text": [
      "multiply(x1, x2, /, out=None, *, where=True, casting='same_kind', order='K', dtype=None, subok=True[, signature, extobj])\n",
      "\n",
      "Multiply arguments element-wise.\n",
      "\n",
      "Parameters\n",
      "----------\n",
      "x1, x2 : array_like\n",
      "    Input arrays to be multiplied.\n",
      "out : ndarray, None, or tuple of ndarray and None, optional\n",
      "    A \n"
     ]
    }
   ],
   "source": [
    "from functools import wraps \n",
    "def primitive(f): \n",
    "    @wraps(f)\n",
    "    def inner(*args, **kwargs): \n",
    "        \"\"\"This is a nested function\"\"\"\n",
    "        # add to graph\n",
    "        print(\"add to graph!\")\n",
    "        return f(*args, **kwargs)\n",
    "    return inner\n",
    "\n",
    "mult_new3 = primitive(np.multiply) \n",
    "mult_new3.__name__  # multiply\n",
    "print(mult_new3.__doc__[0:300])"
   ]
  },
  {
   "cell_type": "markdown",
   "metadata": {},
   "source": [
    "### Creating primitives"
   ]
  },
  {
   "cell_type": "markdown",
   "metadata": {},
   "source": [
    "Last time we created a Node class. Remember, Nodes hold operations/primitives in them (as the `fun` attribute), the value at that point, and their parents in the graph.   "
   ]
  },
  {
   "cell_type": "markdown",
   "metadata": {},
   "source": [
    "Below is the same `Node` class. I have just added a `__repr__` method to make debugging a bit easier. "
   ]
  },
  {
   "cell_type": "code",
   "execution_count": null,
   "metadata": {},
   "outputs": [],
   "source": [
    "class Node:\n",
    "    \"\"\"A node in a computation graph.\"\"\"\n",
    "    def __init__(self, value, fun, parents):\n",
    "        self.parents = parents\n",
    "        self.value = value\n",
    "        self.fun = fun \n",
    "        \n",
    "    def __repr__(self): \n",
    "        \"\"\"A (very) basic string representation\"\"\"\n",
    "        if self.value is None: str_val = 'None'\n",
    "        else:                  str_val = str(round(self.value,3))\n",
    "        return   \"\\n\" + \"Fun: \" + str(self.fun) +\\\n",
    "                \" Value: \"+ str_val + \\\n",
    "                \" Parents: \" + str(self.parents) \n",
    "    "
   ]
  },
  {
   "cell_type": "markdown",
   "metadata": {},
   "source": [
    "Let's create some primitives. There are a few differences to before:\n",
    "* `inner` doesn't return a function value like `f(*args, **kwargs)`, but a `Node` with the function value as the `value` attribute: `Node(f(*args, **kwargs), f, args)`\n",
    "* Sometimes `Node`'s interact with integers. There is some extra code below to handle that situation, mostly around extracting the `value` attribute of the node and savng that in `args` and `kwargs` for use in `f`. "
   ]
  },
  {
   "cell_type": "code",
   "execution_count": null,
   "metadata": {},
   "outputs": [],
   "source": [
    "from functools import wraps\n",
    "def primitive(f): \n",
    "    @wraps(f)\n",
    "    def inner(*args, **kwargs):\n",
    "        ## Code to add operation/primitive to computation graph\n",
    "        \n",
    "        # We need to separate out the integer/non node case. Sometimes you are adding \n",
    "        # constants to nodes. \n",
    "        def getval(o):      return o.value if type(o) == Node else o\n",
    "        if len(args):       argvals = [getval(o) for o in args]\n",
    "        else:               argvals = args\n",
    "        if len(kwargs):     kwargvals = dict([(k,getval(o)) for k,o in kwargs.items()])\n",
    "        else:               kwargvals =  kwargs\n",
    "         \n",
    "        # get parents \n",
    "        l = list(args) + list(kwargs.values())\n",
    "        parents = [o for o in l if type(o) == Node ]\n",
    "        \n",
    "        value = f(*argvals, **kwargvals)\n",
    "        print(\"add\", \"'\" + f.__name__ + \"'\", \"to graph with value\",value)\n",
    "        return Node(value, f, parents)\n",
    "    return inner"
   ]
  },
  {
   "cell_type": "markdown",
   "metadata": {},
   "source": [
    "Now wrap some basic `numpy` functions with `primitive` to get computational-graph versions of these functions: "
   ]
  },
  {
   "cell_type": "code",
   "execution_count": null,
   "metadata": {},
   "outputs": [],
   "source": [
    "add_new = primitive(np.add)\n",
    "mul_new = primitive(np.multiply)\n",
    "div_new = primitive(np.divide)\n",
    "sub_new = primitive(np.subtract)\n",
    "neg_new = primitive(np.negative)\n",
    "exp_new = primitive(np.exp)"
   ]
  },
  {
   "cell_type": "markdown",
   "metadata": {},
   "source": [
    "Let's try it out! We can't try it out on our `logistic` function yet, because that uses operators like $+$ and $\\times$ instead of `np.add` and `np.multiply`, and we haven't done any operator overloading. But we can write out the `logistic` function in terms of the operators and see if it works. We should get a final value of `0.818` (and indeed we do). "
   ]
  },
  {
   "cell_type": "code",
   "execution_count": null,
   "metadata": {},
   "outputs": [
    {
     "name": "stdout",
     "output_type": "stream",
     "text": [
      "add 'multiply' to graph with value -1.5\n",
      "add 'exp' to graph with value 0.22313016014842982\n",
      "add 'add' to graph with value 1.22313016014843\n",
      "add 'true_divide' to graph with value 0.8175744761936437\n",
      "Final answer: 0.818\n"
     ]
    }
   ],
   "source": [
    "def start_node(value = None): \n",
    "    \"\"\"A function to create an empty node to start off the graph\"\"\"\n",
    "    fun,parents = lambda x: x, []\n",
    "    return Node(value, fun, parents)\n",
    "\n",
    "z = start_node(1.5)\n",
    "t1 = mul_new(z, -1)\n",
    "t2 = exp_new(t1)\n",
    "t3 = add_new(t2, 1)\n",
    "y = div_new(1,t3)\n",
    "print(\"Final answer:\", round(y.value,3))  # correct final output "
   ]
  },
  {
   "cell_type": "markdown",
   "metadata": {},
   "source": [
    "Here is the graph of `y`: "
   ]
  },
  {
   "cell_type": "code",
   "execution_count": null,
   "metadata": {},
   "outputs": [
    {
     "data": {
      "text/plain": [
       "\n",
       "Fun: <ufunc 'true_divide'> Value: 0.818 Parents: [\n",
       "Fun: <ufunc 'add'> Value: 1.223 Parents: [\n",
       "Fun: <ufunc 'exp'> Value: 0.223 Parents: [\n",
       "Fun: <ufunc 'multiply'> Value: -1.5 Parents: [\n",
       "Fun: <function start_node.<locals>.<lambda> at 0x10fea27b8> Value: 1.5 Parents: []]]]]"
      ]
     },
     "execution_count": null,
     "metadata": {},
     "output_type": "execute_result"
    }
   ],
   "source": [
    "y"
   ]
  },
  {
   "cell_type": "markdown",
   "metadata": {},
   "source": [
    "### Operator overloading "
   ]
  },
  {
   "cell_type": "markdown",
   "metadata": {},
   "source": [
    "We want to be able to use these functions for common operators. In other words, if we define a function `def f(x,y): return x+y`, and we pass in two `Node` objects to `f` as `x` and `y`, we want `f` to use our `add_new` method. "
   ]
  },
  {
   "cell_type": "markdown",
   "metadata": {},
   "source": [
    "Let's do this. All we have to do is redefine a version of `Node` that implements the relevant dunder methods:"
   ]
  },
  {
   "cell_type": "code",
   "execution_count": null,
   "metadata": {},
   "outputs": [],
   "source": [
    "class Node:\n",
    "    \"\"\"A node in a computation graph.\"\"\"\n",
    "    def __init__(self, value, fun, parents):\n",
    "        self.parents = parents\n",
    "        self.value = value\n",
    "        self.fun = fun \n",
    "        \n",
    "    def __repr__(self): \n",
    "        \"\"\"A (very) basic string representation\"\"\"\n",
    "        if self.value is None: str_val = 'None'\n",
    "        else:                  str_val = str(round(self.value,3))\n",
    "        return   \"\\n\" + \"Fun: \" + str(self.fun) +\\\n",
    "                \" Value: \"+ str_val + \\\n",
    "                \" Parents: \" + str(self.parents) \n",
    "    \n",
    "    ## Code to overload operators\n",
    "    # Don't put self.value or other.value in the arguments of these functions, \n",
    "    # otherwise you won't be able to access the Node object to create the \n",
    "    # computational graph. \n",
    "    # Instead, pass the whole node through. And to prevent recursion errors, \n",
    "    # extract the value inside the `primitive` function. \n",
    "    def __add__(self, other): return add_new(self, other)\n",
    "    def __radd__(self, other): return add_new(other, self)\n",
    "    def __sub__(self, other): return sub_new(self, other)\n",
    "    def __rsub__(self, other): return sub_new(other, self)\n",
    "    def __truediv__(self, other): return div_new(self, other)\n",
    "    def __rtruediv__(self, other): return div_new(other, self)\n",
    "    def __mul__(self, other): return mul_new(self, other)\n",
    "    def __rmul__(self, other): return mul_new(other, self)\n",
    "    def __neg__(self): return neg_new(self)\n",
    "    def __exp__(self): return exp_new(self)\n",
    "    "
   ]
  },
  {
   "cell_type": "markdown",
   "metadata": {},
   "source": [
    "Now we can add nodes using $+$, divide them with $/$ and so on. Here is a basic example of adding Nodes with $+$: "
   ]
  },
  {
   "cell_type": "code",
   "execution_count": null,
   "metadata": {},
   "outputs": [
    {
     "name": "stdout",
     "output_type": "stream",
     "text": [
      "add 'add' to graph with value 5.5\n"
     ]
    }
   ],
   "source": [
    "val_z = 1.5 \n",
    "z = Node(val_z, None, [])\n",
    "val_t1 = 4\n",
    "t1 = Node(val_t1, None, [])\n",
    "y = z + t1 "
   ]
  },
  {
   "cell_type": "code",
   "execution_count": null,
   "metadata": {},
   "outputs": [
    {
     "data": {
      "text/plain": [
       "\n",
       "Fun: <ufunc 'add'> Value: 5.5 Parents: [\n",
       "Fun: None Value: 1.5 Parents: [], \n",
       "Fun: None Value: 4 Parents: []]"
      ]
     },
     "execution_count": null,
     "metadata": {},
     "output_type": "execute_result"
    }
   ],
   "source": [
    "# the graph of y\n",
    "y"
   ]
  },
  {
   "cell_type": "markdown",
   "metadata": {},
   "source": [
    "Let's try it out on a modified version of `logistic` function that uses our `exp_new` function. "
   ]
  },
  {
   "cell_type": "code",
   "execution_count": null,
   "metadata": {},
   "outputs": [],
   "source": [
    "def logistic2(z):  return 1 / (1 + exp_new(-z))"
   ]
  },
  {
   "cell_type": "code",
   "execution_count": null,
   "metadata": {},
   "outputs": [
    {
     "name": "stdout",
     "output_type": "stream",
     "text": [
      "add 'negative' to graph with value -1.5\n",
      "add 'exp' to graph with value 0.22313016014842982\n",
      "add 'add' to graph with value 1.22313016014843\n",
      "add 'true_divide' to graph with value 0.8175744761936437\n"
     ]
    }
   ],
   "source": [
    "y = logistic2(start_node(value = 1.5))"
   ]
  },
  {
   "cell_type": "code",
   "execution_count": null,
   "metadata": {},
   "outputs": [
    {
     "name": "stdout",
     "output_type": "stream",
     "text": [
      "\n",
      "Fun: <ufunc 'true_divide'> Value: 0.818 Parents: [\n",
      "Fun: <ufunc 'add'> Value: 1.223 Parents: [\n",
      "Fun: <ufunc 'exp'> Value: 0.223 Parents: [\n",
      "Fun: <ufunc 'negative'> Value: -1.5 Parents: [\n",
      "Fun: <function start_node.<locals>.<lambda> at 0x10fe90f28> Value: 1.5 Parents: []]]]]\n"
     ]
    }
   ],
   "source": [
    "# graph\n",
    "print(y)"
   ]
  },
  {
   "cell_type": "markdown",
   "metadata": {},
   "source": [
    "Sweet! It is working.  Now try a multivariate functions. "
   ]
  },
  {
   "cell_type": "code",
   "execution_count": null,
   "metadata": {},
   "outputs": [],
   "source": [
    "def somefun(x,y):  return (x*y + exp_new(x)*exp_new(y))/(4*y)\n",
    "def somefun2(x,y):  return (x*y + np.exp(x)*np.exp(y))/(4*y)"
   ]
  },
  {
   "cell_type": "code",
   "execution_count": null,
   "metadata": {},
   "outputs": [
    {
     "name": "stdout",
     "output_type": "stream",
     "text": [
      "add 'multiply' to graph with value 12\n",
      "add 'exp' to graph with value 20.085536923187668\n",
      "add 'exp' to graph with value 54.598150033144236\n",
      "add 'multiply' to graph with value 1096.6331584284585\n",
      "add 'add' to graph with value 1108.6331584284585\n",
      "add 'multiply' to graph with value 16\n",
      "add 'true_divide' to graph with value 69.28957240177866\n"
     ]
    }
   ],
   "source": [
    "val_x, val_y = 3,4 \n",
    "ans = somefun(start_node(3), start_node(4))"
   ]
  },
  {
   "cell_type": "code",
   "execution_count": null,
   "metadata": {},
   "outputs": [
    {
     "name": "stdout",
     "output_type": "stream",
     "text": [
      "\n",
      "Fun: <ufunc 'true_divide'> Value: 69.29 Parents: [\n",
      "Fun: <ufunc 'add'> Value: 1108.633 Parents: [\n",
      "Fun: <ufunc 'multiply'> Value: 12 Parents: [\n",
      "Fun: <function start_node.<locals>.<lambda> at 0x11c566f28> Value: 3 Parents: [], \n",
      "Fun: <function start_node.<locals>.<lambda> at 0x11c566730> Value: 4 Parents: []], \n",
      "Fun: <ufunc 'multiply'> Value: 1096.633 Parents: [\n",
      "Fun: <ufunc 'exp'> Value: 20.086 Parents: [\n",
      "Fun: <function start_node.<locals>.<lambda> at 0x11c566f28> Value: 3 Parents: []], \n",
      "Fun: <ufunc 'exp'> Value: 54.598 Parents: [\n",
      "Fun: <function start_node.<locals>.<lambda> at 0x11c566730> Value: 4 Parents: []]]], \n",
      "Fun: <ufunc 'multiply'> Value: 16 Parents: [\n",
      "Fun: <function start_node.<locals>.<lambda> at 0x11c566730> Value: 4 Parents: []]]\n"
     ]
    }
   ],
   "source": [
    "# graph\n",
    "print(ans)"
   ]
  },
  {
   "cell_type": "markdown",
   "metadata": {},
   "source": [
    "The result looks complex, but that is because our __repr__ is basic and doesn't handle nested representations. Still, all the information is there, and we have created a computational graph successfully. "
   ]
  },
  {
   "cell_type": "markdown",
   "metadata": {},
   "source": [
    "## Next steps"
   ]
  },
  {
   "cell_type": "markdown",
   "metadata": {},
   "source": [
    "At this point we can create functions using common operators and automatically trace their computation graph. Nice!"
   ]
  },
  {
   "cell_type": "markdown",
   "metadata": {},
   "source": [
    "But we aren't quite there yet. There's a few things missing.\n",
    "* we don't want to replace `np.add` with `add_new`, `np.exp` with `exp_new` etc everywhere. That's a pain, especially we have a lot of code to do that for. \n",
    "* currently we have to implement primitives for every `numpy` function we want. Is there a way to get them all?\n",
    "* how do we handle non-differentiable functions? \n",
    "* can we put all this code into a module?\n"
   ]
  },
  {
   "cell_type": "markdown",
   "metadata": {},
   "source": [
    "We'll cover these in the [next post!](https://tomroth.com.au/compgraph3/)"
   ]
  }
 ],
 "metadata": {
  "kernelspec": {
   "display_name": "Python 3",
   "language": "python",
   "name": "python3"
  }
 },
 "nbformat": 4,
 "nbformat_minor": 2
}
