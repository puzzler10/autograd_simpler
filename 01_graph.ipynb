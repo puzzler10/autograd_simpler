{
 "cells": [
  {
   "cell_type": "markdown",
   "metadata": {},
   "source": [
    "## Setup "
   ]
  },
  {
   "cell_type": "code",
   "execution_count": null,
   "metadata": {},
   "outputs": [],
   "source": [
    "#hide\n",
    "from nbdev.showdoc import *\n",
    "%load_ext autoreload\n",
    "%autoreload 2\n",
    "from IPython.core.debugger import set_trace\n",
    "from IPython.display import Markdown as md\n"
   ]
  },
  {
   "cell_type": "code",
   "execution_count": null,
   "metadata": {},
   "outputs": [],
   "source": [
    "import numpy as _np, numpy as np \n",
    "path_assets = './assets/'"
   ]
  },
  {
   "cell_type": "markdown",
   "metadata": {},
   "source": [
    "## Graph building "
   ]
  },
  {
   "cell_type": "code",
   "execution_count": null,
   "metadata": {},
   "outputs": [],
   "source": [
    "def f(z):  return 1 / (1 + np.exp(-z))\n",
    "def f2(z): return np.divide(1,np.add(1, np.exp(np.negative(z))))\n",
    "def f3(z): \n",
    "    t1 = np.negative(z) \n",
    "    t2 = np.exp(t1)\n",
    "    t3 = np.add(1, t2)\n",
    "    y = np.divide(1,t3) \n",
    "    return y "
   ]
  },
  {
   "cell_type": "markdown",
   "metadata": {},
   "source": [
    "How to go from `f` to computation graph? "
   ]
  },
  {
   "cell_type": "markdown",
   "metadata": {},
   "source": [
    "Start with the easier problem: going from `f3` to computation graph. "
   ]
  },
  {
   "cell_type": "code",
   "execution_count": null,
   "metadata": {},
   "outputs": [
    {
     "name": "stdout",
     "output_type": "stream",
     "text": [
      "add to graph!\n",
      "4\n",
      "add to graph!\n",
      "4\n"
     ]
    }
   ],
   "source": [
    "# The basic structure to creating new functions \n",
    "def primitive(f): \n",
    "    def inner(*args, **kwargs): \n",
    "        print(\"add to graph!\")\n",
    "        return f(*args, **kwargs)\n",
    "    return inner\n",
    "\n",
    "# first way to use it \n",
    "new_mult = primitive(np.multiply)\n",
    "print(new_mult(1,4))\n",
    "\n",
    "# second way to use it \n",
    "@primitive \n",
    "def new_mult2(*args, **kwargs): return np.multiply(*args, **kwargs)\n",
    "print(new_mult2(1,4))"
   ]
  },
  {
   "cell_type": "code",
   "execution_count": null,
   "metadata": {},
   "outputs": [],
   "source": [
    "def primitive(fun): \n",
    "    \"\"\"Apply this to differentiable functions\"\"\"\n",
    "    def innerfun(*args, **kwargs):\n",
    "        # code to seperate out the integer/non node case. sometimes you are adding \n",
    "        # constants to nodes. \n",
    "        def getval(o):      return o.value if type(o) == Node else o\n",
    "        if len(args):       node_values = [getval(o) for o in args]\n",
    "        if len(kwargs):     raise Exception(\"to implement\")\n",
    "        # print(\"add to graph!\")\n",
    "        return Node(fun(*node_values, **kwargs), fun, args)\n",
    "    return innerfun"
   ]
  },
  {
   "cell_type": "code",
   "execution_count": null,
   "metadata": {},
   "outputs": [],
   "source": [
    "def notrace_primitive(fun): \n",
    "    \"\"\"Doesn't really do much. Evaluates functions, doesn't add them to the computation graph. \"\"\"\n",
    "    def innerfun(*args, **kwargs): \n",
    "        return fun(*args, **kwargs)\n",
    "    return innerfun "
   ]
  },
  {
   "cell_type": "code",
   "execution_count": null,
   "metadata": {},
   "outputs": [],
   "source": [
    "# register some new functions \n",
    "# usually we'd do this for every function in numpy\n",
    "add_new = primitive(np.add)\n",
    "mul_new = primitive(np.multiply)\n",
    "div_new = primitive(np.divide)\n",
    "sub_new = primitive(np.subtract)\n",
    "neg_new = primitive(np.negative)\n",
    "exp_new = primitive(np.exp)\n"
   ]
  },
  {
   "cell_type": "markdown",
   "metadata": {},
   "source": [
    "Here's a problem. When we wrap a function with this primitive stuff, we lose all the documentation of the original function. So `add_new` won't have any of the documentation of `np.add` in it. "
   ]
  },
  {
   "cell_type": "code",
   "execution_count": null,
   "metadata": {},
   "outputs": [
    {
     "name": "stdout",
     "output_type": "stream",
     "text": [
      "multiply\n",
      "inner\n"
     ]
    }
   ],
   "source": [
    "print(np.multiply.__name__)\n",
    "print(new_mult.__name__)"
   ]
  },
  {
   "cell_type": "markdown",
   "metadata": {},
   "source": [
    "What you want is some kind of \"function machine\", (i.e. a higher order function ) `f_copier` that takes in a function `f_no_docs`, makes the documentation of `f_no_docs` the same as another function `f_with_docs`, leaves `f_no_docs` unchanged otherwise, and then returns `f_no_docs`. Something like this. "
   ]
  },
  {
   "cell_type": "code",
   "execution_count": null,
   "metadata": {},
   "outputs": [],
   "source": [
    "def f_copier(f_with_docs): \n",
    "    def documentation_adder(f_no_docs): \n",
    "        f_no_docs.__doc__ = f_with_docs.__doc__\n",
    "        f_no_docs.__name__ = f_with_docs.__name__\n",
    "        return f_no_docs\n",
    "    return documentation_adder"
   ]
  },
  {
   "cell_type": "markdown",
   "metadata": {},
   "source": [
    "Higher order functions, or functions that return functions, can be used as decorators in Python. Any parameters you provide to the decorator get passed to the inner function, and if there is no inner function, you'll get an error. "
   ]
  },
  {
   "cell_type": "markdown",
   "metadata": {},
   "source": [
    "Let's look at how these work. Here is the no-parameter case:"
   ]
  },
  {
   "cell_type": "code",
   "execution_count": null,
   "metadata": {},
   "outputs": [
    {
     "data": {
      "text/plain": [
       "'a new doc'"
      ]
     },
     "execution_count": null,
     "metadata": {},
     "output_type": "execute_result"
    }
   ],
   "source": [
    "# changedoc is a function that changes documentation string of another function. \n",
    "def changedoc(f1): \n",
    "    f1.__doc__ = \"a new doc\"\n",
    "    return f1\n",
    "\n",
    "# Testing changedoc on some functions. \n",
    "# This one we use without a decorator. \n",
    "def somefun(x): return x+1\n",
    "somefun = changedoc(somefun)\n",
    "somefun.__doc__  # returns \"a new doc\"\n",
    "\n",
    "@changedoc\n",
    "def anotherfun(x): return x+2\n",
    "anotherfun.__doc__  # returns \"a new doc\""
   ]
  },
  {
   "cell_type": "markdown",
   "metadata": {},
   "source": [
    "Here we use decorators with parameters. Use the decorator with the outer function, and the parameter to the decorator is the same as the parameter to the outer function. Then the function under the decorator becomes the argument to the inner function. So the inner function must take a function as an argument. "
   ]
  },
  {
   "cell_type": "markdown",
   "metadata": {},
   "source": [
    "This one is a bit of a strange example. The decorator turns a function into an integer. "
   ]
  },
  {
   "cell_type": "code",
   "execution_count": null,
   "metadata": {},
   "outputs": [
    {
     "name": "stdout",
     "output_type": "stream",
     "text": [
      "{'f': <function twentyfour at 0x10f69af28>, 'x': 4}\n",
      "{'f': <function nineteen at 0x10531f488>, 'x': 3}\n"
     ]
    },
    {
     "data": {
      "text/plain": [
       "19"
      ]
     },
     "execution_count": null,
     "metadata": {},
     "output_type": "execute_result"
    }
   ],
   "source": [
    "def add_x_to_f(x): \n",
    "    def inner(f): \n",
    "        \"\"\"A function that adds the number x to the result of f() and returns the result\"\"\"\n",
    "        print(locals())\n",
    "        return f() + x \n",
    "    return inner\n",
    "\n",
    "def twentyfour(): return 24\n",
    "add_four = add_x_to_f(4)\n",
    "add_four(twentyfour)\n",
    "\n",
    "@add_x_to_f(3)\n",
    "def nineteen(): return 16\n",
    "nineteen"
   ]
  },
  {
   "cell_type": "markdown",
   "metadata": {},
   "source": [
    "Here is another example. The decorator is called without arguments. This means `add_eighteen` becomes `f` in `add_x_to_f`. The function `add_eighteen` becomes `inner`, meaning it accepts a parameter, `x`. This is confusing because in the definition of `add_eighteen` it doesn't have any parameters, but the decorator gives it one. "
   ]
  },
  {
   "cell_type": "code",
   "execution_count": null,
   "metadata": {},
   "outputs": [
    {
     "data": {
      "text/plain": [
       "21"
      ]
     },
     "execution_count": null,
     "metadata": {},
     "output_type": "execute_result"
    }
   ],
   "source": [
    "def add_x_to_f(f): \n",
    "    def inner(x): \n",
    "        return f() + x\n",
    "    return inner\n",
    "\n",
    "@add_x_to_f\n",
    "def add_eighteen(): return 18\n",
    "add_eighteen(3) # gives 21"
   ]
  },
  {
   "cell_type": "markdown",
   "metadata": {},
   "source": [
    "This works, but the decorator effectively doesn't do anything. There isn't any difference if we use the decorator or not. "
   ]
  },
  {
   "cell_type": "code",
   "execution_count": null,
   "metadata": {},
   "outputs": [
    {
     "data": {
      "text/plain": [
       "22"
      ]
     },
     "execution_count": null,
     "metadata": {},
     "output_type": "execute_result"
    }
   ],
   "source": [
    "def add_x_to_f(f): \n",
    "    def inner(*args): \n",
    "        return f(*args)\n",
    "    return inner \n",
    "\n",
    "@add_x_to_f\n",
    "def add_eighteen(x): return 18 + x\n",
    "add_eighteen(4)"
   ]
  },
  {
   "cell_type": "markdown",
   "metadata": {},
   "source": [
    "Here is a decorator used for timing functions. The function `add_stuff` goes into the `f` argument for `time_it`. The arguments `x` and `y` in `add_stuff` are caught by `*args` in `wrapper` and are accessed in a tuple in the `args` variable. "
   ]
  },
  {
   "cell_type": "code",
   "execution_count": null,
   "metadata": {},
   "outputs": [
    {
     "name": "stdout",
     "output_type": "stream",
     "text": [
      "add_stuff takes 2.776999735942809e-06 seconds.\n"
     ]
    },
    {
     "data": {
      "text/plain": [
       "3"
      ]
     },
     "execution_count": null,
     "metadata": {},
     "output_type": "execute_result"
    }
   ],
   "source": [
    "import time \n",
    "def time_it(f): \n",
    "    def inner(*args): \n",
    "        t = time.perf_counter()\n",
    "        result = f(*args)\n",
    "        print (f.__name__ + \" takes \" +  str(time.perf_counter() - t) + \" seconds.\")\n",
    "        return result \n",
    "    return inner\n",
    "\n",
    "@time_it\n",
    "def add_stuff(x,y): return x+y\n",
    "add_stuff(1,2)"
   ]
  },
  {
   "cell_type": "markdown",
   "metadata": {},
   "source": [
    "Here is one for logging "
   ]
  },
  {
   "cell_type": "code",
   "execution_count": null,
   "metadata": {},
   "outputs": [],
   "source": [
    "def add_logs(f): \n",
    "    def inner(*args, **kwargs): \n",
    "        print('write', *args, \"to file\")\n",
    "        return f(*args, **kwargs)\n",
    "    return inner    \n",
    "\n",
    "@add_logs\n",
    "def somefun(x,y,z): return x+y+z\n",
    "somefun(1,4,3)"
   ]
  },
  {
   "cell_type": "markdown",
   "metadata": {},
   "source": [
    "This example runs some unit tests against a function the first time you define it. This is useful to see if you make a mistake or not. Also, if you change the definition of the function, the tests will run automatically. "
   ]
  },
  {
   "cell_type": "code",
   "execution_count": null,
   "metadata": {},
   "outputs": [
    {
     "name": "stdout",
     "output_type": "stream",
     "text": [
      "Test 1 2 4 passed.\n",
      "Test 1 2 7 passed.\n",
      "Test 10 0 0 passed.\n",
      "Test -10 10 10 passed.\n",
      "Test 4 0 7 passed.\n"
     ]
    }
   ],
   "source": [
    "def run_tests(tests): \n",
    "    def inner(f, *args, **kwargs):\n",
    "        for test in tests: \n",
    "            params, result = test\n",
    "            if f(*params) == result: print(\"Test\", *params, \"passed.\")\n",
    "            else:                    print(\"Test\", *params, \"failed.\")\n",
    "        return f\n",
    "    return inner\n",
    "\n",
    "@run_tests([\n",
    "    [(1,2,4), False],\n",
    "    [(1,2,7), True],\n",
    "    [(10,0,0),True], \n",
    "    [(-10,10,10),True],\n",
    "    [(4,0,7), False]\n",
    "])\n",
    "def adds_to_ten(x,y,z): return True if x+y+z==10 else False "
   ]
  },
  {
   "cell_type": "markdown",
   "metadata": {},
   "source": [
    "We'll now convert this to the terminology used in autograd packages. Instead of `f_copier`, call it `wraps`, because eventually you can use this as a decorator to \"wrap\" a function. This inner function `documentation_adder` gets called `_wraps`. I'll keep the variable names \n"
   ]
  },
  {
   "cell_type": "code",
   "execution_count": null,
   "metadata": {},
   "outputs": [],
   "source": [
    "def wraps(f_docs)"
   ]
  },
  {
   "cell_type": "markdown",
   "metadata": {},
   "source": [
    "Example: \n",
    "```\n",
    "def f1(): \n",
    "\"\"\"docstring of f1\"\"\"\n",
    "return 1\n",
    "\n",
    "@wraps(f1) \n",
    "def f2(): return 2\n",
    "```\n",
    "\n",
    "which is the same as \n",
    "```\n",
    "f_wraps = wraps(f1)\n",
    "f2 = f_wraps(f1)\n",
    "```\n",
    "If you look at docstring and `__name__` of `f2`, they are the same as `f1`. \n",
    "\n"
   ]
  },
  {
   "cell_type": "code",
   "execution_count": null,
   "metadata": {},
   "outputs": [],
   "source": [
    "def wraps(f): \n",
    "    \"\"\"\n",
    "    Copies documentation and name of f2 to f. \n",
    "    Does this by returning a function that copies documentation of f to whatever you give it. \n",
    "    \n",
    "    f is the function which you want to copy the documentation of. \n",
    "    f2 below is the new function that you want to have the same documentation as f. \n",
    "    \"\"\"\n",
    "    def inner(f2): \n",
    "        f2.__name__ = f.__name__\n",
    "        f2.__doc__  = f.__doc__\n",
    "        return f2\n",
    "    return inner "
   ]
  },
  {
   "cell_type": "markdown",
   "metadata": {},
   "source": [
    "Here is how to use `wraps`. You can use it as a decorator or not as a decorator. It's easiest as a decorator. "
   ]
  },
  {
   "cell_type": "code",
   "execution_count": null,
   "metadata": {},
   "outputs": [],
   "source": [
    "### DECORATOR\n",
    "# Copy documentation from np.add to some_add_fun\n",
    "@wraps(np.add)\n",
    "def some_add_fun(x,y): \n",
    "    return x+y"
   ]
  },
  {
   "cell_type": "code",
   "execution_count": null,
   "metadata": {},
   "outputs": [],
   "source": [
    "### NON-DECORATOR \n",
    "def some_add_fun(x,y): \n",
    "    return x+y\n",
    "np_add_wrapper = wraps(np.add)\n",
    "some_add_fun =  np_add_wrapper(some_add_fun)\n",
    "#some_add_fun now has the same documentation as np.add"
   ]
  },
  {
   "cell_type": "code",
   "execution_count": null,
   "metadata": {},
   "outputs": [],
   "source": []
  },
  {
   "cell_type": "code",
   "execution_count": null,
   "metadata": {},
   "outputs": [],
   "source": [
    "def primitive(f): \n",
    "    @wraps(f)\n",
    "    def inner(*args, **kwargs): \n",
    "        print(\"add to graph!\")\n",
    "        return f(*args, **kwargs)\n",
    "    return inner"
   ]
  },
  {
   "cell_type": "code",
   "execution_count": null,
   "metadata": {},
   "outputs": [],
   "source": [
    "mul_new = primitive(np.multiply)\n",
    "mul_new(5,2)"
   ]
  },
  {
   "cell_type": "code",
   "execution_count": null,
   "metadata": {},
   "outputs": [],
   "source": [
    "def fun_with_docs(): \"\"\"here are some textual things\"\"\""
   ]
  },
  {
   "cell_type": "code",
   "execution_count": null,
   "metadata": {},
   "outputs": [],
   "source": [
    "@wraps(fun_with_docs)\n",
    "def a_fun(x): return x+1"
   ]
  },
  {
   "cell_type": "code",
   "execution_count": null,
   "metadata": {},
   "outputs": [],
   "source": [
    "# f_that_adds_documentation = wraps(fun_with_docs)\n",
    "# a_fun = f_that_adds_documentation(fun_with_docs)\n",
    "# a_fun.__doc__\n"
   ]
  },
  {
   "cell_type": "code",
   "execution_count": null,
   "metadata": {},
   "outputs": [],
   "source": []
  },
  {
   "cell_type": "code",
   "execution_count": null,
   "metadata": {},
   "outputs": [],
   "source": []
  },
  {
   "cell_type": "code",
   "execution_count": null,
   "metadata": {},
   "outputs": [],
   "source": []
  },
  {
   "cell_type": "code",
   "execution_count": null,
   "metadata": {},
   "outputs": [],
   "source": []
  },
  {
   "cell_type": "code",
   "execution_count": null,
   "metadata": {},
   "outputs": [],
   "source": [
    "class Node: \n",
    "    def __init__(self, value, fun,  parents): \n",
    "        self.value,self.fun,self.parents = value,fun,parents\n",
    "        self.recipe = (fun, value)\n",
    "        self.depth = 0 if parents == [] else 1+max(\n",
    "            [o.depth if type(o)==Node else 0 for o in parents]) \n",
    "        \n",
    "#     def get_max_depth(node, curr_max=0): \n",
    "#         if node.depth > curr_max: curr_max = node.depth \n",
    "#         for p in node.parents: print(p); get_max_depth(p, curr_max)\n",
    "#         return curr_max\n",
    "    \n",
    "    def __repr__(self): \n",
    "        if self.value is None: str_val = 'None'\n",
    "        else:                  str_val = str(round(self.recipe[1],3))\n",
    "        return \"\\n\" + self.depth * \"\\t\" + \"Fun: \" + str(self.recipe[0]) +\\\n",
    "                \" Value: \"+ str_val + \\\n",
    "                \" Parents: \" + str(self.parents) \n",
    "\n",
    "    ## Overwrite operators to use our functions \n",
    "    # Don't put self.value or other.value in the arguments of these functions, \n",
    "    # otherwise you won't be able to access the Node object to create the \n",
    "    # computational graph. \n",
    "    # Instead, pass the whole node through. And to prevent recursion errors, \n",
    "    # extract the value inside the `primitive` function. \n",
    "    def __add__(self, other): return add_new(self, other)\n",
    "    def __radd__(self, other): return add_new(other, self)\n",
    "    def __sub__(self, other): return sub_new(self, other)\n",
    "    def __rsub__(self, other): return sub_new(other, self)\n",
    "    def __truediv__(self, other): return div_new(self, other)\n",
    "    def __rtruediv__(self, other): return div_new(other, self)\n",
    "    def __mul__(self, other): return mul_new(self, other)\n",
    "    def __rmul__(self, other): return mul_new(other, self)\n",
    "    def __neg__(self): return neg_new(self)\n",
    "    def __exp__(self): return exp_new(self)\n",
    "    \n"
   ]
  },
  {
   "cell_type": "code",
   "execution_count": null,
   "metadata": {},
   "outputs": [],
   "source": [
    "# manual way with np functions \n",
    "val_z = 1.5 \n",
    "z = Node(val_z, None, [])\n",
    "val_t1 = np.negative(val_z)\n",
    "t1 = Node(val_t1,np.negative, [z])\n",
    "val_t2 = np.exp(val_t1)\n",
    "t2 = Node(val_t2, np.exp, [t1])\n",
    "val_t3 = np.add(val_t2, 1)\n",
    "t3 = Node(val_t3, np.add, [t2])\n",
    "val_y = np.divide(1, val_t3)\n",
    "y = Node(val_y, np.divide, [t3])\n",
    "print(y)"
   ]
  },
  {
   "cell_type": "code",
   "execution_count": null,
   "metadata": {},
   "outputs": [],
   "source": [
    "# basic example of adding nodes \n",
    "val_z = 1.5 \n",
    "z = Node(val_z, None, [])\n",
    "val_t1 = 4\n",
    "t1 = Node(val_t1, None, [])\n",
    "z + t1 "
   ]
  },
  {
   "cell_type": "markdown",
   "metadata": {},
   "source": [
    "Create a function to make the root node of the graph. "
   ]
  },
  {
   "cell_type": "code",
   "execution_count": null,
   "metadata": {},
   "outputs": [],
   "source": [
    "def new_root(value = None): \n",
    "    fun,parents = lambda x: x, []\n",
    "    return Node(value, fun, parents)"
   ]
  },
  {
   "cell_type": "code",
   "execution_count": null,
   "metadata": {},
   "outputs": [],
   "source": [
    "z = new_root(1.5)\n",
    "t1 = -z\n",
    "t2 = exp_new(t1)\n",
    "t3 = t2 + 1\n",
    "y = 1 / t3\n",
    "y  # holds the graph"
   ]
  },
  {
   "cell_type": "markdown",
   "metadata": {},
   "source": [
    "Now this works okay. But we are still specifying each intermediate variable. We want to get Python to build this graph for any function we like. "
   ]
  },
  {
   "cell_type": "code",
   "execution_count": null,
   "metadata": {},
   "outputs": [],
   "source": [
    "def f(z):  return 1 / (1 + exp_new(-z))"
   ]
  },
  {
   "cell_type": "code",
   "execution_count": null,
   "metadata": {},
   "outputs": [],
   "source": [
    "y = f(new_root(value = 1.5))\n",
    "y"
   ]
  },
  {
   "cell_type": "markdown",
   "metadata": {},
   "source": [
    "Sweet! It is working. "
   ]
  },
  {
   "cell_type": "markdown",
   "metadata": {},
   "source": [
    "Now try for some multivariate functions. "
   ]
  },
  {
   "cell_type": "code",
   "execution_count": null,
   "metadata": {},
   "outputs": [],
   "source": [
    "def somefun(x,y):  return (x*y + exp_new(x)*exp_new(y))/(4*y)\n",
    "def somefun2(x,y):  return (x*y + np.exp(x)*np.exp(y))/(4*y)"
   ]
  },
  {
   "cell_type": "code",
   "execution_count": null,
   "metadata": {},
   "outputs": [],
   "source": [
    "val_x, val_y = 3,4 \n",
    "somefun(new_root(3), new_root(4))"
   ]
  },
  {
   "cell_type": "code",
   "execution_count": null,
   "metadata": {},
   "outputs": [],
   "source": [
    "somefun2(3,4)"
   ]
  },
  {
   "cell_type": "markdown",
   "metadata": {},
   "source": [
    "The next bit of hackery is to get this working for all the functions in the numpy package. Then we can create our own version of numpy, import that as `np`, and don't have to worry about things like `exp_new`"
   ]
  },
  {
   "cell_type": "markdown",
   "metadata": {},
   "source": [
    "Note that we will not want to add all functions in `numpy` to the computation graph if they are invoked. For example, stuff like `asarray` or things like that...don't add those. "
   ]
  },
  {
   "cell_type": "markdown",
   "metadata": {},
   "source": [
    "## Creating a new version of numpy "
   ]
  },
  {
   "cell_type": "code",
   "execution_count": null,
   "metadata": {},
   "outputs": [],
   "source": [
    "import numpy as _np\n",
    "import types\n",
    "import pandas as pd"
   ]
  },
  {
   "cell_type": "code",
   "execution_count": null,
   "metadata": {},
   "outputs": [],
   "source": [
    "# numpy namespace\n",
    "ns_numpy = _np.__dict__\n",
    "ns_new = dict()"
   ]
  },
  {
   "cell_type": "markdown",
   "metadata": {},
   "source": [
    "What's in the namespace of `numpy`? Let's look at the type of everything: "
   ]
  },
  {
   "cell_type": "code",
   "execution_count": null,
   "metadata": {},
   "outputs": [],
   "source": [
    "pd.Series([type(o) for o in ns_numpy.values()]).value_counts()"
   ]
  },
  {
   "cell_type": "markdown",
   "metadata": {},
   "source": [
    "The main ones: `types.FunctionType`, `type`, `_np.ufunc`, `types.BuiltinFunctionType`, `int`, `types.ModuleType`, `float` and a bunch of others. "
   ]
  },
  {
   "cell_type": "markdown",
   "metadata": {},
   "source": [
    "The plan here:  \n",
    "\n",
    "a) specify what functions have gradients and what don't  \n",
    "b) create new functions by using `primitive` on functions with gradients, `notrace_primitive` on functions without. Save these new functions in the new namespace  \n",
    "c) move everything else from old to new namespace   \n",
    "d) deal with vjp's later  "
   ]
  },
  {
   "cell_type": "code",
   "execution_count": null,
   "metadata": {},
   "outputs": [],
   "source": [
    "#triage system \n",
    "\n",
    "# functions with gradients\n",
    "\n",
    "# functions without gradients \n",
    "\n"
   ]
  },
  {
   "cell_type": "code",
   "execution_count": null,
   "metadata": {},
   "outputs": [],
   "source": [
    "len(g1)\n"
   ]
  },
  {
   "cell_type": "code",
   "execution_count": null,
   "metadata": {},
   "outputs": [],
   "source": []
  },
  {
   "cell_type": "code",
   "execution_count": null,
   "metadata": {},
   "outputs": [],
   "source": []
  },
  {
   "cell_type": "code",
   "execution_count": null,
   "metadata": {},
   "outputs": [],
   "source": []
  },
  {
   "cell_type": "code",
   "execution_count": null,
   "metadata": {},
   "outputs": [],
   "source": []
  }
 ],
 "metadata": {
  "kernelspec": {
   "display_name": "Python 3",
   "language": "python",
   "name": "python3"
  }
 },
 "nbformat": 4,
 "nbformat_minor": 2
}
